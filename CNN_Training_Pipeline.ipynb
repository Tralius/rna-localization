{
 "cells": [
  {
   "attachments": {},
   "cell_type": "markdown",
   "metadata": {},
   "source": [
    "# Regular Genomics Project **RNA Localisation**\n"
   ]
  },
  {
   "cell_type": "code",
   "execution_count": 1,
   "metadata": {
    "ExecuteTime": {
     "end_time": "2023-07-12T07:01:49.505000200Z",
     "start_time": "2023-07-12T07:00:51.173360Z"
    }
   },
   "outputs": [],
   "source": [
    "from plotting import plot_line_graph\n",
    "from metrics import Pearson\n",
    "from models import CNN\n",
    "from utils import prepare_data, set_variables\n",
    "from plotting import multiplot_pearson\n",
    "import matplotlib.pyplot as plt\n",
    "from keras.callbacks import EarlyStopping"
   ]
  },
  {
   "attachments": {},
   "cell_type": "markdown",
   "metadata": {},
   "source": [
    "### **1.** Data Preparation\n",
    "\n",
    "Firstly, we import several necessary packages and load in our data:"
   ]
  },
  {
   "cell_type": "code",
   "execution_count": 2,
   "metadata": {
    "ExecuteTime": {
     "end_time": "2023-07-12T07:01:59.614909700Z",
     "start_time": "2023-07-12T07:01:49.508003700Z"
    }
   },
   "outputs": [],
   "source": [
    "train_data, valid_data, test_data = prepare_data()"
   ]
  },
  {
   "attachments": {},
   "cell_type": "markdown",
   "metadata": {},
   "source": [
    "### **2** |  Initializations\n",
    "\n",
    "We use as baseline model the [RNATracker](https://github.com/HarveyYan/RNATracker/blob/master/Models/cnn_bilstm_attention.py) model and a CNN model.\n"
   ]
  },
  {
   "cell_type": "code",
   "execution_count": 3,
   "metadata": {
    "ExecuteTime": {
     "end_time": "2023-07-12T07:01:59.620713Z",
     "start_time": "2023-07-12T07:01:59.614909700Z"
    }
   },
   "outputs": [],
   "source": [
    "max_seq_len = train_data['seq'].apply(lambda x: len(x)).max()\n"
   ]
  },
  {
   "cell_type": "code",
   "execution_count": null,
   "outputs": [],
   "source": [
    "architectures = [\"CNN_Baseline_4Conv\", \"CNN_Baseline_4Conv_Struct\"]\n",
    "\n",
    "history_list = []\n",
    "\n",
    "for arch in architectures:\n",
    "\n",
    "    model_name = arch\n",
    "    model_architecture_path, model_output_path, params_dataLoader_train, params_dataLoader_valid, params_model, params_train = set_variables(model_name, max_seq_len)\n",
    "\n",
    "    input_size = (max_seq_len, 6) if params_dataLoader_train[\"struct\"] else (max_seq_len, 4)\n",
    "\n",
    "    model = CNN(input_size=input_size,\n",
    "                params_model=params_model,\n",
    "                metrics=[Pearson(return_dict=True)]\n",
    "                )\n",
    "\n",
    "    model.print_model()\n",
    "    model.summary()\n",
    "    # model.summary() #if information about number of params needed\n",
    "\n",
    "    history = model.fit_and_evaluate(train_data=train_data, eval_data=valid_data,\n",
    "                                     params_train_dataLoader=params_dataLoader_train,\n",
    "                                     params_eval_dataLoader=params_dataLoader_valid,\n",
    "                                     params_train=params_train,\n",
    "                                     callback=[EarlyStopping(monitor='loss', patience=3)])\n",
    "\n",
    "    multiplot_pearson(history.history)\n",
    "    plt.legend(bbox_to_anchor=(1.02, 1), loc='upper left', borderaxespad=0)\n",
    "\n",
    "    plt_data = [history.history['loss'], history.history['val_loss']]\n",
    "    plot_line_graph(plt_data, \"Loss Graph\", 'loss', 'epoch', ['train', 'val'])\n",
    "\n",
    "    history_list.append(history.history)\n",
    "\n",
    "    model.print_model(model_architecture_path)\n",
    "    model.save_model(model_output_path)"
   ],
   "metadata": {
    "collapsed": false
   }
  }
 ],
 "metadata": {
  "kernelspec": {
   "display_name": "rna_localization",
   "language": "python",
   "name": "python3"
  },
  "language_info": {
   "codemirror_mode": {
    "name": "ipython",
    "version": 3
   },
   "file_extension": ".py",
   "mimetype": "text/x-python",
   "name": "python",
   "nbconvert_exporter": "python",
   "pygments_lexer": "ipython3",
   "version": "3.11.3"
  },
  "orig_nbformat": 4
 },
 "nbformat": 4,
 "nbformat_minor": 2
}
