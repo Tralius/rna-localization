{
 "cells": [
  {
   "cell_type": "code",
   "execution_count": null,
   "metadata": {},
   "outputs": [],
   "source": [
    "from keras.models import load_model\n",
    "from metrics import Pearson\n",
    "from utils import prepare_data\n",
    "import tensorflow_probability as tfp\n",
    "from metrics import pearson, Pearson\n",
    "import tensorflow as tf\n",
    "import numpy as np\n",
    "from dataloaders import GeneDataLoader\n",
    "from utils import prepare_data, set_variables\n",
    "from models import CNN\n",
    "from keras.optimizers import Nadam\n",
    "from keras.callbacks import ModelCheckpoint, EarlyStopping\n",
    "from keras.optimizers import Nadam\n",
    "from keras.losses import KLDivergence, CategoricalCrossentropy\n",
    "from plotting import plot_line_graph, multiplot_pearson\n",
    "from utils import prepare_data, set_variables\n",
    "from metrics import pearson, Pearson\n",
    "from models import CNN\n",
    "from plotting import box_plot\n",
    "import matplotlib.pyplot as plt\n",
    "from keras.callbacks import ModelCheckpoint, EarlyStopping"
   ]
  },
  {
   "cell_type": "code",
   "execution_count": null,
   "metadata": {},
   "outputs": [],
   "source": [
    "\n",
    "\n",
    "train_data, valid_data, test_data = prepare_data(colab=True)\n",
    "\n"
   ]
  },
  {
   "cell_type": "markdown",
   "metadata": {},
   "source": [
    "# LOADING model"
   ]
  },
  {
   "cell_type": "code",
   "execution_count": null,
   "metadata": {},
   "outputs": [],
   "source": [
    "max_seq_len = train_data['seq'].apply(lambda x: len(x)).max()\n",
    "model_name = \"CNN_Baseline_4Conv_Struct_ext_struct_m6a\" # \"steve_CNN_Att10\" #'CNN_architecture7'\n",
    "model_architecture_path, model_output_path, params_dataLoader_train, params_dataLoader_valid, params_model, params_train = set_variables(model_name, max_seq_len)\n"
   ]
  },
  {
   "cell_type": "code",
   "execution_count": null,
   "metadata": {},
   "outputs": [],
   "source": [
    "\n",
    "model = CNN(input_size=(max_seq_len, 6),\n",
    "            params_model=params_model,\n",
    "            optimizer=Nadam(),\n",
    "            #loss=correlation_coefficient_loss, #KLDivergence(),\n",
    "            metrics=[pearson, Pearson(name=\"class_pearson\", return_dict=True),  Pearson(name=\"class_nodict_pearson\", return_dict=False), KLDivergence(name=\"kullback_leibler_divergence\"), \"accuracy\"],\n",
    "            )\n",
    "model.print_model()"
   ]
  },
  {
   "cell_type": "code",
   "execution_count": null,
   "metadata": {},
   "outputs": [],
   "source": [
    "path = \"INPUTPATH\"\n",
    "model.load_weights(path)\n",
    "\n",
    "model = load_model('/Users/jonasflor/Downloads/Baseline_m6A.h5',\n",
    "                   custom_objects={'Pearson': Pearson})"
   ]
  },
  {
   "cell_type": "code",
   "execution_count": null,
   "metadata": {},
   "outputs": [],
   "source": [
    "dataloader = GeneDataLoader(test_data, padding_length=train_data['seq'].apply(lambda x: len(x)).max(), shuffle=False, struct=True)\n",
    "\n",
    "prediction = []\n",
    "y_test = []\n",
    "\n",
    "for i, j in dataloader:\n",
    "    i_0 = np.delete(i[0], 5, axis=2)\n",
    "    i_1 = i[1]\n",
    "    prediction.append(model.predict([i_0, i_1]))\n",
    "    y_test.append(j)\n",
    "\n",
    "prediction = np.concatenate(prediction)\n",
    "y_test = np.concatenate(y_test)"
   ]
  },
  {
   "cell_type": "code",
   "execution_count": null,
   "metadata": {},
   "outputs": [],
   "source": [
    "def pearson_dict(y_true, y_pred):\n",
    "    y_true_std = tfp.stats.stddev(y_true, sample_axis=0, keepdims=True)\n",
    "    y_pred_std = tfp.stats.stddev(y_pred, sample_axis=0, keepdims=True)\n",
    "    \n",
    "    y_true /= (y_true_std + 1e-3)\n",
    "    y_pred /= (y_pred_std + 1e-3)\n",
    "    \n",
    "    result = tfp.stats.covariance(x=y_true,\n",
    "                                y=y_pred,\n",
    "                                event_axis=None,\n",
    "                                sample_axis=0,\n",
    "                                keepdims=False)\n",
    "    res_dict = {}\n",
    "    res_dict['ERM'] = result[0]\n",
    "    res_dict['KDEL'] = result[1]\n",
    "    res_dict['LMA'] = result[2]\n",
    "    res_dict['MITO'] = result[3]\n",
    "    res_dict['NES'] = result[4]\n",
    "    res_dict['NIK'] = result[5]\n",
    "    res_dict['NLS'] = result[6]\n",
    "    res_dict['NUCP'] = result[7]\n",
    "    res_dict['OMM'] = result[8]\n",
    "    return res_dict"
   ]
  },
  {
   "cell_type": "code",
   "execution_count": null,
   "metadata": {},
   "outputs": [],
   "source": [
    "\n",
    "\n",
    "pearson_dict(y_test, prediction)\n",
    "\n"
   ]
  }
 ],
 "metadata": {
  "language_info": {
   "name": "python"
  },
  "orig_nbformat": 4
 },
 "nbformat": 4,
 "nbformat_minor": 2
}
