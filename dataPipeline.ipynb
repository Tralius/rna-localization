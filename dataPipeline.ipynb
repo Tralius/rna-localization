{
 "cells": [
  {
   "attachments": {},
   "cell_type": "markdown",
   "metadata": {},
   "source": [
    "# Regular Genomics Project **RNA Localisation**\n",
    "\n",
    "\n",
    "---\n",
    "\n",
    "**Problem definition**:\n",
    "\n",
    "TODO\n"
   ]
  },
  {
   "attachments": {},
   "cell_type": "markdown",
   "metadata": {},
   "source": [
    "### **1.** First steps with data\n",
    "\n",
    "Firstly, we import several necessary packages and load in our data:"
   ]
  },
  {
   "cell_type": "code",
   "execution_count": 1,
   "metadata": {
    "ExecuteTime": {
     "end_time": "2023-06-16T00:45:10.009836Z",
     "start_time": "2023-06-16T00:45:06.694520Z"
    }
   },
   "outputs": [],
   "source": [
    "import pandas as pd\n",
    "import numpy as np\n",
    "import itertools\n",
    "import os\n",
    "import tensorflow as tf\n",
    "import sys\n",
    "from keras.utils import to_categorical\n",
    "from collections import OrderedDict\n",
    "from sklearn.model_selection import StratifiedKFold, KFold"
   ]
  },
  {
   "cell_type": "code",
   "execution_count": 2,
   "metadata": {
    "ExecuteTime": {
     "end_time": "2023-06-16T00:45:15.160895Z",
     "start_time": "2023-06-16T00:45:12.515947700Z"
    }
   },
   "outputs": [
    {
     "data": {
      "text/plain": "             ERM       KDEL        LMA       MITO        NES        NIK  \\\n0      57.045409  35.456782  22.008215  12.355106  22.789983  24.241731   \n1       0.000000   0.000000   0.000000   0.000000   0.000000   0.000000   \n2      17.449430  34.151539  29.338431  22.237585  24.682767  43.612551   \n3       3.830180   2.576734   5.737850   0.761343   2.786808   2.784356   \n4      13.132915   8.782925  10.061390   3.012459   8.821250   6.721117   \n...          ...        ...        ...        ...        ...        ...   \n13805   0.000000   0.000000   0.506809   0.075893   0.050764   0.000000   \n13806   0.105452   0.087130   0.171187   0.016101   0.079057   0.669947   \n13807   0.037093   0.444844   0.425368   0.254467   0.323794   1.803249   \n13808   0.000000   0.519421   2.119115   0.360450   0.887939   0.345021   \n13809   0.000000   0.226187   0.000000   0.032740   0.157772   0.000000   \n\n             NLS       NUCP        OMM          gene_id    gene_biotype  \\\n0      16.970436  29.348389  54.916891  ENSG00000000003  protein_coding   \n1       0.000000   2.914814   0.244517  ENSG00000000005  protein_coding   \n2      38.683963  35.678476  25.348560  ENSG00000000419  protein_coding   \n3       3.382682   2.463676   2.819269  ENSG00000000457  protein_coding   \n4      10.827253   8.005113   6.849962  ENSG00000000460  protein_coding   \n...          ...        ...        ...              ...             ...   \n13805   0.056586   0.000000   0.000000  ENSG00000281883  protein_coding   \n13806   0.171672   0.000000   0.254546  ENSG00000282034  protein_coding   \n13807   1.435483   0.249590   0.483645  ENSG00000282827  protein_coding   \n13808   1.274465   0.741954   0.460649  ENSG00000282936  protein_coding   \n13809   0.301875   0.000000   0.016665  ENSG00000282988  protein_coding   \n\n                                                     seq  \\\n0      ACCTTGTATTAGGTATTTATTTCCACAAAAGTTTGATGCTTACAAC...   \n1      TGTGCACAGAAGTTATATACATATATGGGTATATCTATGTAACAAA...   \n2      TACTTTATGCAAAAAAAAATATACATTTATTTATAGGTCTCAATAC...   \n3      TGACTTTCAAACCATTTTAATATTTCAAATATTCCAGAACAATCCC...   \n4      AACCCGCTCGGGTCCCCTTCCACACTGTGGAAGCTTTGTTCTTTCG...   \n...                                                  ...   \n13805  GGGAAGAAAGGAGCCTGACTCTTATGATGGAATAACCACAAATCAG...   \n13806  GTGTCGGACGGCATGACAGGCAGCAATCCTGTGTCCCCTGCCTCAT...   \n13807  ATGGCGGGGACCTCCGCGCCAGGCAGCAAGAGGCGGAGCGAGCCCC...   \n13808  CTACTGGAACGCCCCCCTCAATCTAGCCTCCCCCACATAACTCTCT...   \n13809  TGGTCTATCTCCCAAGTCAAAGACTGAAGTAAAGAAAAAGGTTGCA...   \n\n                                                  struct  m6A_5UTR  m6A_CDS  \\\n0      [nan, nan, nan, nan, nan, nan, nan, nan, nan, ...         0        0   \n1      [nan, nan, nan, nan, nan, nan, nan, nan, nan, ...         0        0   \n2      [nan, nan, nan, nan, nan, nan, nan, nan, nan, ...         0        0   \n3      [nan, nan, nan, nan, nan, nan, nan, nan, nan, ...         0        9   \n4      [nan, nan, nan, nan, nan, nan, nan, nan, nan, ...         0        0   \n...                                                  ...       ...      ...   \n13805  [nan, nan, nan, nan, nan, nan, nan, nan, nan, ...         0        2   \n13806  [0.37599998712539673, 0.0, 0.07500000298023224...         0       66   \n13807  [nan, nan, nan, nan, nan, nan, nan, nan, nan, ...         0        0   \n13808  [nan, nan, nan, nan, nan, nan, nan, nan, nan, ...         0        0   \n13809  [nan, nan, nan, nan, nan, nan, nan, nan, nan, ...         0        0   \n\n       m6A_3UTR  \n0             1  \n1             0  \n2             0  \n3             5  \n4             2  \n...         ...  \n13805         1  \n13806         4  \n13807         0  \n13808         2  \n13809         0  \n\n[13810 rows x 16 columns]",
      "text/html": "<div>\n<style scoped>\n    .dataframe tbody tr th:only-of-type {\n        vertical-align: middle;\n    }\n\n    .dataframe tbody tr th {\n        vertical-align: top;\n    }\n\n    .dataframe thead th {\n        text-align: right;\n    }\n</style>\n<table border=\"1\" class=\"dataframe\">\n  <thead>\n    <tr style=\"text-align: right;\">\n      <th></th>\n      <th>ERM</th>\n      <th>KDEL</th>\n      <th>LMA</th>\n      <th>MITO</th>\n      <th>NES</th>\n      <th>NIK</th>\n      <th>NLS</th>\n      <th>NUCP</th>\n      <th>OMM</th>\n      <th>gene_id</th>\n      <th>gene_biotype</th>\n      <th>seq</th>\n      <th>struct</th>\n      <th>m6A_5UTR</th>\n      <th>m6A_CDS</th>\n      <th>m6A_3UTR</th>\n    </tr>\n  </thead>\n  <tbody>\n    <tr>\n      <th>0</th>\n      <td>57.045409</td>\n      <td>35.456782</td>\n      <td>22.008215</td>\n      <td>12.355106</td>\n      <td>22.789983</td>\n      <td>24.241731</td>\n      <td>16.970436</td>\n      <td>29.348389</td>\n      <td>54.916891</td>\n      <td>ENSG00000000003</td>\n      <td>protein_coding</td>\n      <td>ACCTTGTATTAGGTATTTATTTCCACAAAAGTTTGATGCTTACAAC...</td>\n      <td>[nan, nan, nan, nan, nan, nan, nan, nan, nan, ...</td>\n      <td>0</td>\n      <td>0</td>\n      <td>1</td>\n    </tr>\n    <tr>\n      <th>1</th>\n      <td>0.000000</td>\n      <td>0.000000</td>\n      <td>0.000000</td>\n      <td>0.000000</td>\n      <td>0.000000</td>\n      <td>0.000000</td>\n      <td>0.000000</td>\n      <td>2.914814</td>\n      <td>0.244517</td>\n      <td>ENSG00000000005</td>\n      <td>protein_coding</td>\n      <td>TGTGCACAGAAGTTATATACATATATGGGTATATCTATGTAACAAA...</td>\n      <td>[nan, nan, nan, nan, nan, nan, nan, nan, nan, ...</td>\n      <td>0</td>\n      <td>0</td>\n      <td>0</td>\n    </tr>\n    <tr>\n      <th>2</th>\n      <td>17.449430</td>\n      <td>34.151539</td>\n      <td>29.338431</td>\n      <td>22.237585</td>\n      <td>24.682767</td>\n      <td>43.612551</td>\n      <td>38.683963</td>\n      <td>35.678476</td>\n      <td>25.348560</td>\n      <td>ENSG00000000419</td>\n      <td>protein_coding</td>\n      <td>TACTTTATGCAAAAAAAAATATACATTTATTTATAGGTCTCAATAC...</td>\n      <td>[nan, nan, nan, nan, nan, nan, nan, nan, nan, ...</td>\n      <td>0</td>\n      <td>0</td>\n      <td>0</td>\n    </tr>\n    <tr>\n      <th>3</th>\n      <td>3.830180</td>\n      <td>2.576734</td>\n      <td>5.737850</td>\n      <td>0.761343</td>\n      <td>2.786808</td>\n      <td>2.784356</td>\n      <td>3.382682</td>\n      <td>2.463676</td>\n      <td>2.819269</td>\n      <td>ENSG00000000457</td>\n      <td>protein_coding</td>\n      <td>TGACTTTCAAACCATTTTAATATTTCAAATATTCCAGAACAATCCC...</td>\n      <td>[nan, nan, nan, nan, nan, nan, nan, nan, nan, ...</td>\n      <td>0</td>\n      <td>9</td>\n      <td>5</td>\n    </tr>\n    <tr>\n      <th>4</th>\n      <td>13.132915</td>\n      <td>8.782925</td>\n      <td>10.061390</td>\n      <td>3.012459</td>\n      <td>8.821250</td>\n      <td>6.721117</td>\n      <td>10.827253</td>\n      <td>8.005113</td>\n      <td>6.849962</td>\n      <td>ENSG00000000460</td>\n      <td>protein_coding</td>\n      <td>AACCCGCTCGGGTCCCCTTCCACACTGTGGAAGCTTTGTTCTTTCG...</td>\n      <td>[nan, nan, nan, nan, nan, nan, nan, nan, nan, ...</td>\n      <td>0</td>\n      <td>0</td>\n      <td>2</td>\n    </tr>\n    <tr>\n      <th>...</th>\n      <td>...</td>\n      <td>...</td>\n      <td>...</td>\n      <td>...</td>\n      <td>...</td>\n      <td>...</td>\n      <td>...</td>\n      <td>...</td>\n      <td>...</td>\n      <td>...</td>\n      <td>...</td>\n      <td>...</td>\n      <td>...</td>\n      <td>...</td>\n      <td>...</td>\n      <td>...</td>\n    </tr>\n    <tr>\n      <th>13805</th>\n      <td>0.000000</td>\n      <td>0.000000</td>\n      <td>0.506809</td>\n      <td>0.075893</td>\n      <td>0.050764</td>\n      <td>0.000000</td>\n      <td>0.056586</td>\n      <td>0.000000</td>\n      <td>0.000000</td>\n      <td>ENSG00000281883</td>\n      <td>protein_coding</td>\n      <td>GGGAAGAAAGGAGCCTGACTCTTATGATGGAATAACCACAAATCAG...</td>\n      <td>[nan, nan, nan, nan, nan, nan, nan, nan, nan, ...</td>\n      <td>0</td>\n      <td>2</td>\n      <td>1</td>\n    </tr>\n    <tr>\n      <th>13806</th>\n      <td>0.105452</td>\n      <td>0.087130</td>\n      <td>0.171187</td>\n      <td>0.016101</td>\n      <td>0.079057</td>\n      <td>0.669947</td>\n      <td>0.171672</td>\n      <td>0.000000</td>\n      <td>0.254546</td>\n      <td>ENSG00000282034</td>\n      <td>protein_coding</td>\n      <td>GTGTCGGACGGCATGACAGGCAGCAATCCTGTGTCCCCTGCCTCAT...</td>\n      <td>[0.37599998712539673, 0.0, 0.07500000298023224...</td>\n      <td>0</td>\n      <td>66</td>\n      <td>4</td>\n    </tr>\n    <tr>\n      <th>13807</th>\n      <td>0.037093</td>\n      <td>0.444844</td>\n      <td>0.425368</td>\n      <td>0.254467</td>\n      <td>0.323794</td>\n      <td>1.803249</td>\n      <td>1.435483</td>\n      <td>0.249590</td>\n      <td>0.483645</td>\n      <td>ENSG00000282827</td>\n      <td>protein_coding</td>\n      <td>ATGGCGGGGACCTCCGCGCCAGGCAGCAAGAGGCGGAGCGAGCCCC...</td>\n      <td>[nan, nan, nan, nan, nan, nan, nan, nan, nan, ...</td>\n      <td>0</td>\n      <td>0</td>\n      <td>0</td>\n    </tr>\n    <tr>\n      <th>13808</th>\n      <td>0.000000</td>\n      <td>0.519421</td>\n      <td>2.119115</td>\n      <td>0.360450</td>\n      <td>0.887939</td>\n      <td>0.345021</td>\n      <td>1.274465</td>\n      <td>0.741954</td>\n      <td>0.460649</td>\n      <td>ENSG00000282936</td>\n      <td>protein_coding</td>\n      <td>CTACTGGAACGCCCCCCTCAATCTAGCCTCCCCCACATAACTCTCT...</td>\n      <td>[nan, nan, nan, nan, nan, nan, nan, nan, nan, ...</td>\n      <td>0</td>\n      <td>0</td>\n      <td>2</td>\n    </tr>\n    <tr>\n      <th>13809</th>\n      <td>0.000000</td>\n      <td>0.226187</td>\n      <td>0.000000</td>\n      <td>0.032740</td>\n      <td>0.157772</td>\n      <td>0.000000</td>\n      <td>0.301875</td>\n      <td>0.000000</td>\n      <td>0.016665</td>\n      <td>ENSG00000282988</td>\n      <td>protein_coding</td>\n      <td>TGGTCTATCTCCCAAGTCAAAGACTGAAGTAAAGAAAAAGGTTGCA...</td>\n      <td>[nan, nan, nan, nan, nan, nan, nan, nan, nan, ...</td>\n      <td>0</td>\n      <td>0</td>\n      <td>0</td>\n    </tr>\n  </tbody>\n</table>\n<p>13810 rows × 16 columns</p>\n</div>"
     },
     "execution_count": 2,
     "metadata": {},
     "output_type": "execute_result"
    }
   ],
   "source": [
    "# Initializing test set\n",
    "np.random.seed(3)\n",
    "data_org = pd.read_csv('final_data.csv')\n",
    "test_data = data_org.sample(frac=0.1)\n",
    "train_data = data_org.drop(test_data.index)\n",
    "\n",
    "data_org"
   ]
  },
  {
   "cell_type": "code",
   "execution_count": 3,
   "metadata": {
    "ExecuteTime": {
     "end_time": "2023-06-16T00:45:16.869290200Z",
     "start_time": "2023-06-16T00:45:16.858603600Z"
    }
   },
   "outputs": [
    {
     "data": {
      "text/plain": "            ERM      KDEL       LMA      MITO       NES       NIK       NLS  \\\n0      0.207338  0.128871  0.079991  0.044906  0.082833  0.088109  0.061681   \n1      0.000000  0.000000  0.000000  0.000000  0.000000  0.000000  0.000000   \n2      0.064346  0.125935  0.108187  0.082002  0.091019  0.160823  0.142649   \n3      0.141112  0.094932  0.211394  0.028049  0.102672  0.102581  0.124625   \n4      0.172315  0.115240  0.132014  0.039526  0.115743  0.088187  0.142063   \n...         ...       ...       ...       ...       ...       ...       ...   \n13805  0.000000  0.000000  0.734451  0.109981  0.073566  0.000000  0.082002   \n13806  0.067811  0.056029  0.110082  0.010354  0.050838  0.430809  0.110393   \n13807  0.006797  0.081510  0.077941  0.046627  0.059330  0.330415  0.263028   \n13808  0.000000  0.077421  0.315861  0.053726  0.132350  0.051426  0.189963   \n13809  0.000000  0.307638  0.000000  0.044530  0.214586  0.000000  0.410580   \n\n           NUCP       OMM                                                seq  \n0      0.106670  0.199601  ACCTTGTATTAGGTATTTATTTCCACAAAAGTTTGATGCTTACAAC...  \n1      0.922605  0.077395  TGTGCACAGAAGTTATATACATATATGGGTATATCTATGTAACAAA...  \n2      0.131566  0.093474  TACTTTATGCAAAAAAAAATATACATTTATTTATAGGTCTCAATAC...  \n3      0.090767  0.103868  TGACTTTCAAACCATTTTAATATTTCAAATATTCCAGAACAATCCC...  \n4      0.105034  0.089878  AACCCGCTCGGGTCCCCTTCCACACTGTGGAAGCTTTGTTCTTTCG...  \n...         ...       ...                                                ...  \n13805  0.000000  0.000000  GGGAAGAAAGGAGCCTGACTCTTATGATGGAATAACCACAAATCAG...  \n13806  0.000000  0.163685  GTGTCGGACGGCATGACAGGCAGCAATCCTGTGTCCCCTGCCTCAT...  \n13807  0.045733  0.088620  ATGGCGGGGACCTCCGCGCCAGGCAGCAAGAGGCGGAGCGAGCCCC...  \n13808  0.110591  0.068661  CTACTGGAACGCCCCCCTCAATCTAGCCTCCCCCACATAACTCTCT...  \n13809  0.000000  0.022666  TGGTCTATCTCCCAAGTCAAAGACTGAAGTAAAGAAAAAGGTTGCA...  \n\n[13810 rows x 10 columns]",
      "text/html": "<div>\n<style scoped>\n    .dataframe tbody tr th:only-of-type {\n        vertical-align: middle;\n    }\n\n    .dataframe tbody tr th {\n        vertical-align: top;\n    }\n\n    .dataframe thead th {\n        text-align: right;\n    }\n</style>\n<table border=\"1\" class=\"dataframe\">\n  <thead>\n    <tr style=\"text-align: right;\">\n      <th></th>\n      <th>ERM</th>\n      <th>KDEL</th>\n      <th>LMA</th>\n      <th>MITO</th>\n      <th>NES</th>\n      <th>NIK</th>\n      <th>NLS</th>\n      <th>NUCP</th>\n      <th>OMM</th>\n      <th>seq</th>\n    </tr>\n  </thead>\n  <tbody>\n    <tr>\n      <th>0</th>\n      <td>0.207338</td>\n      <td>0.128871</td>\n      <td>0.079991</td>\n      <td>0.044906</td>\n      <td>0.082833</td>\n      <td>0.088109</td>\n      <td>0.061681</td>\n      <td>0.106670</td>\n      <td>0.199601</td>\n      <td>ACCTTGTATTAGGTATTTATTTCCACAAAAGTTTGATGCTTACAAC...</td>\n    </tr>\n    <tr>\n      <th>1</th>\n      <td>0.000000</td>\n      <td>0.000000</td>\n      <td>0.000000</td>\n      <td>0.000000</td>\n      <td>0.000000</td>\n      <td>0.000000</td>\n      <td>0.000000</td>\n      <td>0.922605</td>\n      <td>0.077395</td>\n      <td>TGTGCACAGAAGTTATATACATATATGGGTATATCTATGTAACAAA...</td>\n    </tr>\n    <tr>\n      <th>2</th>\n      <td>0.064346</td>\n      <td>0.125935</td>\n      <td>0.108187</td>\n      <td>0.082002</td>\n      <td>0.091019</td>\n      <td>0.160823</td>\n      <td>0.142649</td>\n      <td>0.131566</td>\n      <td>0.093474</td>\n      <td>TACTTTATGCAAAAAAAAATATACATTTATTTATAGGTCTCAATAC...</td>\n    </tr>\n    <tr>\n      <th>3</th>\n      <td>0.141112</td>\n      <td>0.094932</td>\n      <td>0.211394</td>\n      <td>0.028049</td>\n      <td>0.102672</td>\n      <td>0.102581</td>\n      <td>0.124625</td>\n      <td>0.090767</td>\n      <td>0.103868</td>\n      <td>TGACTTTCAAACCATTTTAATATTTCAAATATTCCAGAACAATCCC...</td>\n    </tr>\n    <tr>\n      <th>4</th>\n      <td>0.172315</td>\n      <td>0.115240</td>\n      <td>0.132014</td>\n      <td>0.039526</td>\n      <td>0.115743</td>\n      <td>0.088187</td>\n      <td>0.142063</td>\n      <td>0.105034</td>\n      <td>0.089878</td>\n      <td>AACCCGCTCGGGTCCCCTTCCACACTGTGGAAGCTTTGTTCTTTCG...</td>\n    </tr>\n    <tr>\n      <th>...</th>\n      <td>...</td>\n      <td>...</td>\n      <td>...</td>\n      <td>...</td>\n      <td>...</td>\n      <td>...</td>\n      <td>...</td>\n      <td>...</td>\n      <td>...</td>\n      <td>...</td>\n    </tr>\n    <tr>\n      <th>13805</th>\n      <td>0.000000</td>\n      <td>0.000000</td>\n      <td>0.734451</td>\n      <td>0.109981</td>\n      <td>0.073566</td>\n      <td>0.000000</td>\n      <td>0.082002</td>\n      <td>0.000000</td>\n      <td>0.000000</td>\n      <td>GGGAAGAAAGGAGCCTGACTCTTATGATGGAATAACCACAAATCAG...</td>\n    </tr>\n    <tr>\n      <th>13806</th>\n      <td>0.067811</td>\n      <td>0.056029</td>\n      <td>0.110082</td>\n      <td>0.010354</td>\n      <td>0.050838</td>\n      <td>0.430809</td>\n      <td>0.110393</td>\n      <td>0.000000</td>\n      <td>0.163685</td>\n      <td>GTGTCGGACGGCATGACAGGCAGCAATCCTGTGTCCCCTGCCTCAT...</td>\n    </tr>\n    <tr>\n      <th>13807</th>\n      <td>0.006797</td>\n      <td>0.081510</td>\n      <td>0.077941</td>\n      <td>0.046627</td>\n      <td>0.059330</td>\n      <td>0.330415</td>\n      <td>0.263028</td>\n      <td>0.045733</td>\n      <td>0.088620</td>\n      <td>ATGGCGGGGACCTCCGCGCCAGGCAGCAAGAGGCGGAGCGAGCCCC...</td>\n    </tr>\n    <tr>\n      <th>13808</th>\n      <td>0.000000</td>\n      <td>0.077421</td>\n      <td>0.315861</td>\n      <td>0.053726</td>\n      <td>0.132350</td>\n      <td>0.051426</td>\n      <td>0.189963</td>\n      <td>0.110591</td>\n      <td>0.068661</td>\n      <td>CTACTGGAACGCCCCCCTCAATCTAGCCTCCCCCACATAACTCTCT...</td>\n    </tr>\n    <tr>\n      <th>13809</th>\n      <td>0.000000</td>\n      <td>0.307638</td>\n      <td>0.000000</td>\n      <td>0.044530</td>\n      <td>0.214586</td>\n      <td>0.000000</td>\n      <td>0.410580</td>\n      <td>0.000000</td>\n      <td>0.022666</td>\n      <td>TGGTCTATCTCCCAAGTCAAAGACTGAAGTAAAGAAAAAGGTTGCA...</td>\n    </tr>\n  </tbody>\n</table>\n<p>13810 rows × 10 columns</p>\n</div>"
     },
     "execution_count": 3,
     "metadata": {},
     "output_type": "execute_result"
    }
   ],
   "source": [
    "sum_vec = data_org.iloc[:, :9].sum(axis=1)\n",
    "data2 = data_org.iloc[:, :9].divide(sum_vec, axis='index')\n",
    "data = pd.concat([data2, data_org['seq']], axis=1)\n",
    "data"
   ]
  },
  {
   "cell_type": "code",
   "execution_count": 4,
   "metadata": {
    "ExecuteTime": {
     "end_time": "2023-06-16T00:45:22.519847Z",
     "start_time": "2023-06-16T00:45:18.754094100Z"
    }
   },
   "outputs": [
    {
     "data": {
      "text/plain": "            ERM      KDEL       LMA      MITO       NES       NIK       NLS  \\\n0      0.207338  0.128871  0.079991  0.044906  0.082833  0.088109  0.061681   \n1      0.000000  0.000000  0.000000  0.000000  0.000000  0.000000  0.000000   \n2      0.064346  0.125935  0.108187  0.082002  0.091019  0.160823  0.142649   \n3      0.141112  0.094932  0.211394  0.028049  0.102672  0.102581  0.124625   \n4      0.172315  0.115240  0.132014  0.039526  0.115743  0.088187  0.142063   \n...         ...       ...       ...       ...       ...       ...       ...   \n13805  0.000000  0.000000  0.734451  0.109981  0.073566  0.000000  0.082002   \n13806  0.067811  0.056029  0.110082  0.010354  0.050838  0.430809  0.110393   \n13807  0.006797  0.081510  0.077941  0.046627  0.059330  0.330415  0.263028   \n13808  0.000000  0.077421  0.315861  0.053726  0.132350  0.051426  0.189963   \n13809  0.000000  0.307638  0.000000  0.044530  0.214586  0.000000  0.410580   \n\n           NUCP       OMM                                                seq  \n0      0.106670  0.199601  [[1.0, 0.0, 0.0, 0.0], [0.0, 1.0, 0.0, 0.0], [...  \n1      0.922605  0.077395  [[0.0, 0.0, 0.0, 1.0], [0.0, 0.0, 1.0, 0.0], [...  \n2      0.131566  0.093474  [[0.0, 0.0, 0.0, 1.0], [1.0, 0.0, 0.0, 0.0], [...  \n3      0.090767  0.103868  [[0.0, 0.0, 0.0, 1.0], [0.0, 0.0, 1.0, 0.0], [...  \n4      0.105034  0.089878  [[1.0, 0.0, 0.0, 0.0], [1.0, 0.0, 0.0, 0.0], [...  \n...         ...       ...                                                ...  \n13805  0.000000  0.000000  [[0.0, 0.0, 1.0, 0.0], [0.0, 0.0, 1.0, 0.0], [...  \n13806  0.000000  0.163685  [[0.0, 0.0, 1.0, 0.0], [0.0, 0.0, 0.0, 1.0], [...  \n13807  0.045733  0.088620  [[1.0, 0.0, 0.0, 0.0], [0.0, 0.0, 0.0, 1.0], [...  \n13808  0.110591  0.068661  [[0.0, 1.0, 0.0, 0.0], [0.0, 0.0, 0.0, 1.0], [...  \n13809  0.000000  0.022666  [[0.0, 0.0, 0.0, 1.0], [0.0, 0.0, 1.0, 0.0], [...  \n\n[13810 rows x 10 columns]",
      "text/html": "<div>\n<style scoped>\n    .dataframe tbody tr th:only-of-type {\n        vertical-align: middle;\n    }\n\n    .dataframe tbody tr th {\n        vertical-align: top;\n    }\n\n    .dataframe thead th {\n        text-align: right;\n    }\n</style>\n<table border=\"1\" class=\"dataframe\">\n  <thead>\n    <tr style=\"text-align: right;\">\n      <th></th>\n      <th>ERM</th>\n      <th>KDEL</th>\n      <th>LMA</th>\n      <th>MITO</th>\n      <th>NES</th>\n      <th>NIK</th>\n      <th>NLS</th>\n      <th>NUCP</th>\n      <th>OMM</th>\n      <th>seq</th>\n    </tr>\n  </thead>\n  <tbody>\n    <tr>\n      <th>0</th>\n      <td>0.207338</td>\n      <td>0.128871</td>\n      <td>0.079991</td>\n      <td>0.044906</td>\n      <td>0.082833</td>\n      <td>0.088109</td>\n      <td>0.061681</td>\n      <td>0.106670</td>\n      <td>0.199601</td>\n      <td>[[1.0, 0.0, 0.0, 0.0], [0.0, 1.0, 0.0, 0.0], [...</td>\n    </tr>\n    <tr>\n      <th>1</th>\n      <td>0.000000</td>\n      <td>0.000000</td>\n      <td>0.000000</td>\n      <td>0.000000</td>\n      <td>0.000000</td>\n      <td>0.000000</td>\n      <td>0.000000</td>\n      <td>0.922605</td>\n      <td>0.077395</td>\n      <td>[[0.0, 0.0, 0.0, 1.0], [0.0, 0.0, 1.0, 0.0], [...</td>\n    </tr>\n    <tr>\n      <th>2</th>\n      <td>0.064346</td>\n      <td>0.125935</td>\n      <td>0.108187</td>\n      <td>0.082002</td>\n      <td>0.091019</td>\n      <td>0.160823</td>\n      <td>0.142649</td>\n      <td>0.131566</td>\n      <td>0.093474</td>\n      <td>[[0.0, 0.0, 0.0, 1.0], [1.0, 0.0, 0.0, 0.0], [...</td>\n    </tr>\n    <tr>\n      <th>3</th>\n      <td>0.141112</td>\n      <td>0.094932</td>\n      <td>0.211394</td>\n      <td>0.028049</td>\n      <td>0.102672</td>\n      <td>0.102581</td>\n      <td>0.124625</td>\n      <td>0.090767</td>\n      <td>0.103868</td>\n      <td>[[0.0, 0.0, 0.0, 1.0], [0.0, 0.0, 1.0, 0.0], [...</td>\n    </tr>\n    <tr>\n      <th>4</th>\n      <td>0.172315</td>\n      <td>0.115240</td>\n      <td>0.132014</td>\n      <td>0.039526</td>\n      <td>0.115743</td>\n      <td>0.088187</td>\n      <td>0.142063</td>\n      <td>0.105034</td>\n      <td>0.089878</td>\n      <td>[[1.0, 0.0, 0.0, 0.0], [1.0, 0.0, 0.0, 0.0], [...</td>\n    </tr>\n    <tr>\n      <th>...</th>\n      <td>...</td>\n      <td>...</td>\n      <td>...</td>\n      <td>...</td>\n      <td>...</td>\n      <td>...</td>\n      <td>...</td>\n      <td>...</td>\n      <td>...</td>\n      <td>...</td>\n    </tr>\n    <tr>\n      <th>13805</th>\n      <td>0.000000</td>\n      <td>0.000000</td>\n      <td>0.734451</td>\n      <td>0.109981</td>\n      <td>0.073566</td>\n      <td>0.000000</td>\n      <td>0.082002</td>\n      <td>0.000000</td>\n      <td>0.000000</td>\n      <td>[[0.0, 0.0, 1.0, 0.0], [0.0, 0.0, 1.0, 0.0], [...</td>\n    </tr>\n    <tr>\n      <th>13806</th>\n      <td>0.067811</td>\n      <td>0.056029</td>\n      <td>0.110082</td>\n      <td>0.010354</td>\n      <td>0.050838</td>\n      <td>0.430809</td>\n      <td>0.110393</td>\n      <td>0.000000</td>\n      <td>0.163685</td>\n      <td>[[0.0, 0.0, 1.0, 0.0], [0.0, 0.0, 0.0, 1.0], [...</td>\n    </tr>\n    <tr>\n      <th>13807</th>\n      <td>0.006797</td>\n      <td>0.081510</td>\n      <td>0.077941</td>\n      <td>0.046627</td>\n      <td>0.059330</td>\n      <td>0.330415</td>\n      <td>0.263028</td>\n      <td>0.045733</td>\n      <td>0.088620</td>\n      <td>[[1.0, 0.0, 0.0, 0.0], [0.0, 0.0, 0.0, 1.0], [...</td>\n    </tr>\n    <tr>\n      <th>13808</th>\n      <td>0.000000</td>\n      <td>0.077421</td>\n      <td>0.315861</td>\n      <td>0.053726</td>\n      <td>0.132350</td>\n      <td>0.051426</td>\n      <td>0.189963</td>\n      <td>0.110591</td>\n      <td>0.068661</td>\n      <td>[[0.0, 1.0, 0.0, 0.0], [0.0, 0.0, 0.0, 1.0], [...</td>\n    </tr>\n    <tr>\n      <th>13809</th>\n      <td>0.000000</td>\n      <td>0.307638</td>\n      <td>0.000000</td>\n      <td>0.044530</td>\n      <td>0.214586</td>\n      <td>0.000000</td>\n      <td>0.410580</td>\n      <td>0.000000</td>\n      <td>0.022666</td>\n      <td>[[0.0, 0.0, 0.0, 1.0], [0.0, 0.0, 1.0, 0.0], [...</td>\n    </tr>\n  </tbody>\n</table>\n<p>13810 rows × 10 columns</p>\n</div>"
     },
     "execution_count": 4,
     "metadata": {},
     "output_type": "execute_result"
    }
   ],
   "source": [
    "# One hot encode the 'seq' attribute of the above table\n",
    "mapping = { \n",
    "            'A': 0,\n",
    "            'C': 1,\n",
    "            'G': 2,\n",
    "            'T': 3\n",
    "            }\n",
    "one_hot_encode_lam = lambda seq: to_categorical([mapping[x] for x in seq])\n",
    "data_one_hot_karas = data['seq'].apply(one_hot_encode_lam)\n",
    "\n",
    "data_one_hot_karas\n",
    "\n",
    "# Now just injecting this modified 'seq' back into the pandas frame \n",
    "data_new_karas =  pd.concat([data.iloc[:, :9], data_one_hot_karas], axis=1)\n",
    "\n",
    "data_new_karas"
   ]
  },
  {
   "attachments": {},
   "cell_type": "markdown",
   "metadata": {},
   "source": [
    "### **2** |  Importing models...\n",
    "\n",
    "We use as baseline model the [RNATracker](https://github.com/HarveyYan/RNATracker/blob/master/Models/cnn_bilstm_attention.py) model and a CNN model.\n"
   ]
  },
  {
   "cell_type": "code",
   "execution_count": 5,
   "metadata": {
    "ExecuteTime": {
     "end_time": "2023-06-16T00:45:24.561865300Z",
     "start_time": "2023-06-16T00:45:24.556803600Z"
    }
   },
   "outputs": [
    {
     "name": "stdout",
     "output_type": "stream",
     "text": [
      "Output folder already exists\n"
     ]
    }
   ],
   "source": [
    "# Import NN\n",
    "# from RNAtracker import RNATracker\n",
    "from cnn_model import CNN_MLRG\n",
    "\n",
    "# Set paths for model output\n",
    "try:\n",
    "    os.mkdir('model_outputs/')\n",
    "except Exception as e:\n",
    "    print(\"Output folder already exists\")\n",
    "\n",
    "model_output_folder = 'model_outputs/'"
   ]
  },
  {
   "cell_type": "markdown",
   "source": [
    "### SIMPLE CNN ARCHITECTURE"
   ],
   "metadata": {
    "collapsed": false
   }
  },
  {
   "cell_type": "code",
   "execution_count": 24,
   "outputs": [],
   "source": [
    "# TODO: do a normal CNN\n",
    "import keras\n",
    "from keras.layers import Conv1D, Dense, Flatten, MaxPooling1D, Dropout\n",
    "\n",
    "def compute_cnn():\n",
    "    model = keras.Sequential()\n",
    "\n",
    "    model.add(Conv1D(64, kernel_size=3, activation='relu',input_shape=(34256, 4)))\n",
    "    model.add(Dropout(.2))\n",
    "    model.add(MaxPooling1D(pool_size=2))\n",
    "    model.add(Conv1D(64, kernel_size=3, padding='same', activation='relu'))\n",
    "    model.add(Dropout(.2))\n",
    "    model.add(MaxPooling1D(pool_size=2))\n",
    "    model.add(Conv1D(64, kernel_size=3, padding='same', activation='relu'))\n",
    "    model.add(MaxPooling1D(pool_size=2))\n",
    "\n",
    "    model.add(Flatten())\n",
    "\n",
    "    model.add(Dense(9, activation=\"softmax\"))\n",
    "\n",
    "    model.compile(optimizer=\"adam\", loss=\"categorical_crossentropy\", metrics=['accuracy'])\n",
    "\n",
    "    model.summary()\n",
    "\n",
    "    return model"
   ],
   "metadata": {
    "collapsed": false,
    "ExecuteTime": {
     "end_time": "2023-06-16T00:52:59.453468400Z",
     "start_time": "2023-06-16T00:52:59.450008200Z"
    }
   }
  },
  {
   "cell_type": "code",
   "execution_count": 26,
   "metadata": {
    "ExecuteTime": {
     "end_time": "2023-06-16T00:53:57.346037100Z",
     "start_time": "2023-06-16T00:53:55.758359700Z"
    }
   },
   "outputs": [
    {
     "name": "stdout",
     "output_type": "stream",
     "text": [
      "Start training...\n",
      "Evaluating KFolds 1/5\n",
      "Model: \"sequential_5\"\n",
      "_________________________________________________________________\n",
      " Layer (type)                Output Shape              Param #   \n",
      "=================================================================\n",
      " conv1d_15 (Conv1D)          (None, 34254, 64)         832       \n",
      "                                                                 \n",
      " dropout_14 (Dropout)        (None, 34254, 64)         0         \n",
      "                                                                 \n",
      " max_pooling1d_15 (MaxPoolin  (None, 17127, 64)        0         \n",
      " g1D)                                                            \n",
      "                                                                 \n",
      " conv1d_16 (Conv1D)          (None, 17127, 64)         12352     \n",
      "                                                                 \n",
      " dropout_15 (Dropout)        (None, 17127, 64)         0         \n",
      "                                                                 \n",
      " max_pooling1d_16 (MaxPoolin  (None, 8563, 64)         0         \n",
      " g1D)                                                            \n",
      "                                                                 \n",
      " conv1d_17 (Conv1D)          (None, 8563, 64)          12352     \n",
      "                                                                 \n",
      " max_pooling1d_17 (MaxPoolin  (None, 4281, 64)         0         \n",
      " g1D)                                                            \n",
      "                                                                 \n",
      " flatten_5 (Flatten)         (None, 273984)            0         \n",
      "                                                                 \n",
      " dense_5 (Dense)             (None, 9)                 2465865   \n",
      "                                                                 \n",
      "=================================================================\n",
      "Total params: 2,491,401\n",
      "Trainable params: 2,491,401\n",
      "Non-trainable params: 0\n",
      "_________________________________________________________________\n",
      "Epoch 1/15\n"
     ]
    },
    {
     "ename": "InvalidArgumentError",
     "evalue": "Graph execution error:\n\nDetected at node 'sequential_5/dense_5/BiasAdd' defined at (most recent call last):\n    File \"<frozen runpy>\", line 198, in _run_module_as_main\n    File \"<frozen runpy>\", line 88, in _run_code\n    File \"C:\\Users\\iusti\\anaconda3\\envs\\reggen\\Lib\\site-packages\\ipykernel_launcher.py\", line 17, in <module>\n      app.launch_new_instance()\n    File \"C:\\Users\\iusti\\anaconda3\\envs\\reggen\\Lib\\site-packages\\traitlets\\config\\application.py\", line 1043, in launch_instance\n      app.start()\n    File \"C:\\Users\\iusti\\anaconda3\\envs\\reggen\\Lib\\site-packages\\ipykernel\\kernelapp.py\", line 725, in start\n      self.io_loop.start()\n    File \"C:\\Users\\iusti\\anaconda3\\envs\\reggen\\Lib\\site-packages\\tornado\\platform\\asyncio.py\", line 195, in start\n      self.asyncio_loop.run_forever()\n    File \"C:\\Users\\iusti\\anaconda3\\envs\\reggen\\Lib\\asyncio\\base_events.py\", line 607, in run_forever\n      self._run_once()\n    File \"C:\\Users\\iusti\\anaconda3\\envs\\reggen\\Lib\\asyncio\\base_events.py\", line 1922, in _run_once\n      handle._run()\n    File \"C:\\Users\\iusti\\anaconda3\\envs\\reggen\\Lib\\asyncio\\events.py\", line 80, in _run\n      self._context.run(self._callback, *self._args)\n    File \"C:\\Users\\iusti\\anaconda3\\envs\\reggen\\Lib\\site-packages\\ipykernel\\kernelbase.py\", line 513, in dispatch_queue\n      await self.process_one()\n    File \"C:\\Users\\iusti\\anaconda3\\envs\\reggen\\Lib\\site-packages\\ipykernel\\kernelbase.py\", line 502, in process_one\n      await dispatch(*args)\n    File \"C:\\Users\\iusti\\anaconda3\\envs\\reggen\\Lib\\site-packages\\ipykernel\\kernelbase.py\", line 409, in dispatch_shell\n      await result\n    File \"C:\\Users\\iusti\\anaconda3\\envs\\reggen\\Lib\\site-packages\\ipykernel\\kernelbase.py\", line 729, in execute_request\n      reply_content = await reply_content\n    File \"C:\\Users\\iusti\\anaconda3\\envs\\reggen\\Lib\\site-packages\\ipykernel\\ipkernel.py\", line 422, in do_execute\n      res = shell.run_cell(\n    File \"C:\\Users\\iusti\\anaconda3\\envs\\reggen\\Lib\\site-packages\\ipykernel\\zmqshell.py\", line 540, in run_cell\n      return super().run_cell(*args, **kwargs)\n    File \"C:\\Users\\iusti\\anaconda3\\envs\\reggen\\Lib\\site-packages\\IPython\\core\\interactiveshell.py\", line 3009, in run_cell\n      result = self._run_cell(\n    File \"C:\\Users\\iusti\\anaconda3\\envs\\reggen\\Lib\\site-packages\\IPython\\core\\interactiveshell.py\", line 3064, in _run_cell\n      result = runner(coro)\n    File \"C:\\Users\\iusti\\anaconda3\\envs\\reggen\\Lib\\site-packages\\IPython\\core\\async_helpers.py\", line 129, in _pseudo_sync_runner\n      coro.send(None)\n    File \"C:\\Users\\iusti\\anaconda3\\envs\\reggen\\Lib\\site-packages\\IPython\\core\\interactiveshell.py\", line 3269, in run_cell_async\n      has_raised = await self.run_ast_nodes(code_ast.body, cell_name,\n    File \"C:\\Users\\iusti\\anaconda3\\envs\\reggen\\Lib\\site-packages\\IPython\\core\\interactiveshell.py\", line 3448, in run_ast_nodes\n      if await self.run_code(code, result, async_=asy):\n    File \"C:\\Users\\iusti\\anaconda3\\envs\\reggen\\Lib\\site-packages\\IPython\\core\\interactiveshell.py\", line 3508, in run_code\n      exec(code_obj, self.user_global_ns, self.user_ns)\n    File \"C:\\Users\\iusti\\AppData\\Local\\Temp\\ipykernel_5420\\3859919631.py\", line 28, in <module>\n      history = model.fit(training_data_loader, epochs=15, callbacks=callbacks_list, validation_data=validation_data_loader)\n    File \"C:\\Users\\iusti\\anaconda3\\envs\\reggen\\Lib\\site-packages\\keras\\utils\\traceback_utils.py\", line 65, in error_handler\n      return fn(*args, **kwargs)\n    File \"C:\\Users\\iusti\\anaconda3\\envs\\reggen\\Lib\\site-packages\\keras\\engine\\training.py\", line 1685, in fit\n      tmp_logs = self.train_function(iterator)\n    File \"C:\\Users\\iusti\\anaconda3\\envs\\reggen\\Lib\\site-packages\\keras\\engine\\training.py\", line 1284, in train_function\n      return step_function(self, iterator)\n    File \"C:\\Users\\iusti\\anaconda3\\envs\\reggen\\Lib\\site-packages\\keras\\engine\\training.py\", line 1268, in step_function\n      outputs = model.distribute_strategy.run(run_step, args=(data,))\n    File \"C:\\Users\\iusti\\anaconda3\\envs\\reggen\\Lib\\site-packages\\keras\\engine\\training.py\", line 1249, in run_step\n      outputs = model.train_step(data)\n    File \"C:\\Users\\iusti\\anaconda3\\envs\\reggen\\Lib\\site-packages\\keras\\engine\\training.py\", line 1050, in train_step\n      y_pred = self(x, training=True)\n    File \"C:\\Users\\iusti\\anaconda3\\envs\\reggen\\Lib\\site-packages\\keras\\utils\\traceback_utils.py\", line 65, in error_handler\n      return fn(*args, **kwargs)\n    File \"C:\\Users\\iusti\\anaconda3\\envs\\reggen\\Lib\\site-packages\\keras\\engine\\training.py\", line 558, in __call__\n      return super().__call__(*args, **kwargs)\n    File \"C:\\Users\\iusti\\anaconda3\\envs\\reggen\\Lib\\site-packages\\keras\\utils\\traceback_utils.py\", line 65, in error_handler\n      return fn(*args, **kwargs)\n    File \"C:\\Users\\iusti\\anaconda3\\envs\\reggen\\Lib\\site-packages\\keras\\engine\\base_layer.py\", line 1145, in __call__\n      outputs = call_fn(inputs, *args, **kwargs)\n    File \"C:\\Users\\iusti\\anaconda3\\envs\\reggen\\Lib\\site-packages\\keras\\utils\\traceback_utils.py\", line 96, in error_handler\n      return fn(*args, **kwargs)\n    File \"C:\\Users\\iusti\\anaconda3\\envs\\reggen\\Lib\\site-packages\\keras\\engine\\sequential.py\", line 412, in call\n      return super().call(inputs, training=training, mask=mask)\n    File \"C:\\Users\\iusti\\anaconda3\\envs\\reggen\\Lib\\site-packages\\keras\\engine\\functional.py\", line 512, in call\n      return self._run_internal_graph(inputs, training=training, mask=mask)\n    File \"C:\\Users\\iusti\\anaconda3\\envs\\reggen\\Lib\\site-packages\\keras\\engine\\functional.py\", line 669, in _run_internal_graph\n      outputs = node.layer(*args, **kwargs)\n    File \"C:\\Users\\iusti\\anaconda3\\envs\\reggen\\Lib\\site-packages\\keras\\utils\\traceback_utils.py\", line 65, in error_handler\n      return fn(*args, **kwargs)\n    File \"C:\\Users\\iusti\\anaconda3\\envs\\reggen\\Lib\\site-packages\\keras\\engine\\base_layer.py\", line 1145, in __call__\n      outputs = call_fn(inputs, *args, **kwargs)\n    File \"C:\\Users\\iusti\\anaconda3\\envs\\reggen\\Lib\\site-packages\\keras\\utils\\traceback_utils.py\", line 96, in error_handler\n      return fn(*args, **kwargs)\n    File \"C:\\Users\\iusti\\anaconda3\\envs\\reggen\\Lib\\site-packages\\keras\\layers\\core\\dense.py\", line 252, in call\n      outputs = tf.nn.bias_add(outputs, self.bias)\nNode: 'sequential_5/dense_5/BiasAdd'\nMatrix size-incompatible: In[0]: [64,221952], In[1]: [273984,9]\n\t [[{{node sequential_5/dense_5/BiasAdd}}]] [Op:__inference_train_function_8152]",
     "output_type": "error",
     "traceback": [
      "\u001B[1;31m---------------------------------------------------------------------------\u001B[0m",
      "\u001B[1;31mInvalidArgumentError\u001B[0m                      Traceback (most recent call last)",
      "Cell \u001B[1;32mIn[26], line 28\u001B[0m\n\u001B[0;32m     22\u001B[0m checkpoint \u001B[38;5;241m=\u001B[39m tf\u001B[38;5;241m.\u001B[39mkeras\u001B[38;5;241m.\u001B[39mcallbacks\u001B[38;5;241m.\u001B[39mModelCheckpoint(model_output_folder \u001B[38;5;241m+\u001B[39m \u001B[38;5;124mf\u001B[39m\u001B[38;5;124m\"\u001B[39m\u001B[38;5;124mcnn\u001B[39m\u001B[38;5;132;01m{\u001B[39;00mi\u001B[38;5;132;01m}\u001B[39;00m\u001B[38;5;124m.h5\u001B[39m\u001B[38;5;124m\"\u001B[39m,\n\u001B[0;32m     23\u001B[0m                         monitor\u001B[38;5;241m=\u001B[39m\u001B[38;5;124m'\u001B[39m\u001B[38;5;124mval_accuracy\u001B[39m\u001B[38;5;124m'\u001B[39m, verbose\u001B[38;5;241m=\u001B[39m\u001B[38;5;241m1\u001B[39m,\n\u001B[0;32m     24\u001B[0m                         save_best_only\u001B[38;5;241m=\u001B[39m\u001B[38;5;28;01mTrue\u001B[39;00m, mode\u001B[38;5;241m=\u001B[39m\u001B[38;5;124m'\u001B[39m\u001B[38;5;124mmax\u001B[39m\u001B[38;5;124m'\u001B[39m)\n\u001B[0;32m     26\u001B[0m callbacks_list \u001B[38;5;241m=\u001B[39m [checkpoint]\n\u001B[1;32m---> 28\u001B[0m history \u001B[38;5;241m=\u001B[39m \u001B[43mmodel\u001B[49m\u001B[38;5;241;43m.\u001B[39;49m\u001B[43mfit\u001B[49m\u001B[43m(\u001B[49m\u001B[43mtraining_data_loader\u001B[49m\u001B[43m,\u001B[49m\u001B[43m \u001B[49m\u001B[43mepochs\u001B[49m\u001B[38;5;241;43m=\u001B[39;49m\u001B[38;5;241;43m15\u001B[39;49m\u001B[43m,\u001B[49m\u001B[43m \u001B[49m\u001B[43mcallbacks\u001B[49m\u001B[38;5;241;43m=\u001B[39;49m\u001B[43mcallbacks_list\u001B[49m\u001B[43m,\u001B[49m\u001B[43m \u001B[49m\u001B[43mvalidation_data\u001B[49m\u001B[38;5;241;43m=\u001B[39;49m\u001B[43mvalidation_data_loader\u001B[49m\u001B[43m)\u001B[49m\n\u001B[0;32m     30\u001B[0m model\u001B[38;5;241m.\u001B[39mload_weights(\u001B[38;5;124mf\u001B[39m\u001B[38;5;124m\"\u001B[39m\u001B[38;5;124mmodel_outputs/cnn\u001B[39m\u001B[38;5;132;01m{\u001B[39;00mi\u001B[38;5;132;01m}\u001B[39;00m\u001B[38;5;124m.h5\u001B[39m\u001B[38;5;124m\"\u001B[39m)\n\u001B[0;32m     32\u001B[0m results \u001B[38;5;241m=\u001B[39m model\u001B[38;5;241m.\u001B[39mevaluate(validation_data_loader)\n",
      "File \u001B[1;32m~\\anaconda3\\envs\\reggen\\Lib\\site-packages\\keras\\utils\\traceback_utils.py:70\u001B[0m, in \u001B[0;36mfilter_traceback.<locals>.error_handler\u001B[1;34m(*args, **kwargs)\u001B[0m\n\u001B[0;32m     67\u001B[0m     filtered_tb \u001B[38;5;241m=\u001B[39m _process_traceback_frames(e\u001B[38;5;241m.\u001B[39m__traceback__)\n\u001B[0;32m     68\u001B[0m     \u001B[38;5;66;03m# To get the full stack trace, call:\u001B[39;00m\n\u001B[0;32m     69\u001B[0m     \u001B[38;5;66;03m# `tf.debugging.disable_traceback_filtering()`\u001B[39;00m\n\u001B[1;32m---> 70\u001B[0m     \u001B[38;5;28;01mraise\u001B[39;00m e\u001B[38;5;241m.\u001B[39mwith_traceback(filtered_tb) \u001B[38;5;28;01mfrom\u001B[39;00m \u001B[38;5;28;01mNone\u001B[39;00m\n\u001B[0;32m     71\u001B[0m \u001B[38;5;28;01mfinally\u001B[39;00m:\n\u001B[0;32m     72\u001B[0m     \u001B[38;5;28;01mdel\u001B[39;00m filtered_tb\n",
      "File \u001B[1;32m~\\anaconda3\\envs\\reggen\\Lib\\site-packages\\tensorflow\\python\\eager\\execute.py:52\u001B[0m, in \u001B[0;36mquick_execute\u001B[1;34m(op_name, num_outputs, inputs, attrs, ctx, name)\u001B[0m\n\u001B[0;32m     50\u001B[0m \u001B[38;5;28;01mtry\u001B[39;00m:\n\u001B[0;32m     51\u001B[0m   ctx\u001B[38;5;241m.\u001B[39mensure_initialized()\n\u001B[1;32m---> 52\u001B[0m   tensors \u001B[38;5;241m=\u001B[39m pywrap_tfe\u001B[38;5;241m.\u001B[39mTFE_Py_Execute(ctx\u001B[38;5;241m.\u001B[39m_handle, device_name, op_name,\n\u001B[0;32m     53\u001B[0m                                       inputs, attrs, num_outputs)\n\u001B[0;32m     54\u001B[0m \u001B[38;5;28;01mexcept\u001B[39;00m core\u001B[38;5;241m.\u001B[39m_NotOkStatusException \u001B[38;5;28;01mas\u001B[39;00m e:\n\u001B[0;32m     55\u001B[0m   \u001B[38;5;28;01mif\u001B[39;00m name \u001B[38;5;129;01mis\u001B[39;00m \u001B[38;5;129;01mnot\u001B[39;00m \u001B[38;5;28;01mNone\u001B[39;00m:\n",
      "\u001B[1;31mInvalidArgumentError\u001B[0m: Graph execution error:\n\nDetected at node 'sequential_5/dense_5/BiasAdd' defined at (most recent call last):\n    File \"<frozen runpy>\", line 198, in _run_module_as_main\n    File \"<frozen runpy>\", line 88, in _run_code\n    File \"C:\\Users\\iusti\\anaconda3\\envs\\reggen\\Lib\\site-packages\\ipykernel_launcher.py\", line 17, in <module>\n      app.launch_new_instance()\n    File \"C:\\Users\\iusti\\anaconda3\\envs\\reggen\\Lib\\site-packages\\traitlets\\config\\application.py\", line 1043, in launch_instance\n      app.start()\n    File \"C:\\Users\\iusti\\anaconda3\\envs\\reggen\\Lib\\site-packages\\ipykernel\\kernelapp.py\", line 725, in start\n      self.io_loop.start()\n    File \"C:\\Users\\iusti\\anaconda3\\envs\\reggen\\Lib\\site-packages\\tornado\\platform\\asyncio.py\", line 195, in start\n      self.asyncio_loop.run_forever()\n    File \"C:\\Users\\iusti\\anaconda3\\envs\\reggen\\Lib\\asyncio\\base_events.py\", line 607, in run_forever\n      self._run_once()\n    File \"C:\\Users\\iusti\\anaconda3\\envs\\reggen\\Lib\\asyncio\\base_events.py\", line 1922, in _run_once\n      handle._run()\n    File \"C:\\Users\\iusti\\anaconda3\\envs\\reggen\\Lib\\asyncio\\events.py\", line 80, in _run\n      self._context.run(self._callback, *self._args)\n    File \"C:\\Users\\iusti\\anaconda3\\envs\\reggen\\Lib\\site-packages\\ipykernel\\kernelbase.py\", line 513, in dispatch_queue\n      await self.process_one()\n    File \"C:\\Users\\iusti\\anaconda3\\envs\\reggen\\Lib\\site-packages\\ipykernel\\kernelbase.py\", line 502, in process_one\n      await dispatch(*args)\n    File \"C:\\Users\\iusti\\anaconda3\\envs\\reggen\\Lib\\site-packages\\ipykernel\\kernelbase.py\", line 409, in dispatch_shell\n      await result\n    File \"C:\\Users\\iusti\\anaconda3\\envs\\reggen\\Lib\\site-packages\\ipykernel\\kernelbase.py\", line 729, in execute_request\n      reply_content = await reply_content\n    File \"C:\\Users\\iusti\\anaconda3\\envs\\reggen\\Lib\\site-packages\\ipykernel\\ipkernel.py\", line 422, in do_execute\n      res = shell.run_cell(\n    File \"C:\\Users\\iusti\\anaconda3\\envs\\reggen\\Lib\\site-packages\\ipykernel\\zmqshell.py\", line 540, in run_cell\n      return super().run_cell(*args, **kwargs)\n    File \"C:\\Users\\iusti\\anaconda3\\envs\\reggen\\Lib\\site-packages\\IPython\\core\\interactiveshell.py\", line 3009, in run_cell\n      result = self._run_cell(\n    File \"C:\\Users\\iusti\\anaconda3\\envs\\reggen\\Lib\\site-packages\\IPython\\core\\interactiveshell.py\", line 3064, in _run_cell\n      result = runner(coro)\n    File \"C:\\Users\\iusti\\anaconda3\\envs\\reggen\\Lib\\site-packages\\IPython\\core\\async_helpers.py\", line 129, in _pseudo_sync_runner\n      coro.send(None)\n    File \"C:\\Users\\iusti\\anaconda3\\envs\\reggen\\Lib\\site-packages\\IPython\\core\\interactiveshell.py\", line 3269, in run_cell_async\n      has_raised = await self.run_ast_nodes(code_ast.body, cell_name,\n    File \"C:\\Users\\iusti\\anaconda3\\envs\\reggen\\Lib\\site-packages\\IPython\\core\\interactiveshell.py\", line 3448, in run_ast_nodes\n      if await self.run_code(code, result, async_=asy):\n    File \"C:\\Users\\iusti\\anaconda3\\envs\\reggen\\Lib\\site-packages\\IPython\\core\\interactiveshell.py\", line 3508, in run_code\n      exec(code_obj, self.user_global_ns, self.user_ns)\n    File \"C:\\Users\\iusti\\AppData\\Local\\Temp\\ipykernel_5420\\3859919631.py\", line 28, in <module>\n      history = model.fit(training_data_loader, epochs=15, callbacks=callbacks_list, validation_data=validation_data_loader)\n    File \"C:\\Users\\iusti\\anaconda3\\envs\\reggen\\Lib\\site-packages\\keras\\utils\\traceback_utils.py\", line 65, in error_handler\n      return fn(*args, **kwargs)\n    File \"C:\\Users\\iusti\\anaconda3\\envs\\reggen\\Lib\\site-packages\\keras\\engine\\training.py\", line 1685, in fit\n      tmp_logs = self.train_function(iterator)\n    File \"C:\\Users\\iusti\\anaconda3\\envs\\reggen\\Lib\\site-packages\\keras\\engine\\training.py\", line 1284, in train_function\n      return step_function(self, iterator)\n    File \"C:\\Users\\iusti\\anaconda3\\envs\\reggen\\Lib\\site-packages\\keras\\engine\\training.py\", line 1268, in step_function\n      outputs = model.distribute_strategy.run(run_step, args=(data,))\n    File \"C:\\Users\\iusti\\anaconda3\\envs\\reggen\\Lib\\site-packages\\keras\\engine\\training.py\", line 1249, in run_step\n      outputs = model.train_step(data)\n    File \"C:\\Users\\iusti\\anaconda3\\envs\\reggen\\Lib\\site-packages\\keras\\engine\\training.py\", line 1050, in train_step\n      y_pred = self(x, training=True)\n    File \"C:\\Users\\iusti\\anaconda3\\envs\\reggen\\Lib\\site-packages\\keras\\utils\\traceback_utils.py\", line 65, in error_handler\n      return fn(*args, **kwargs)\n    File \"C:\\Users\\iusti\\anaconda3\\envs\\reggen\\Lib\\site-packages\\keras\\engine\\training.py\", line 558, in __call__\n      return super().__call__(*args, **kwargs)\n    File \"C:\\Users\\iusti\\anaconda3\\envs\\reggen\\Lib\\site-packages\\keras\\utils\\traceback_utils.py\", line 65, in error_handler\n      return fn(*args, **kwargs)\n    File \"C:\\Users\\iusti\\anaconda3\\envs\\reggen\\Lib\\site-packages\\keras\\engine\\base_layer.py\", line 1145, in __call__\n      outputs = call_fn(inputs, *args, **kwargs)\n    File \"C:\\Users\\iusti\\anaconda3\\envs\\reggen\\Lib\\site-packages\\keras\\utils\\traceback_utils.py\", line 96, in error_handler\n      return fn(*args, **kwargs)\n    File \"C:\\Users\\iusti\\anaconda3\\envs\\reggen\\Lib\\site-packages\\keras\\engine\\sequential.py\", line 412, in call\n      return super().call(inputs, training=training, mask=mask)\n    File \"C:\\Users\\iusti\\anaconda3\\envs\\reggen\\Lib\\site-packages\\keras\\engine\\functional.py\", line 512, in call\n      return self._run_internal_graph(inputs, training=training, mask=mask)\n    File \"C:\\Users\\iusti\\anaconda3\\envs\\reggen\\Lib\\site-packages\\keras\\engine\\functional.py\", line 669, in _run_internal_graph\n      outputs = node.layer(*args, **kwargs)\n    File \"C:\\Users\\iusti\\anaconda3\\envs\\reggen\\Lib\\site-packages\\keras\\utils\\traceback_utils.py\", line 65, in error_handler\n      return fn(*args, **kwargs)\n    File \"C:\\Users\\iusti\\anaconda3\\envs\\reggen\\Lib\\site-packages\\keras\\engine\\base_layer.py\", line 1145, in __call__\n      outputs = call_fn(inputs, *args, **kwargs)\n    File \"C:\\Users\\iusti\\anaconda3\\envs\\reggen\\Lib\\site-packages\\keras\\utils\\traceback_utils.py\", line 96, in error_handler\n      return fn(*args, **kwargs)\n    File \"C:\\Users\\iusti\\anaconda3\\envs\\reggen\\Lib\\site-packages\\keras\\layers\\core\\dense.py\", line 252, in call\n      outputs = tf.nn.bias_add(outputs, self.bias)\nNode: 'sequential_5/dense_5/BiasAdd'\nMatrix size-incompatible: In[0]: [64,221952], In[1]: [273984,9]\n\t [[{{node sequential_5/dense_5/BiasAdd}}]] [Op:__inference_train_function_8152]"
     ]
    }
   ],
   "source": [
    "VALIDATION_ACCURACY = []\n",
    "VALIDATION_LOSS = []\n",
    "\n",
    "print(\"Start training...\")\n",
    "\n",
    "from GeneDataLoader import GeneDataLoader\n",
    "\n",
    "folds_total = 5\n",
    "\n",
    "kf = KFold(n_splits=folds_total, shuffle=True, random_state=42)\n",
    "folds = kf.split(np.zeros(data_new_karas.shape[0]))\n",
    "\n",
    "for i, (train_indices, test_indices) in enumerate(folds):\n",
    "    print('Evaluating KFolds {}/{}'.format(str(i + 1), str(folds_total)))\n",
    "\n",
    "    model = compute_cnn()\n",
    "\n",
    "    training_data_loader = GeneDataLoader(data_table=data_new_karas.iloc[train_indices], batch_size=64, shuffle=True)\n",
    "\n",
    "    validation_data_loader = GeneDataLoader(data_table=data_new_karas.iloc[test_indices], batch_size=64, shuffle=True)\n",
    "\n",
    "    checkpoint = tf.keras.callbacks.ModelCheckpoint(model_output_folder + f\"cnn{i}.h5\",\n",
    "                            monitor='val_accuracy', verbose=1,\n",
    "                            save_best_only=True, mode='max')\n",
    "\n",
    "    callbacks_list = [checkpoint]\n",
    "\n",
    "    history = model.fit(training_data_loader, epochs=15, callbacks=callbacks_list, validation_data=validation_data_loader)\n",
    "\n",
    "    model.load_weights(f\"model_outputs/cnn{i}.h5\")\n",
    "\n",
    "    results = model.evaluate(validation_data_loader)\n",
    "    results = dict(zip(model.metrics_names,results))\n",
    "\n",
    "    VALIDATION_ACCURACY.append(results['accuracy'])\n",
    "    VALIDATION_LOSS.append(results['loss'])\n",
    "\n",
    "    tf.keras.backend.clear_session()\n",
    "\n",
    "print(\"Training done!\")"
   ]
  }
 ],
 "metadata": {
  "kernelspec": {
   "display_name": "rna_localization",
   "language": "python",
   "name": "python3"
  },
  "language_info": {
   "codemirror_mode": {
    "name": "ipython",
    "version": 3
   },
   "file_extension": ".py",
   "mimetype": "text/x-python",
   "name": "python",
   "nbconvert_exporter": "python",
   "pygments_lexer": "ipython3",
   "version": "3.11.3"
  },
  "orig_nbformat": 4
 },
 "nbformat": 4,
 "nbformat_minor": 2
}
