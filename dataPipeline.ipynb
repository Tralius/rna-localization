{
 "cells": [
  {
   "attachments": {},
   "cell_type": "markdown",
   "metadata": {},
   "source": [
    "# Regular Genomics Project **RNA Localisation**\n",
    "\n",
    "\n",
    "---\n",
    "\n",
    "**Problem definition**:\n",
    "\n",
    "TODO\n"
   ]
  },
  {
   "attachments": {},
   "cell_type": "markdown",
   "metadata": {},
   "source": [
    "### **1.** Data Preparation\n",
    "\n",
    "Firstly, we import several necessary packages and load in our data:"
   ]
  },
  {
   "cell_type": "code",
   "execution_count": 1,
   "metadata": {
    "ExecuteTime": {
     "end_time": "2023-06-15T19:22:50.168247100Z",
     "start_time": "2023-06-15T19:22:38.639827Z"
    }
   },
   "outputs": [],
   "source": [
    "import pandas as pd\n",
    "import numpy as np\n",
    "from sklearn.model_selection import KFold"
   ]
  },
  {
   "cell_type": "code",
   "execution_count": 2,
   "metadata": {
    "ExecuteTime": {
     "end_time": "2023-06-15T19:24:03.901765100Z",
     "start_time": "2023-06-15T19:24:00.249684300Z"
    }
   },
   "outputs": [],
   "source": [
    "# Initializing test/train split\n",
    "np.random.seed(3)\n",
    "data_org = pd.read_csv(r'C:\\Users\\jonas\\Downloads\\final_data.csv')\n",
    "test_data = data_org.sample(frac=0.1)\n",
    "train_data = data_org.drop(test_data.index)"
   ]
  },
  {
   "attachments": {},
   "cell_type": "markdown",
   "metadata": {},
   "source": [
    "### **2** |  Initializations\n",
    "\n",
    "We use as baseline model the [RNATracker](https://github.com/HarveyYan/RNATracker/blob/master/Models/cnn_bilstm_attention.py) model and a CNN model.\n"
   ]
  },
  {
   "cell_type": "code",
   "execution_count": 3,
   "metadata": {},
   "outputs": [],
   "source": [
    "# DataLoader\n",
    "param_dataLoader_train = {\n",
    "    \"batch_size_train\": 32,\n",
    "    \"shuffle_batch_train\": True\n",
    "    }\n",
    "\n",
    "param_dataLoader_valid = {\n",
    "    \"batch_size_valid\": 32,\n",
    "    \"shuffle_batch_valid\": True\n",
    "    }\n",
    "\n",
    "# KFold\n",
    "param_KFold = {\n",
    "    \"n_splits\": 5,\n",
    "    \"shuffle\": True\n",
    "    }\n",
    "\n",
    "# Model Parameter\n",
    "param_model = {\n",
    "    #'optimizer': 'adam'\n",
    "    #'loss':\n",
    "    #'metrics':\n",
    "}"
   ]
  },
  {
   "cell_type": "code",
   "execution_count": 4,
   "metadata": {
    "collapsed": false
   },
   "outputs": [],
   "source": [
    "# Splitting for 5fold\n",
    "\n",
    "kf = KFold(**param_KFold)\n",
    "folds = kf.split(train_data)"
   ]
  },
  {
   "cell_type": "code",
   "execution_count": 6,
   "metadata": {},
   "outputs": [
    {
     "name": "stdout",
     "output_type": "stream",
     "text": [
      "  5/311 [..............................] - ETA: 19:58 - loss: 5.4987 - accuracy: 0.1187"
     ]
    }
   ],
   "source": [
    "# training\n",
    "from CNN import CNN\n",
    "\n",
    "VALIDATION_ACCURACY = []\n",
    "VALIDATION_LOSS = []\n",
    "\n",
    "for i, (train_split, valid_split) in enumerate(folds):\n",
    "    model = CNN(train_data=train_data.iloc[train_split],\n",
    "                valid_data=train_data.iloc[valid_split],\n",
    "                architecure='dcmcdmcmfe', \n",
    "                dropouts=[.2, .2], \n",
    "                pooling=[2, 2, 2], \n",
    "                conv=[{'filters': 64, 'kernel_size': 3, 'activation': 'relu', 'input_shape': (train_data['seq'].apply(lambda x: len(x)).max(), 4)},\n",
    "                      {'filters': 64, 'kernel_size': 3, 'activation': 'relu', 'padding': 'same'},\n",
    "                      {'filters': 64, 'kernel_size': 3, 'activation': 'relu', 'padding': 'same'}],\n",
    "                dense=[{'units': 9, 'activation': 'softmax'}],\n",
    "                **param_model, **param_dataLoader_train, **param_dataLoader_valid)     #initialize the model\n",
    "\n",
    "    model.fit()\n",
    "    results = model.evaluate()\n",
    "    results = dict(zip(model.metrics_names, results))\n",
    "\n",
    "    VALIDATION_ACCURACY.append(results['accuracy'])\n",
    "    VALIDATION_LOSS.append(results['loss'])"
   ]
  },
  {
   "cell_type": "code",
   "execution_count": null,
   "metadata": {},
   "outputs": [],
   "source": []
  }
 ],
 "metadata": {
  "kernelspec": {
   "display_name": "rna_localization",
   "language": "python",
   "name": "python3"
  },
  "language_info": {
   "codemirror_mode": {
    "name": "ipython",
    "version": 3
   },
   "file_extension": ".py",
   "mimetype": "text/x-python",
   "name": "python",
   "nbconvert_exporter": "python",
   "pygments_lexer": "ipython3",
   "version": "3.11.3"
  },
  "orig_nbformat": 4
 },
 "nbformat": 4,
 "nbformat_minor": 2
}
