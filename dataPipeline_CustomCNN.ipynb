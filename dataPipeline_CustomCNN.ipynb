{
 "cells": [
  {
   "attachments": {},
   "cell_type": "markdown",
   "metadata": {},
   "source": [
    "# Regular Genomics Project **RNA Localisation**\n",
    "\n",
    "\n",
    "---\n",
    "\n",
    "**Problem definition**:\n",
    "\n",
    "TODO\n"
   ]
  },
  {
   "attachments": {},
   "cell_type": "markdown",
   "metadata": {},
   "source": [
    "### **1.** Data Preparation\n",
    "\n",
    "Firstly, we import several necessary packages and load in our data:"
   ]
  },
  {
   "cell_type": "code",
   "execution_count": 9,
   "outputs": [],
   "source": [
    "import pandas as pd\n",
    "import numpy as np\n",
    "import keras\n",
    "# training, only need for the model initialization to change in general\n",
    "from models import CNN\n",
    "from utils import read_model_file, extractY\n",
    "from plotting import plot_line_graph, box_plot, roc_curve_plot, scatter_plot, bar_plot\n",
    "from metrics import pearson\n",
    "from sklearn.model_selection import train_test_split\n",
    "from keras.optimizers import Adam, Nadam, SGD\n",
    "from keras.losses import KLDivergence, CategoricalCrossentropy\n",
    "import datetime"
   ],
   "metadata": {
    "collapsed": false,
    "ExecuteTime": {
     "end_time": "2023-07-04T22:20:58.856426200Z",
     "start_time": "2023-07-04T22:20:58.854141900Z"
    }
   }
  },
  {
   "attachments": {},
   "cell_type": "markdown",
   "metadata": {},
   "source": [
    "### **2** |  Initializations\n",
    "\n",
    "We use as baseline model the [RNATracker](https://github.com/HarveyYan/RNATracker/blob/master/Models/cnn_bilstm_attention.py) model and a CNN model.\n"
   ]
  },
  {
   "cell_type": "code",
   "execution_count": null,
   "outputs": [],
   "source": [
    "models = [\"CNN_architecture4_Iusti_Padded.yaml\", \"CNN_architecture5_Iusti_Padded.yaml\", \"CNN_architecture6_Iusti_Padded.yaml\", \"CNN_architecture7_Iusti_Padded.yaml\", \"CNN_architecture8_Iusti_Padded.yaml\"]\n",
    "\n",
    "names = [\"CNN_architecture4_Iusti_Padded\", \"CNN_architecture5_Iusti_Padded\", \"CNN_architecture6_Iusti_Padded\", \"CNN_architecture7_Iusti_Padded\", \"CNN_architecture8_Iusti_Padded\"]\n",
    "\n",
    "plot_output_paths = names\n",
    "model_architecture_visualizations =names\n",
    "model_outputs = names\n",
    "\n",
    "datasets = [\"APEX_SEQ\"]\n",
    "\n",
    "for dataset in datasets:\n",
    "    np.random.seed(3)\n",
    "    data_org = pd.read_csv(f'datasets/{dataset}.csv')\n",
    "    test_data = data_org.sample(frac=0.1)\n",
    "    train_data = data_org.drop(test_data.index) # TODO: note: we also have to preprocess the test set similary\n",
    "\n",
    "    # 80/20 split\n",
    "    train_split, valid_split = train_test_split(train_data, random_state=42, test_size=0.2)\n",
    "\n",
    "    for i in range(0, len(models)):\n",
    "\n",
    "        max_seq_len = train_data['seq'].apply(lambda x: len(x)).max()\n",
    "        truncate_len = 4000\n",
    "        # MODEL\n",
    "        model_path = f\"model_architectures/{models[i]}\"\n",
    "\n",
    "        # Path where to save viz\n",
    "        model_architecture_path = f\"model_architecture_viz/{model_architecture_visualizations[i]}.png\"\n",
    "\n",
    "        params_dict = read_model_file(model_path, max_seq_len, truncate_len)\n",
    "        param_dataLoader_valid = params_dict['param_dataLoader_valid']\n",
    "        param_dataLoader_train = params_dict['param_dataLoader_train']\n",
    "        params_model = params_dict['params_model']\n",
    "        params_train = params_dict['params_train']\n",
    "\n",
    "        if param_dataLoader_valid[\"truncate\"]:\n",
    "            input_size =(truncate_len, 4)\n",
    "        else:\n",
    "            input_size =(max_seq_len, 4)\n",
    "\n",
    "        model = CNN(\n",
    "                    input_size=input_size,\n",
    "                    optimizer=Nadam(),\n",
    "                    loss=KLDivergence(name=\"kullback_leibler_divergence\"),\n",
    "                    params_model=params_model,\n",
    "                    metrics=[pearson]\n",
    "                    )\n",
    "\n",
    "\n",
    "        history = model.fit_and_evaluate(train_data=train_split, eval_data=valid_split,\n",
    "                                         callback=keras.callbacks.EarlyStopping(monitor=\"val_loss\"),\n",
    "                                         params_train_dataLoader=param_dataLoader_train,\n",
    "                                         params_eval_dataLoader=param_dataLoader_valid,\n",
    "                                         params_train=params_train)\n",
    "\n",
    "        model.print_model(model_architecture_path)\n",
    "\n",
    "        time_date = datetime.datetime.now().date()\n",
    "\n",
    "        model_output = f\"model_outputs/{model_outputs[i]}_{time_date}.h5\"\n",
    "\n",
    "        model.save_model(model_output)\n",
    "\n",
    "        # print(history.history)\n",
    "\n",
    "        plt_data = [history.history['loss'], history.history['val_loss']]\n",
    "        plot_line_graph(plt_data, \"Loss Graph\", 'loss', 'epoch', ['train', 'val'])\n",
    "\n",
    "        # save_plot(f\"plots/{dataset}_{plot_output_paths[i]}_loss.png\")\n",
    "\n",
    "        #plt_data = [history.history['categorical_accuracy'], history.history['val_categorical_accuracy']]\n",
    "        #plot_line_graph(plt_data, \"Accuracy Graph\", 'accuracy', 'epoch', ['train', 'val'])\n",
    "\n",
    "        # save_plot(f\"plots/{dataset}_{plot_output_paths[i]}_acc.png\")\n",
    "\n",
    "        plt_data = [history.history['pearson'], history.history['val_pearson']]\n",
    "        plot_line_graph(plt_data, \"Correlation Graph\", 'tf_pearson', 'epoch', ['train', 'val'])\n",
    "\n",
    "        pred_data = model.predict(test_data, params_dataLoader=param_dataLoader_valid)\n",
    "        testY = extractY(test_data)\n",
    "\n",
    "        bar_plot(testY, pred_data, \"pearson\")\n",
    "\n"
   ],
   "metadata": {
    "collapsed": false
   }
  },
  {
   "cell_type": "code",
   "execution_count": null,
   "outputs": [],
   "source": [
    "pred_data = model.predict(test_data, params_dataLoader=param_dataLoader_valid)\n",
    "testY = extractY(test_data)"
   ],
   "metadata": {
    "collapsed": false
   }
  },
  {
   "cell_type": "code",
   "execution_count": null,
   "outputs": [],
   "source": [
    "roc_curve_plot(testY, pred_data)"
   ],
   "metadata": {
    "collapsed": false
   }
  },
  {
   "cell_type": "code",
   "execution_count": null,
   "outputs": [],
   "source": [
    "scatter_plot(testY, pred_data)"
   ],
   "metadata": {
    "collapsed": false
   }
  },
  {
   "cell_type": "code",
   "execution_count": null,
   "outputs": [],
   "source": [
    "bar_plot(testY, pred_data, \"pearson\")"
   ],
   "metadata": {
    "collapsed": false
   }
  }
 ],
 "metadata": {
  "kernelspec": {
   "display_name": "rna_localization",
   "language": "python",
   "name": "python3"
  },
  "language_info": {
   "codemirror_mode": {
    "name": "ipython",
    "version": 3
   },
   "file_extension": ".py",
   "mimetype": "text/x-python",
   "name": "python",
   "nbconvert_exporter": "python",
   "pygments_lexer": "ipython3",
   "version": "3.11.3"
  },
  "orig_nbformat": 4
 },
 "nbformat": 4,
 "nbformat_minor": 2
}
