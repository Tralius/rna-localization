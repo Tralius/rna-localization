{
 "cells": [
  {
   "attachments": {},
   "cell_type": "markdown",
   "metadata": {},
   "source": [
    "# Regular Genomics Project **RNA Localisation**\n",
    "\n",
    "\n",
    "---\n",
    "\n",
    "**Problem definition**:\n",
    "\n",
    "TODO\n"
   ]
  },
  {
   "attachments": {},
   "cell_type": "markdown",
   "metadata": {},
   "source": [
    "### **1.** Data Preparation\n",
    "\n",
    "Firstly, we import several necessary packages and load in our data:"
   ]
  },
  {
   "cell_type": "code",
   "execution_count": 16,
   "metadata": {
    "ExecuteTime": {
     "end_time": "2023-06-21T22:52:28.132625600Z",
     "start_time": "2023-06-21T22:52:28.131621300Z"
    }
   },
   "outputs": [],
   "source": [
    "import pandas as pd\n",
    "import numpy as np\n",
    "import matplotlib.pyplot as plt\n",
    "from notes.utils import read_model_file\n",
    "from sklearn.model_selection import KFold, train_test_split\n",
    "from keras.callbacks import EarlyStopping\n",
    "import datetime"
   ]
  },
  {
   "cell_type": "code",
   "execution_count": 17,
   "metadata": {
    "ExecuteTime": {
     "end_time": "2023-06-21T22:52:32.383986200Z",
     "start_time": "2023-06-21T22:52:29.675033800Z"
    }
   },
   "outputs": [
    {
     "data": {
      "text/plain": "             ERM       KDEL        LMA       MITO        NES        NIK  \\\n0      57.045409  35.456782  22.008215  12.355106  22.789983  24.241731   \n1       0.000000   0.000000   0.000000   0.000000   0.000000   0.000000   \n2      17.449430  34.151539  29.338431  22.237585  24.682767  43.612551   \n3       3.830180   2.576734   5.737850   0.761343   2.786808   2.784356   \n4      13.132915   8.782925  10.061390   3.012459   8.821250   6.721117   \n...          ...        ...        ...        ...        ...        ...   \n13805   0.000000   0.000000   0.506809   0.075893   0.050764   0.000000   \n13806   0.105452   0.087130   0.171187   0.016101   0.079057   0.669947   \n13807   0.037093   0.444844   0.425368   0.254467   0.323794   1.803249   \n13808   0.000000   0.519421   2.119115   0.360450   0.887939   0.345021   \n13809   0.000000   0.226187   0.000000   0.032740   0.157772   0.000000   \n\n             NLS       NUCP        OMM          gene_id    gene_biotype  \\\n0      16.970436  29.348389  54.916891  ENSG00000000003  protein_coding   \n1       0.000000   2.914814   0.244517  ENSG00000000005  protein_coding   \n2      38.683963  35.678476  25.348560  ENSG00000000419  protein_coding   \n3       3.382682   2.463676   2.819269  ENSG00000000457  protein_coding   \n4      10.827253   8.005113   6.849962  ENSG00000000460  protein_coding   \n...          ...        ...        ...              ...             ...   \n13805   0.056586   0.000000   0.000000  ENSG00000281883  protein_coding   \n13806   0.171672   0.000000   0.254546  ENSG00000282034  protein_coding   \n13807   1.435483   0.249590   0.483645  ENSG00000282827  protein_coding   \n13808   1.274465   0.741954   0.460649  ENSG00000282936  protein_coding   \n13809   0.301875   0.000000   0.016665  ENSG00000282988  protein_coding   \n\n                                                     seq  \\\n0      ACCTTGTATTAGGTATTTATTTCCACAAAAGTTTGATGCTTACAAC...   \n1      TGTGCACAGAAGTTATATACATATATGGGTATATCTATGTAACAAA...   \n2      TACTTTATGCAAAAAAAAATATACATTTATTTATAGGTCTCAATAC...   \n3      TGACTTTCAAACCATTTTAATATTTCAAATATTCCAGAACAATCCC...   \n4      AACCCGCTCGGGTCCCCTTCCACACTGTGGAAGCTTTGTTCTTTCG...   \n...                                                  ...   \n13805  GGGAAGAAAGGAGCCTGACTCTTATGATGGAATAACCACAAATCAG...   \n13806  GTGTCGGACGGCATGACAGGCAGCAATCCTGTGTCCCCTGCCTCAT...   \n13807  ATGGCGGGGACCTCCGCGCCAGGCAGCAAGAGGCGGAGCGAGCCCC...   \n13808  CTACTGGAACGCCCCCCTCAATCTAGCCTCCCCCACATAACTCTCT...   \n13809  TGGTCTATCTCCCAAGTCAAAGACTGAAGTAAAGAAAAAGGTTGCA...   \n\n                                                  struct  m6A_5UTR  m6A_CDS  \\\n0      [nan, nan, nan, nan, nan, nan, nan, nan, nan, ...         0        0   \n1      [nan, nan, nan, nan, nan, nan, nan, nan, nan, ...         0        0   \n2      [nan, nan, nan, nan, nan, nan, nan, nan, nan, ...         0        0   \n3      [nan, nan, nan, nan, nan, nan, nan, nan, nan, ...         0        9   \n4      [nan, nan, nan, nan, nan, nan, nan, nan, nan, ...         0        0   \n...                                                  ...       ...      ...   \n13805  [nan, nan, nan, nan, nan, nan, nan, nan, nan, ...         0        2   \n13806  [0.37599998712539673, 0.0, 0.07500000298023224...         0       66   \n13807  [nan, nan, nan, nan, nan, nan, nan, nan, nan, ...         0        0   \n13808  [nan, nan, nan, nan, nan, nan, nan, nan, nan, ...         0        0   \n13809  [nan, nan, nan, nan, nan, nan, nan, nan, nan, ...         0        0   \n\n       m6A_3UTR  \n0             1  \n1             0  \n2             0  \n3             5  \n4             2  \n...         ...  \n13805         1  \n13806         4  \n13807         0  \n13808         2  \n13809         0  \n\n[13810 rows x 16 columns]",
      "text/html": "<div>\n<style scoped>\n    .dataframe tbody tr th:only-of-type {\n        vertical-align: middle;\n    }\n\n    .dataframe tbody tr th {\n        vertical-align: top;\n    }\n\n    .dataframe thead th {\n        text-align: right;\n    }\n</style>\n<table border=\"1\" class=\"dataframe\">\n  <thead>\n    <tr style=\"text-align: right;\">\n      <th></th>\n      <th>ERM</th>\n      <th>KDEL</th>\n      <th>LMA</th>\n      <th>MITO</th>\n      <th>NES</th>\n      <th>NIK</th>\n      <th>NLS</th>\n      <th>NUCP</th>\n      <th>OMM</th>\n      <th>gene_id</th>\n      <th>gene_biotype</th>\n      <th>seq</th>\n      <th>struct</th>\n      <th>m6A_5UTR</th>\n      <th>m6A_CDS</th>\n      <th>m6A_3UTR</th>\n    </tr>\n  </thead>\n  <tbody>\n    <tr>\n      <th>0</th>\n      <td>57.045409</td>\n      <td>35.456782</td>\n      <td>22.008215</td>\n      <td>12.355106</td>\n      <td>22.789983</td>\n      <td>24.241731</td>\n      <td>16.970436</td>\n      <td>29.348389</td>\n      <td>54.916891</td>\n      <td>ENSG00000000003</td>\n      <td>protein_coding</td>\n      <td>ACCTTGTATTAGGTATTTATTTCCACAAAAGTTTGATGCTTACAAC...</td>\n      <td>[nan, nan, nan, nan, nan, nan, nan, nan, nan, ...</td>\n      <td>0</td>\n      <td>0</td>\n      <td>1</td>\n    </tr>\n    <tr>\n      <th>1</th>\n      <td>0.000000</td>\n      <td>0.000000</td>\n      <td>0.000000</td>\n      <td>0.000000</td>\n      <td>0.000000</td>\n      <td>0.000000</td>\n      <td>0.000000</td>\n      <td>2.914814</td>\n      <td>0.244517</td>\n      <td>ENSG00000000005</td>\n      <td>protein_coding</td>\n      <td>TGTGCACAGAAGTTATATACATATATGGGTATATCTATGTAACAAA...</td>\n      <td>[nan, nan, nan, nan, nan, nan, nan, nan, nan, ...</td>\n      <td>0</td>\n      <td>0</td>\n      <td>0</td>\n    </tr>\n    <tr>\n      <th>2</th>\n      <td>17.449430</td>\n      <td>34.151539</td>\n      <td>29.338431</td>\n      <td>22.237585</td>\n      <td>24.682767</td>\n      <td>43.612551</td>\n      <td>38.683963</td>\n      <td>35.678476</td>\n      <td>25.348560</td>\n      <td>ENSG00000000419</td>\n      <td>protein_coding</td>\n      <td>TACTTTATGCAAAAAAAAATATACATTTATTTATAGGTCTCAATAC...</td>\n      <td>[nan, nan, nan, nan, nan, nan, nan, nan, nan, ...</td>\n      <td>0</td>\n      <td>0</td>\n      <td>0</td>\n    </tr>\n    <tr>\n      <th>3</th>\n      <td>3.830180</td>\n      <td>2.576734</td>\n      <td>5.737850</td>\n      <td>0.761343</td>\n      <td>2.786808</td>\n      <td>2.784356</td>\n      <td>3.382682</td>\n      <td>2.463676</td>\n      <td>2.819269</td>\n      <td>ENSG00000000457</td>\n      <td>protein_coding</td>\n      <td>TGACTTTCAAACCATTTTAATATTTCAAATATTCCAGAACAATCCC...</td>\n      <td>[nan, nan, nan, nan, nan, nan, nan, nan, nan, ...</td>\n      <td>0</td>\n      <td>9</td>\n      <td>5</td>\n    </tr>\n    <tr>\n      <th>4</th>\n      <td>13.132915</td>\n      <td>8.782925</td>\n      <td>10.061390</td>\n      <td>3.012459</td>\n      <td>8.821250</td>\n      <td>6.721117</td>\n      <td>10.827253</td>\n      <td>8.005113</td>\n      <td>6.849962</td>\n      <td>ENSG00000000460</td>\n      <td>protein_coding</td>\n      <td>AACCCGCTCGGGTCCCCTTCCACACTGTGGAAGCTTTGTTCTTTCG...</td>\n      <td>[nan, nan, nan, nan, nan, nan, nan, nan, nan, ...</td>\n      <td>0</td>\n      <td>0</td>\n      <td>2</td>\n    </tr>\n    <tr>\n      <th>...</th>\n      <td>...</td>\n      <td>...</td>\n      <td>...</td>\n      <td>...</td>\n      <td>...</td>\n      <td>...</td>\n      <td>...</td>\n      <td>...</td>\n      <td>...</td>\n      <td>...</td>\n      <td>...</td>\n      <td>...</td>\n      <td>...</td>\n      <td>...</td>\n      <td>...</td>\n      <td>...</td>\n    </tr>\n    <tr>\n      <th>13805</th>\n      <td>0.000000</td>\n      <td>0.000000</td>\n      <td>0.506809</td>\n      <td>0.075893</td>\n      <td>0.050764</td>\n      <td>0.000000</td>\n      <td>0.056586</td>\n      <td>0.000000</td>\n      <td>0.000000</td>\n      <td>ENSG00000281883</td>\n      <td>protein_coding</td>\n      <td>GGGAAGAAAGGAGCCTGACTCTTATGATGGAATAACCACAAATCAG...</td>\n      <td>[nan, nan, nan, nan, nan, nan, nan, nan, nan, ...</td>\n      <td>0</td>\n      <td>2</td>\n      <td>1</td>\n    </tr>\n    <tr>\n      <th>13806</th>\n      <td>0.105452</td>\n      <td>0.087130</td>\n      <td>0.171187</td>\n      <td>0.016101</td>\n      <td>0.079057</td>\n      <td>0.669947</td>\n      <td>0.171672</td>\n      <td>0.000000</td>\n      <td>0.254546</td>\n      <td>ENSG00000282034</td>\n      <td>protein_coding</td>\n      <td>GTGTCGGACGGCATGACAGGCAGCAATCCTGTGTCCCCTGCCTCAT...</td>\n      <td>[0.37599998712539673, 0.0, 0.07500000298023224...</td>\n      <td>0</td>\n      <td>66</td>\n      <td>4</td>\n    </tr>\n    <tr>\n      <th>13807</th>\n      <td>0.037093</td>\n      <td>0.444844</td>\n      <td>0.425368</td>\n      <td>0.254467</td>\n      <td>0.323794</td>\n      <td>1.803249</td>\n      <td>1.435483</td>\n      <td>0.249590</td>\n      <td>0.483645</td>\n      <td>ENSG00000282827</td>\n      <td>protein_coding</td>\n      <td>ATGGCGGGGACCTCCGCGCCAGGCAGCAAGAGGCGGAGCGAGCCCC...</td>\n      <td>[nan, nan, nan, nan, nan, nan, nan, nan, nan, ...</td>\n      <td>0</td>\n      <td>0</td>\n      <td>0</td>\n    </tr>\n    <tr>\n      <th>13808</th>\n      <td>0.000000</td>\n      <td>0.519421</td>\n      <td>2.119115</td>\n      <td>0.360450</td>\n      <td>0.887939</td>\n      <td>0.345021</td>\n      <td>1.274465</td>\n      <td>0.741954</td>\n      <td>0.460649</td>\n      <td>ENSG00000282936</td>\n      <td>protein_coding</td>\n      <td>CTACTGGAACGCCCCCCTCAATCTAGCCTCCCCCACATAACTCTCT...</td>\n      <td>[nan, nan, nan, nan, nan, nan, nan, nan, nan, ...</td>\n      <td>0</td>\n      <td>0</td>\n      <td>2</td>\n    </tr>\n    <tr>\n      <th>13809</th>\n      <td>0.000000</td>\n      <td>0.226187</td>\n      <td>0.000000</td>\n      <td>0.032740</td>\n      <td>0.157772</td>\n      <td>0.000000</td>\n      <td>0.301875</td>\n      <td>0.000000</td>\n      <td>0.016665</td>\n      <td>ENSG00000282988</td>\n      <td>protein_coding</td>\n      <td>TGGTCTATCTCCCAAGTCAAAGACTGAAGTAAAGAAAAAGGTTGCA...</td>\n      <td>[nan, nan, nan, nan, nan, nan, nan, nan, nan, ...</td>\n      <td>0</td>\n      <td>0</td>\n      <td>0</td>\n    </tr>\n  </tbody>\n</table>\n<p>13810 rows × 16 columns</p>\n</div>"
     },
     "execution_count": 17,
     "metadata": {},
     "output_type": "execute_result"
    }
   ],
   "source": [
    "# Initializing test/train split\n",
    "\n",
    "\n",
    "colab = False  #### Set colab flag ####\n",
    "\n",
    "if colab:\n",
    "    np.random.seed(3)\n",
    "    url = 'https://www.dropbox.com/s/hv4uau8q4wwg00k/final_data.csv?dl=1'\n",
    "    data_org = pd.read_csv(url)\n",
    "    test_data = data_org.sample(frac=0.1)\n",
    "    train_data = data_org.drop(test_data.index)\n",
    "else:\n",
    "    np.random.seed(3)\n",
    "    data_org = pd.read_csv('final_data.csv')\n",
    "    test_data = data_org.sample(frac=0.1)\n",
    "    train_data = data_org.drop(test_data.index) # TODO: note: we also have to preprocess the test set similary\n",
    "    # TODO: colab\n",
    "\n",
    "data_org"
   ]
  },
  {
   "attachments": {},
   "cell_type": "markdown",
   "metadata": {},
   "source": [
    "### **2** |  Initializations\n",
    "\n",
    "We use as baseline model the [RNATracker](https://github.com/HarveyYan/RNATracker/blob/master/Models/cnn_bilstm_attention.py) model and a CNN model.\n"
   ]
  },
  {
   "cell_type": "code",
   "execution_count": 18,
   "metadata": {
    "ExecuteTime": {
     "end_time": "2023-06-21T22:52:40.264085700Z",
     "start_time": "2023-06-21T22:52:40.258101700Z"
    }
   },
   "outputs": [],
   "source": [
    "max_seq_len = train_data['seq'].apply(lambda x: len(x)).max()\n",
    "# MODEL\n",
    "model_path = \"model_architectures/cnn_model_first.yaml\"\n",
    "\n",
    "# Path where to save viz\n",
    "model_architecture_path = \"model_architecture_viz/cnn_model_first.png\"\n",
    "\n",
    "# DataLoader\n",
    "param_dataLoader_train = {\n",
    "    'padding_length': max_seq_len,\n",
    "    \"batch_size_train\": 32,\n",
    "    \"shuffle_batch_train\": True,\n",
    "    \"callbacks\": [EarlyStopping(monitor='loss', patience=5)]\n",
    "    }\n",
    "\n",
    "param_dataLoader_valid = {\n",
    "    'padding_length': max_seq_len,\n",
    "    \"batch_size_valid\": 32,\n",
    "    \"shuffle_batch_valid\": False\n",
    "    }\n",
    "\n",
    "# KFold\n",
    "param_KFold = {\n",
    "    \"n_splits\": 5,\n",
    "    \"shuffle\": False\n",
    "    }"
   ]
  },
  {
   "cell_type": "code",
   "execution_count": 19,
   "metadata": {
    "collapsed": false,
    "ExecuteTime": {
     "end_time": "2023-06-21T22:52:42.403764300Z",
     "start_time": "2023-06-21T22:52:42.402763100Z"
    }
   },
   "outputs": [],
   "source": [
    "# Splitting for 5fold\n",
    "\n",
    "kf = KFold(**param_KFold)\n",
    "folds = kf.split(train_data)"
   ]
  },
  {
   "cell_type": "code",
   "execution_count": null,
   "metadata": {
    "is_executing": true,
    "ExecuteTime": {
     "start_time": "2023-06-21T22:52:44.017377Z"
    }
   },
   "outputs": [
    {
     "name": "stdout",
     "output_type": "stream",
     "text": [
      "Epoch 1/10\n",
      "311/311 [==============================] - 198s 634ms/step - loss: 2.1922 - accuracy: 0.1857\n",
      "Epoch 2/10\n",
      "210/311 [===================>..........] - ETA: 1:04 - loss: 2.1639 - accuracy: 0.2271"
     ]
    }
   ],
   "source": [
    "# training, only need for the model initialization to change in general\n",
    "from models.CNN import CNN\n",
    "\n",
    "VALIDATION_ACCURACY = []\n",
    "VALIDATION_LOSS = []\n",
    "\n",
    "# 80/20 split\n",
    "train_split, valid_split = train_test_split(train_data, random_state=42, test_size=0.2)\n",
    "\n",
    "model_params = read_model_file(model_path, input_shape=(max_seq_len, 4))\n",
    "\n",
    "# Model Parameter\n",
    "param_model = {\n",
    "    'optimizer': model_params['optimization']['optimizer'],\n",
    "    'loss': model_params['optimization']['loss'],\n",
    "    'metrics': model_params['optimization']['metrics'],\n",
    "    'epochs': model_params['optimization']['epochs']\n",
    "}\n",
    "\n",
    "# for i, (train_split, valid_split) in enumerate(folds):\n",
    "model = CNN(architecure=model_params['model']['architecture'],\n",
    "            dropouts=model_params['model']['dropouts'],\n",
    "            pooling=model_params['model']['pooling'],\n",
    "            conv=model_params['model']['conv_layers'],\n",
    "            dense=model_params['model']['dense_layers'],\n",
    "            **param_model )\n",
    "\n",
    "history = model.fit(train_data=train_split, **param_dataLoader_train)\n",
    "\n",
    "results = model.evaluate(eval_data=valid_split, **param_dataLoader_valid)\n",
    "results = dict(zip(model.model.metrics_names, results))\n",
    "\n",
    "VALIDATION_ACCURACY.append(results['accuracy'])\n",
    "VALIDATION_LOSS.append(results['loss'])\n"
   ]
  },
  {
   "cell_type": "code",
   "execution_count": 10,
   "outputs": [
    {
     "ename": "NameError",
     "evalue": "name 'model' is not defined",
     "output_type": "error",
     "traceback": [
      "\u001B[1;31m---------------------------------------------------------------------------\u001B[0m",
      "\u001B[1;31mNameError\u001B[0m                                 Traceback (most recent call last)",
      "Cell \u001B[1;32mIn[10], line 1\u001B[0m\n\u001B[1;32m----> 1\u001B[0m \u001B[43mmodel\u001B[49m\u001B[38;5;241m.\u001B[39mprint_model()\n\u001B[0;32m      2\u001B[0m \u001B[38;5;28;01mimport\u001B[39;00m \u001B[38;5;21;01mdatetime\u001B[39;00m\n\u001B[0;32m      3\u001B[0m time_date \u001B[38;5;241m=\u001B[39m datetime\u001B[38;5;241m.\u001B[39mdatetime\u001B[38;5;241m.\u001B[39mnow()\u001B[38;5;241m.\u001B[39mdate()\n",
      "\u001B[1;31mNameError\u001B[0m: name 'model' is not defined"
     ]
    }
   ],
   "source": [
    "model.print_model()\n",
    "import datetime\n",
    "time_date = datetime.datetime.now().date()\n",
    "time_hour = datetime.datetime.now().time()\n",
    "\n",
    "model_output = f\"model_outputs/model_{time_date}_{time_hour}.h5\"\n",
    "\n",
    "model.save_model(model_output)"
   ],
   "metadata": {
    "collapsed": false,
    "ExecuteTime": {
     "end_time": "2023-06-21T22:38:30.542019700Z",
     "start_time": "2023-06-21T22:38:30.528781Z"
    }
   }
  },
  {
   "cell_type": "code",
   "execution_count": null,
   "outputs": [],
   "source": [
    "# summarize history for accuracy\n",
    "def plot_line_graph(data, title, ylabel, xlabel, legend):\n",
    "    # for i in range(len(data)):\n",
    "    plt.plot(data[0])\n",
    "    plt.plot(data[1])\n",
    "    plt.title(title)\n",
    "    plt.ylabel(ylabel)\n",
    "    plt.xlabel(xlabel)\n",
    "    plt.legend(legend, loc='upper left')\n",
    "    plt.show()\n",
    "\n",
    "def scatter_plot(pred, ground_truth):\n",
    "    pass\n",
    "\n",
    "plt_data = [history.history['loss']]\n",
    "plot_line_graph(plt_data, \"Loss Graph\", 'loss', 'epoch', ['test', 'val'])\n",
    "\n",
    "plt_data = [history.history['accuracy']]\n",
    "plot_line_graph(plt_data, \"Accuracy Graph\", 'accuracy', 'epoch', ['test', 'val'])"
   ],
   "metadata": {
    "collapsed": false
   }
  },
  {
   "cell_type": "code",
   "execution_count": null,
   "metadata": {},
   "outputs": [],
   "source": [
    "test_result = model.evaluate(test_data, **param_dataLoader_valid)\n",
    "result = dict(zip(model.model.metrics_names, test_result))\n",
    "TEST_ACCURACY = result['accuracy']\n",
    "TEST_LOSS = result['loss']"
   ]
  },
  {
   "cell_type": "code",
   "execution_count": null,
   "metadata": {},
   "outputs": [],
   "source": [
    "VALIDATION_ACCURACY"
   ]
  },
  {
   "cell_type": "code",
   "execution_count": null,
   "metadata": {},
   "outputs": [],
   "source": [
    "VALIDATION_LOSS"
   ]
  }
 ],
 "metadata": {
  "kernelspec": {
   "display_name": "rna_localization",
   "language": "python",
   "name": "python3"
  },
  "language_info": {
   "codemirror_mode": {
    "name": "ipython",
    "version": 3
   },
   "file_extension": ".py",
   "mimetype": "text/x-python",
   "name": "python",
   "nbconvert_exporter": "python",
   "pygments_lexer": "ipython3",
   "version": "3.11.3"
  },
  "orig_nbformat": 4
 },
 "nbformat": 4,
 "nbformat_minor": 2
}
