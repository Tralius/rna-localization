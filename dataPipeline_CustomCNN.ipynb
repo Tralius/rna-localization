{
 "cells": [
  {
   "attachments": {},
   "cell_type": "markdown",
   "metadata": {},
   "source": [
    "# Regular Genomics Project **RNA Localisation**\n",
    "\n",
    "\n",
    "---\n",
    "\n",
    "**Problem definition**:\n",
    "\n",
    "TODO\n"
   ]
  },
  {
   "attachments": {},
   "cell_type": "markdown",
   "metadata": {},
   "source": [
    "### **1.** Data Preparation\n",
    "\n",
    "Firstly, we import several necessary packages and load in our data:"
   ]
  },
  {
   "cell_type": "code",
   "execution_count": 1,
   "metadata": {
    "ExecuteTime": {
     "end_time": "2023-06-25T23:28:33.014534500Z",
     "start_time": "2023-06-25T23:28:33.012522600Z"
    }
   },
   "outputs": [
    {
     "name": "stderr",
     "output_type": "stream",
     "text": [
      "2023-06-26 11:23:35.538498: I tensorflow/tsl/cuda/cudart_stub.cc:28] Could not find cuda drivers on your machine, GPU will not be used.\n",
      "2023-06-26 11:23:35.639214: I tensorflow/tsl/cuda/cudart_stub.cc:28] Could not find cuda drivers on your machine, GPU will not be used.\n",
      "2023-06-26 11:23:35.640224: I tensorflow/core/platform/cpu_feature_guard.cc:182] This TensorFlow binary is optimized to use available CPU instructions in performance-critical operations.\n",
      "To enable the following instructions: AVX2 FMA, in other operations, rebuild TensorFlow with the appropriate compiler flags.\n",
      "2023-06-26 11:23:36.481672: W tensorflow/compiler/tf2tensorrt/utils/py_utils.cc:38] TF-TRT Warning: Could not find TensorRT\n"
     ]
    }
   ],
   "source": [
    "import pandas as pd\n",
    "import numpy as np\n",
    "from notes.utils import read_model_file\n",
    "from models.utils import plot_line_graph, box_plot\n",
    "from sklearn.model_selection import train_test_split\n",
    "from keras.callbacks import EarlyStopping\n",
    "import datetime"
   ]
  },
  {
   "cell_type": "code",
   "execution_count": 2,
   "metadata": {
    "ExecuteTime": {
     "end_time": "2023-06-25T23:28:37.570448500Z",
     "start_time": "2023-06-25T23:28:34.605499500Z"
    }
   },
   "outputs": [
    {
     "data": {
      "text/html": [
       "<div>\n",
       "<style scoped>\n",
       "    .dataframe tbody tr th:only-of-type {\n",
       "        vertical-align: middle;\n",
       "    }\n",
       "\n",
       "    .dataframe tbody tr th {\n",
       "        vertical-align: top;\n",
       "    }\n",
       "\n",
       "    .dataframe thead th {\n",
       "        text-align: right;\n",
       "    }\n",
       "</style>\n",
       "<table border=\"1\" class=\"dataframe\">\n",
       "  <thead>\n",
       "    <tr style=\"text-align: right;\">\n",
       "      <th></th>\n",
       "      <th>ERM</th>\n",
       "      <th>KDEL</th>\n",
       "      <th>LMA</th>\n",
       "      <th>MITO</th>\n",
       "      <th>NES</th>\n",
       "      <th>NIK</th>\n",
       "      <th>NLS</th>\n",
       "      <th>NUCP</th>\n",
       "      <th>OMM</th>\n",
       "      <th>gene_id</th>\n",
       "      <th>gene_biotype</th>\n",
       "      <th>seq</th>\n",
       "      <th>struct</th>\n",
       "      <th>m6A_5UTR</th>\n",
       "      <th>m6A_CDS</th>\n",
       "      <th>m6A_3UTR</th>\n",
       "    </tr>\n",
       "  </thead>\n",
       "  <tbody>\n",
       "    <tr>\n",
       "      <th>0</th>\n",
       "      <td>57.045409</td>\n",
       "      <td>35.456782</td>\n",
       "      <td>22.008215</td>\n",
       "      <td>12.355106</td>\n",
       "      <td>22.789983</td>\n",
       "      <td>24.241731</td>\n",
       "      <td>16.970436</td>\n",
       "      <td>29.348389</td>\n",
       "      <td>54.916891</td>\n",
       "      <td>ENSG00000000003</td>\n",
       "      <td>protein_coding</td>\n",
       "      <td>ACCTTGTATTAGGTATTTATTTCCACAAAAGTTTGATGCTTACAAC...</td>\n",
       "      <td>[nan, nan, nan, nan, nan, nan, nan, nan, nan, ...</td>\n",
       "      <td>0</td>\n",
       "      <td>0</td>\n",
       "      <td>1</td>\n",
       "    </tr>\n",
       "    <tr>\n",
       "      <th>1</th>\n",
       "      <td>0.000000</td>\n",
       "      <td>0.000000</td>\n",
       "      <td>0.000000</td>\n",
       "      <td>0.000000</td>\n",
       "      <td>0.000000</td>\n",
       "      <td>0.000000</td>\n",
       "      <td>0.000000</td>\n",
       "      <td>2.914814</td>\n",
       "      <td>0.244517</td>\n",
       "      <td>ENSG00000000005</td>\n",
       "      <td>protein_coding</td>\n",
       "      <td>TGTGCACAGAAGTTATATACATATATGGGTATATCTATGTAACAAA...</td>\n",
       "      <td>[nan, nan, nan, nan, nan, nan, nan, nan, nan, ...</td>\n",
       "      <td>0</td>\n",
       "      <td>0</td>\n",
       "      <td>0</td>\n",
       "    </tr>\n",
       "    <tr>\n",
       "      <th>2</th>\n",
       "      <td>17.449430</td>\n",
       "      <td>34.151539</td>\n",
       "      <td>29.338431</td>\n",
       "      <td>22.237585</td>\n",
       "      <td>24.682767</td>\n",
       "      <td>43.612551</td>\n",
       "      <td>38.683963</td>\n",
       "      <td>35.678476</td>\n",
       "      <td>25.348560</td>\n",
       "      <td>ENSG00000000419</td>\n",
       "      <td>protein_coding</td>\n",
       "      <td>TACTTTATGCAAAAAAAAATATACATTTATTTATAGGTCTCAATAC...</td>\n",
       "      <td>[nan, nan, nan, nan, nan, nan, nan, nan, nan, ...</td>\n",
       "      <td>0</td>\n",
       "      <td>0</td>\n",
       "      <td>0</td>\n",
       "    </tr>\n",
       "    <tr>\n",
       "      <th>3</th>\n",
       "      <td>3.830180</td>\n",
       "      <td>2.576734</td>\n",
       "      <td>5.737850</td>\n",
       "      <td>0.761343</td>\n",
       "      <td>2.786808</td>\n",
       "      <td>2.784356</td>\n",
       "      <td>3.382682</td>\n",
       "      <td>2.463676</td>\n",
       "      <td>2.819269</td>\n",
       "      <td>ENSG00000000457</td>\n",
       "      <td>protein_coding</td>\n",
       "      <td>TGACTTTCAAACCATTTTAATATTTCAAATATTCCAGAACAATCCC...</td>\n",
       "      <td>[nan, nan, nan, nan, nan, nan, nan, nan, nan, ...</td>\n",
       "      <td>0</td>\n",
       "      <td>9</td>\n",
       "      <td>5</td>\n",
       "    </tr>\n",
       "    <tr>\n",
       "      <th>4</th>\n",
       "      <td>13.132915</td>\n",
       "      <td>8.782925</td>\n",
       "      <td>10.061390</td>\n",
       "      <td>3.012459</td>\n",
       "      <td>8.821250</td>\n",
       "      <td>6.721117</td>\n",
       "      <td>10.827253</td>\n",
       "      <td>8.005113</td>\n",
       "      <td>6.849962</td>\n",
       "      <td>ENSG00000000460</td>\n",
       "      <td>protein_coding</td>\n",
       "      <td>AACCCGCTCGGGTCCCCTTCCACACTGTGGAAGCTTTGTTCTTTCG...</td>\n",
       "      <td>[nan, nan, nan, nan, nan, nan, nan, nan, nan, ...</td>\n",
       "      <td>0</td>\n",
       "      <td>0</td>\n",
       "      <td>2</td>\n",
       "    </tr>\n",
       "    <tr>\n",
       "      <th>...</th>\n",
       "      <td>...</td>\n",
       "      <td>...</td>\n",
       "      <td>...</td>\n",
       "      <td>...</td>\n",
       "      <td>...</td>\n",
       "      <td>...</td>\n",
       "      <td>...</td>\n",
       "      <td>...</td>\n",
       "      <td>...</td>\n",
       "      <td>...</td>\n",
       "      <td>...</td>\n",
       "      <td>...</td>\n",
       "      <td>...</td>\n",
       "      <td>...</td>\n",
       "      <td>...</td>\n",
       "      <td>...</td>\n",
       "    </tr>\n",
       "    <tr>\n",
       "      <th>13805</th>\n",
       "      <td>0.000000</td>\n",
       "      <td>0.000000</td>\n",
       "      <td>0.506809</td>\n",
       "      <td>0.075893</td>\n",
       "      <td>0.050764</td>\n",
       "      <td>0.000000</td>\n",
       "      <td>0.056586</td>\n",
       "      <td>0.000000</td>\n",
       "      <td>0.000000</td>\n",
       "      <td>ENSG00000281883</td>\n",
       "      <td>protein_coding</td>\n",
       "      <td>GGGAAGAAAGGAGCCTGACTCTTATGATGGAATAACCACAAATCAG...</td>\n",
       "      <td>[nan, nan, nan, nan, nan, nan, nan, nan, nan, ...</td>\n",
       "      <td>0</td>\n",
       "      <td>2</td>\n",
       "      <td>1</td>\n",
       "    </tr>\n",
       "    <tr>\n",
       "      <th>13806</th>\n",
       "      <td>0.105452</td>\n",
       "      <td>0.087130</td>\n",
       "      <td>0.171187</td>\n",
       "      <td>0.016101</td>\n",
       "      <td>0.079057</td>\n",
       "      <td>0.669947</td>\n",
       "      <td>0.171672</td>\n",
       "      <td>0.000000</td>\n",
       "      <td>0.254546</td>\n",
       "      <td>ENSG00000282034</td>\n",
       "      <td>protein_coding</td>\n",
       "      <td>GTGTCGGACGGCATGACAGGCAGCAATCCTGTGTCCCCTGCCTCAT...</td>\n",
       "      <td>[0.37599998712539673, 0.0, 0.07500000298023224...</td>\n",
       "      <td>0</td>\n",
       "      <td>66</td>\n",
       "      <td>4</td>\n",
       "    </tr>\n",
       "    <tr>\n",
       "      <th>13807</th>\n",
       "      <td>0.037093</td>\n",
       "      <td>0.444844</td>\n",
       "      <td>0.425368</td>\n",
       "      <td>0.254467</td>\n",
       "      <td>0.323794</td>\n",
       "      <td>1.803249</td>\n",
       "      <td>1.435483</td>\n",
       "      <td>0.249590</td>\n",
       "      <td>0.483645</td>\n",
       "      <td>ENSG00000282827</td>\n",
       "      <td>protein_coding</td>\n",
       "      <td>ATGGCGGGGACCTCCGCGCCAGGCAGCAAGAGGCGGAGCGAGCCCC...</td>\n",
       "      <td>[nan, nan, nan, nan, nan, nan, nan, nan, nan, ...</td>\n",
       "      <td>0</td>\n",
       "      <td>0</td>\n",
       "      <td>0</td>\n",
       "    </tr>\n",
       "    <tr>\n",
       "      <th>13808</th>\n",
       "      <td>0.000000</td>\n",
       "      <td>0.519421</td>\n",
       "      <td>2.119115</td>\n",
       "      <td>0.360450</td>\n",
       "      <td>0.887939</td>\n",
       "      <td>0.345021</td>\n",
       "      <td>1.274465</td>\n",
       "      <td>0.741954</td>\n",
       "      <td>0.460649</td>\n",
       "      <td>ENSG00000282936</td>\n",
       "      <td>protein_coding</td>\n",
       "      <td>CTACTGGAACGCCCCCCTCAATCTAGCCTCCCCCACATAACTCTCT...</td>\n",
       "      <td>[nan, nan, nan, nan, nan, nan, nan, nan, nan, ...</td>\n",
       "      <td>0</td>\n",
       "      <td>0</td>\n",
       "      <td>2</td>\n",
       "    </tr>\n",
       "    <tr>\n",
       "      <th>13809</th>\n",
       "      <td>0.000000</td>\n",
       "      <td>0.226187</td>\n",
       "      <td>0.000000</td>\n",
       "      <td>0.032740</td>\n",
       "      <td>0.157772</td>\n",
       "      <td>0.000000</td>\n",
       "      <td>0.301875</td>\n",
       "      <td>0.000000</td>\n",
       "      <td>0.016665</td>\n",
       "      <td>ENSG00000282988</td>\n",
       "      <td>protein_coding</td>\n",
       "      <td>TGGTCTATCTCCCAAGTCAAAGACTGAAGTAAAGAAAAAGGTTGCA...</td>\n",
       "      <td>[nan, nan, nan, nan, nan, nan, nan, nan, nan, ...</td>\n",
       "      <td>0</td>\n",
       "      <td>0</td>\n",
       "      <td>0</td>\n",
       "    </tr>\n",
       "  </tbody>\n",
       "</table>\n",
       "<p>13810 rows × 16 columns</p>\n",
       "</div>"
      ],
      "text/plain": [
       "             ERM       KDEL        LMA       MITO        NES        NIK  \\\n",
       "0      57.045409  35.456782  22.008215  12.355106  22.789983  24.241731   \n",
       "1       0.000000   0.000000   0.000000   0.000000   0.000000   0.000000   \n",
       "2      17.449430  34.151539  29.338431  22.237585  24.682767  43.612551   \n",
       "3       3.830180   2.576734   5.737850   0.761343   2.786808   2.784356   \n",
       "4      13.132915   8.782925  10.061390   3.012459   8.821250   6.721117   \n",
       "...          ...        ...        ...        ...        ...        ...   \n",
       "13805   0.000000   0.000000   0.506809   0.075893   0.050764   0.000000   \n",
       "13806   0.105452   0.087130   0.171187   0.016101   0.079057   0.669947   \n",
       "13807   0.037093   0.444844   0.425368   0.254467   0.323794   1.803249   \n",
       "13808   0.000000   0.519421   2.119115   0.360450   0.887939   0.345021   \n",
       "13809   0.000000   0.226187   0.000000   0.032740   0.157772   0.000000   \n",
       "\n",
       "             NLS       NUCP        OMM          gene_id    gene_biotype  \\\n",
       "0      16.970436  29.348389  54.916891  ENSG00000000003  protein_coding   \n",
       "1       0.000000   2.914814   0.244517  ENSG00000000005  protein_coding   \n",
       "2      38.683963  35.678476  25.348560  ENSG00000000419  protein_coding   \n",
       "3       3.382682   2.463676   2.819269  ENSG00000000457  protein_coding   \n",
       "4      10.827253   8.005113   6.849962  ENSG00000000460  protein_coding   \n",
       "...          ...        ...        ...              ...             ...   \n",
       "13805   0.056586   0.000000   0.000000  ENSG00000281883  protein_coding   \n",
       "13806   0.171672   0.000000   0.254546  ENSG00000282034  protein_coding   \n",
       "13807   1.435483   0.249590   0.483645  ENSG00000282827  protein_coding   \n",
       "13808   1.274465   0.741954   0.460649  ENSG00000282936  protein_coding   \n",
       "13809   0.301875   0.000000   0.016665  ENSG00000282988  protein_coding   \n",
       "\n",
       "                                                     seq  \\\n",
       "0      ACCTTGTATTAGGTATTTATTTCCACAAAAGTTTGATGCTTACAAC...   \n",
       "1      TGTGCACAGAAGTTATATACATATATGGGTATATCTATGTAACAAA...   \n",
       "2      TACTTTATGCAAAAAAAAATATACATTTATTTATAGGTCTCAATAC...   \n",
       "3      TGACTTTCAAACCATTTTAATATTTCAAATATTCCAGAACAATCCC...   \n",
       "4      AACCCGCTCGGGTCCCCTTCCACACTGTGGAAGCTTTGTTCTTTCG...   \n",
       "...                                                  ...   \n",
       "13805  GGGAAGAAAGGAGCCTGACTCTTATGATGGAATAACCACAAATCAG...   \n",
       "13806  GTGTCGGACGGCATGACAGGCAGCAATCCTGTGTCCCCTGCCTCAT...   \n",
       "13807  ATGGCGGGGACCTCCGCGCCAGGCAGCAAGAGGCGGAGCGAGCCCC...   \n",
       "13808  CTACTGGAACGCCCCCCTCAATCTAGCCTCCCCCACATAACTCTCT...   \n",
       "13809  TGGTCTATCTCCCAAGTCAAAGACTGAAGTAAAGAAAAAGGTTGCA...   \n",
       "\n",
       "                                                  struct  m6A_5UTR  m6A_CDS  \\\n",
       "0      [nan, nan, nan, nan, nan, nan, nan, nan, nan, ...         0        0   \n",
       "1      [nan, nan, nan, nan, nan, nan, nan, nan, nan, ...         0        0   \n",
       "2      [nan, nan, nan, nan, nan, nan, nan, nan, nan, ...         0        0   \n",
       "3      [nan, nan, nan, nan, nan, nan, nan, nan, nan, ...         0        9   \n",
       "4      [nan, nan, nan, nan, nan, nan, nan, nan, nan, ...         0        0   \n",
       "...                                                  ...       ...      ...   \n",
       "13805  [nan, nan, nan, nan, nan, nan, nan, nan, nan, ...         0        2   \n",
       "13806  [0.37599998712539673, 0.0, 0.07500000298023224...         0       66   \n",
       "13807  [nan, nan, nan, nan, nan, nan, nan, nan, nan, ...         0        0   \n",
       "13808  [nan, nan, nan, nan, nan, nan, nan, nan, nan, ...         0        0   \n",
       "13809  [nan, nan, nan, nan, nan, nan, nan, nan, nan, ...         0        0   \n",
       "\n",
       "       m6A_3UTR  \n",
       "0             1  \n",
       "1             0  \n",
       "2             0  \n",
       "3             5  \n",
       "4             2  \n",
       "...         ...  \n",
       "13805         1  \n",
       "13806         4  \n",
       "13807         0  \n",
       "13808         2  \n",
       "13809         0  \n",
       "\n",
       "[13810 rows x 16 columns]"
      ]
     },
     "execution_count": 2,
     "metadata": {},
     "output_type": "execute_result"
    }
   ],
   "source": [
    "# Initializing test/train split\n",
    "\n",
    "\n",
    "colab = False  #### Set colab flag ####\n",
    "\n",
    "if colab:\n",
    "    np.random.seed(3)\n",
    "    url = 'https://www.dropbox.com/s/hv4uau8q4wwg00k/final_data.csv?dl=1'\n",
    "    data_org = pd.read_csv(url)\n",
    "    test_data = data_org.sample(frac=0.1)\n",
    "    train_data = data_org.drop(test_data.index)\n",
    "else:\n",
    "    np.random.seed(3)\n",
    "    data_org = pd.read_csv('~/Downloads/final_data.csv')\n",
    "    test_data = data_org.sample(frac=0.1)\n",
    "    train_data = data_org.drop(test_data.index) # TODO: note: we also have to preprocess the test set similary\n",
    "    # TODO: colab\n",
    "\n",
    "data_org"
   ]
  },
  {
   "attachments": {},
   "cell_type": "markdown",
   "metadata": {},
   "source": [
    "### **2** |  Initializations\n",
    "\n",
    "We use as baseline model the [RNATracker](https://github.com/HarveyYan/RNATracker/blob/master/Models/cnn_bilstm_attention.py) model and a CNN model.\n"
   ]
  },
  {
   "cell_type": "code",
   "execution_count": 4,
   "metadata": {
    "ExecuteTime": {
     "end_time": "2023-06-25T23:28:39.003310600Z",
     "start_time": "2023-06-25T23:28:38.996300600Z"
    }
   },
   "outputs": [],
   "source": [
    "max_seq_len = train_data['seq'].apply(lambda x: len(x)).max()\n",
    "# MODEL\n",
    "model_path = \"model_architectures/CNN_architecture1.yaml\"\n",
    "\n",
    "# Path where to save viz\n",
    "model_architecture_path = \"model_architecture_viz/simple_cnn.png\"\n",
    "\n",
    "params_dict = read_model_file(model_path, max_seq_len)\n",
    "param_dataLoader_valid = params_dict['param_dataLoader_valid']\n",
    "param_dataLoader_train = params_dict['param_dataLoader_train']\n",
    "params_model = params_dict['params_model']\n",
    "params_train = params_dict['params_train']\n"
   ]
  },
  {
   "cell_type": "code",
   "execution_count": 5,
   "metadata": {
    "ExecuteTime": {
     "end_time": "2023-06-25T23:52:59.903071100Z",
     "start_time": "2023-06-25T23:28:42.486819600Z"
    }
   },
   "outputs": [
    {
     "name": "stdout",
     "output_type": "stream",
     "text": [
      "Epoch 1/10\n"
     ]
    },
    {
     "name": "stderr",
     "output_type": "stream",
     "text": [
      "2023-06-26 11:23:51.846729: I tensorflow/core/common_runtime/executor.cc:1197] [/device:CPU:0] (DEBUG INFO) Executor start aborting (this does not indicate an error and you can ignore this message): INVALID_ARGUMENT: You must feed a value for placeholder tensor 'Placeholder/_0' with dtype int32\n",
      "\t [[{{node Placeholder/_0}}]]\n",
      "2023-06-26 11:23:52.333042: W tensorflow/tsl/framework/cpu_allocator_impl.cc:83] Allocation of 282771456 exceeds 10% of free system memory.\n",
      "2023-06-26 11:23:52.447845: W tensorflow/tsl/framework/cpu_allocator_impl.cc:83] Allocation of 282771456 exceeds 10% of free system memory.\n"
     ]
    },
    {
     "name": "stdout",
     "output_type": "stream",
     "text": [
      "  1/311 [..............................] - ETA: 5:26 - loss: 2.5055 - accuracy: 0.1250"
     ]
    },
    {
     "name": "stderr",
     "output_type": "stream",
     "text": [
      "2023-06-26 11:23:52.941787: W tensorflow/tsl/framework/cpu_allocator_impl.cc:83] Allocation of 282771456 exceeds 10% of free system memory.\n",
      "2023-06-26 11:23:53.069463: W tensorflow/tsl/framework/cpu_allocator_impl.cc:83] Allocation of 282771456 exceeds 10% of free system memory.\n"
     ]
    },
    {
     "name": "stdout",
     "output_type": "stream",
     "text": [
      "  2/311 [..............................] - ETA: 3:22 - loss: 2.4757 - accuracy: 0.1250"
     ]
    },
    {
     "name": "stderr",
     "output_type": "stream",
     "text": [
      "2023-06-26 11:23:53.592742: W tensorflow/tsl/framework/cpu_allocator_impl.cc:83] Allocation of 282771456 exceeds 10% of free system memory.\n"
     ]
    },
    {
     "name": "stdout",
     "output_type": "stream",
     "text": [
      " 11/311 [>.............................] - ETA: 2:43 - loss: 2.3367 - accuracy: 0.1477"
     ]
    },
    {
     "ename": "KeyboardInterrupt",
     "evalue": "",
     "output_type": "error",
     "traceback": [
      "\u001b[0;31m---------------------------------------------------------------------------\u001b[0m",
      "\u001b[0;31mKeyboardInterrupt\u001b[0m                         Traceback (most recent call last)",
      "Cell \u001b[0;32mIn[5], line 17\u001b[0m\n\u001b[1;32m     11\u001b[0m \u001b[39m# for i, (train_split, valid_split) in enumerate(folds):\u001b[39;00m\n\u001b[1;32m     12\u001b[0m model \u001b[39m=\u001b[39m CNN(\n\u001b[1;32m     13\u001b[0m             input_size\u001b[39m=\u001b[39m(max_seq_len, \u001b[39m4\u001b[39m),\n\u001b[1;32m     14\u001b[0m             params_model\u001b[39m=\u001b[39mparams_model)\n\u001b[0;32m---> 17\u001b[0m history \u001b[39m=\u001b[39m model\u001b[39m.\u001b[39;49mfit_and_evaluate(train_data\u001b[39m=\u001b[39;49mtrain_split, eval_data\u001b[39m=\u001b[39;49mvalid_split,\n\u001b[1;32m     18\u001b[0m                                  params_train_dataLoader\u001b[39m=\u001b[39;49mparam_dataLoader_train,\n\u001b[1;32m     19\u001b[0m                                  params_eval_dataLoader\u001b[39m=\u001b[39;49mparam_dataLoader_valid,\n\u001b[1;32m     20\u001b[0m                                  params_train\u001b[39m=\u001b[39;49mparams_train)\n\u001b[1;32m     22\u001b[0m \u001b[39m# results = model.evaluate(eval_data=valid_split, **param_dataLoader_valid)\u001b[39;00m\n\u001b[1;32m     23\u001b[0m \u001b[39m# results = dict(zip(model.model.metrics_names, results))\u001b[39;00m\n\u001b[1;32m     24\u001b[0m \n\u001b[1;32m     25\u001b[0m \u001b[39m# VALIDATION_ACCURACY.append(results['accuracy'])\u001b[39;00m\n\u001b[1;32m     26\u001b[0m \u001b[39m# VALIDATION_LOSS.append(results['loss'])\u001b[39;00m\n",
      "File \u001b[0;32m~/Documents/main_storage/STUDY RESOURCES/Regulatory Genomics/project/files2/rna-localization/models/functional_CNN.py:76\u001b[0m, in \u001b[0;36mCNN.fit_and_evaluate\u001b[0;34m(self, train_data, eval_data, callback, params_train_dataLoader, params_eval_dataLoader, params_train)\u001b[0m\n\u001b[1;32m     72\u001b[0m \u001b[39mdef\u001b[39;00m \u001b[39mfit_and_evaluate\u001b[39m(\u001b[39mself\u001b[39m, train_data, eval_data, callback: List[keras\u001b[39m.\u001b[39mcallbacks\u001b[39m.\u001b[39mCallback] \u001b[39m=\u001b[39m \u001b[39mNone\u001b[39;00m,\n\u001b[1;32m     73\u001b[0m                      params_train_dataLoader: Dict \u001b[39m=\u001b[39m \u001b[39mNone\u001b[39;00m,\n\u001b[1;32m     74\u001b[0m                      params_eval_dataLoader: Dict \u001b[39m=\u001b[39m \u001b[39mNone\u001b[39;00m,\n\u001b[1;32m     75\u001b[0m                      params_train: Dict \u001b[39m=\u001b[39m \u001b[39mNone\u001b[39;00m):\n\u001b[0;32m---> 76\u001b[0m     \u001b[39mreturn\u001b[39;00m \u001b[39msuper\u001b[39;49m()\u001b[39m.\u001b[39;49mfit_and_evaluate(train_data, eval_data, callback,\n\u001b[1;32m     77\u001b[0m                                     params_train_dataLoader,\n\u001b[1;32m     78\u001b[0m                                     params_eval_dataLoader,\n\u001b[1;32m     79\u001b[0m                                     params_train)\n",
      "File \u001b[0;32m~/Documents/main_storage/STUDY RESOURCES/Regulatory Genomics/project/files2/rna-localization/models/functional_model.py:55\u001b[0m, in \u001b[0;36mFunc_Model.fit_and_evaluate\u001b[0;34m(self, train_data, eval_data, callback, params_train_dataLoader, params_eval_dataLoader, params_train)\u001b[0m\n\u001b[1;32m     53\u001b[0m train_dataLoader \u001b[39m=\u001b[39m GeneDataLoader(train_data, \u001b[39m*\u001b[39m\u001b[39m*\u001b[39mparams_train_dataLoader)\n\u001b[1;32m     54\u001b[0m eval_dataLoader \u001b[39m=\u001b[39m GeneDataLoader(eval_data, shuffle\u001b[39m=\u001b[39m\u001b[39mFalse\u001b[39;00m,\u001b[39m*\u001b[39m\u001b[39m*\u001b[39mparams_eval_dataLoader)\n\u001b[0;32m---> 55\u001b[0m \u001b[39mreturn\u001b[39;00m \u001b[39mself\u001b[39;49m\u001b[39m.\u001b[39;49mmodel\u001b[39m.\u001b[39;49mfit(train_dataLoader, callbacks\u001b[39m=\u001b[39;49mcallback, validation_data\u001b[39m=\u001b[39;49meval_dataLoader, \u001b[39m*\u001b[39;49m\u001b[39m*\u001b[39;49mparams_train)\n",
      "File \u001b[0;32m~/anaconda3/envs/reggen/lib/python3.11/site-packages/keras/utils/traceback_utils.py:65\u001b[0m, in \u001b[0;36mfilter_traceback.<locals>.error_handler\u001b[0;34m(*args, **kwargs)\u001b[0m\n\u001b[1;32m     63\u001b[0m filtered_tb \u001b[39m=\u001b[39m \u001b[39mNone\u001b[39;00m\n\u001b[1;32m     64\u001b[0m \u001b[39mtry\u001b[39;00m:\n\u001b[0;32m---> 65\u001b[0m     \u001b[39mreturn\u001b[39;00m fn(\u001b[39m*\u001b[39;49margs, \u001b[39m*\u001b[39;49m\u001b[39m*\u001b[39;49mkwargs)\n\u001b[1;32m     66\u001b[0m \u001b[39mexcept\u001b[39;00m \u001b[39mException\u001b[39;00m \u001b[39mas\u001b[39;00m e:\n\u001b[1;32m     67\u001b[0m     filtered_tb \u001b[39m=\u001b[39m _process_traceback_frames(e\u001b[39m.\u001b[39m__traceback__)\n",
      "File \u001b[0;32m~/anaconda3/envs/reggen/lib/python3.11/site-packages/keras/engine/training.py:1685\u001b[0m, in \u001b[0;36mModel.fit\u001b[0;34m(self, x, y, batch_size, epochs, verbose, callbacks, validation_split, validation_data, shuffle, class_weight, sample_weight, initial_epoch, steps_per_epoch, validation_steps, validation_batch_size, validation_freq, max_queue_size, workers, use_multiprocessing)\u001b[0m\n\u001b[1;32m   1677\u001b[0m \u001b[39mwith\u001b[39;00m tf\u001b[39m.\u001b[39mprofiler\u001b[39m.\u001b[39mexperimental\u001b[39m.\u001b[39mTrace(\n\u001b[1;32m   1678\u001b[0m     \u001b[39m\"\u001b[39m\u001b[39mtrain\u001b[39m\u001b[39m\"\u001b[39m,\n\u001b[1;32m   1679\u001b[0m     epoch_num\u001b[39m=\u001b[39mepoch,\n\u001b[0;32m   (...)\u001b[0m\n\u001b[1;32m   1682\u001b[0m     _r\u001b[39m=\u001b[39m\u001b[39m1\u001b[39m,\n\u001b[1;32m   1683\u001b[0m ):\n\u001b[1;32m   1684\u001b[0m     callbacks\u001b[39m.\u001b[39mon_train_batch_begin(step)\n\u001b[0;32m-> 1685\u001b[0m     tmp_logs \u001b[39m=\u001b[39m \u001b[39mself\u001b[39;49m\u001b[39m.\u001b[39;49mtrain_function(iterator)\n\u001b[1;32m   1686\u001b[0m     \u001b[39mif\u001b[39;00m data_handler\u001b[39m.\u001b[39mshould_sync:\n\u001b[1;32m   1687\u001b[0m         context\u001b[39m.\u001b[39masync_wait()\n",
      "File \u001b[0;32m~/anaconda3/envs/reggen/lib/python3.11/site-packages/tensorflow/python/util/traceback_utils.py:150\u001b[0m, in \u001b[0;36mfilter_traceback.<locals>.error_handler\u001b[0;34m(*args, **kwargs)\u001b[0m\n\u001b[1;32m    148\u001b[0m filtered_tb \u001b[39m=\u001b[39m \u001b[39mNone\u001b[39;00m\n\u001b[1;32m    149\u001b[0m \u001b[39mtry\u001b[39;00m:\n\u001b[0;32m--> 150\u001b[0m   \u001b[39mreturn\u001b[39;00m fn(\u001b[39m*\u001b[39;49margs, \u001b[39m*\u001b[39;49m\u001b[39m*\u001b[39;49mkwargs)\n\u001b[1;32m    151\u001b[0m \u001b[39mexcept\u001b[39;00m \u001b[39mException\u001b[39;00m \u001b[39mas\u001b[39;00m e:\n\u001b[1;32m    152\u001b[0m   filtered_tb \u001b[39m=\u001b[39m _process_traceback_frames(e\u001b[39m.\u001b[39m__traceback__)\n",
      "File \u001b[0;32m~/anaconda3/envs/reggen/lib/python3.11/site-packages/tensorflow/python/eager/polymorphic_function/polymorphic_function.py:894\u001b[0m, in \u001b[0;36mFunction.__call__\u001b[0;34m(self, *args, **kwds)\u001b[0m\n\u001b[1;32m    891\u001b[0m compiler \u001b[39m=\u001b[39m \u001b[39m\"\u001b[39m\u001b[39mxla\u001b[39m\u001b[39m\"\u001b[39m \u001b[39mif\u001b[39;00m \u001b[39mself\u001b[39m\u001b[39m.\u001b[39m_jit_compile \u001b[39melse\u001b[39;00m \u001b[39m\"\u001b[39m\u001b[39mnonXla\u001b[39m\u001b[39m\"\u001b[39m\n\u001b[1;32m    893\u001b[0m \u001b[39mwith\u001b[39;00m OptionalXlaContext(\u001b[39mself\u001b[39m\u001b[39m.\u001b[39m_jit_compile):\n\u001b[0;32m--> 894\u001b[0m   result \u001b[39m=\u001b[39m \u001b[39mself\u001b[39;49m\u001b[39m.\u001b[39;49m_call(\u001b[39m*\u001b[39;49margs, \u001b[39m*\u001b[39;49m\u001b[39m*\u001b[39;49mkwds)\n\u001b[1;32m    896\u001b[0m new_tracing_count \u001b[39m=\u001b[39m \u001b[39mself\u001b[39m\u001b[39m.\u001b[39mexperimental_get_tracing_count()\n\u001b[1;32m    897\u001b[0m without_tracing \u001b[39m=\u001b[39m (tracing_count \u001b[39m==\u001b[39m new_tracing_count)\n",
      "File \u001b[0;32m~/anaconda3/envs/reggen/lib/python3.11/site-packages/tensorflow/python/eager/polymorphic_function/polymorphic_function.py:926\u001b[0m, in \u001b[0;36mFunction._call\u001b[0;34m(self, *args, **kwds)\u001b[0m\n\u001b[1;32m    923\u001b[0m   \u001b[39mself\u001b[39m\u001b[39m.\u001b[39m_lock\u001b[39m.\u001b[39mrelease()\n\u001b[1;32m    924\u001b[0m   \u001b[39m# In this case we have created variables on the first call, so we run the\u001b[39;00m\n\u001b[1;32m    925\u001b[0m   \u001b[39m# defunned version which is guaranteed to never create variables.\u001b[39;00m\n\u001b[0;32m--> 926\u001b[0m   \u001b[39mreturn\u001b[39;00m \u001b[39mself\u001b[39;49m\u001b[39m.\u001b[39;49m_no_variable_creation_fn(\u001b[39m*\u001b[39;49margs, \u001b[39m*\u001b[39;49m\u001b[39m*\u001b[39;49mkwds)  \u001b[39m# pylint: disable=not-callable\u001b[39;00m\n\u001b[1;32m    927\u001b[0m \u001b[39melif\u001b[39;00m \u001b[39mself\u001b[39m\u001b[39m.\u001b[39m_variable_creation_fn \u001b[39mis\u001b[39;00m \u001b[39mnot\u001b[39;00m \u001b[39mNone\u001b[39;00m:\n\u001b[1;32m    928\u001b[0m   \u001b[39m# Release the lock early so that multiple threads can perform the call\u001b[39;00m\n\u001b[1;32m    929\u001b[0m   \u001b[39m# in parallel.\u001b[39;00m\n\u001b[1;32m    930\u001b[0m   \u001b[39mself\u001b[39m\u001b[39m.\u001b[39m_lock\u001b[39m.\u001b[39mrelease()\n",
      "File \u001b[0;32m~/anaconda3/envs/reggen/lib/python3.11/site-packages/tensorflow/python/eager/polymorphic_function/tracing_compiler.py:143\u001b[0m, in \u001b[0;36mTracingCompiler.__call__\u001b[0;34m(self, *args, **kwargs)\u001b[0m\n\u001b[1;32m    140\u001b[0m \u001b[39mwith\u001b[39;00m \u001b[39mself\u001b[39m\u001b[39m.\u001b[39m_lock:\n\u001b[1;32m    141\u001b[0m   (concrete_function,\n\u001b[1;32m    142\u001b[0m    filtered_flat_args) \u001b[39m=\u001b[39m \u001b[39mself\u001b[39m\u001b[39m.\u001b[39m_maybe_define_function(args, kwargs)\n\u001b[0;32m--> 143\u001b[0m \u001b[39mreturn\u001b[39;00m concrete_function\u001b[39m.\u001b[39;49m_call_flat(\n\u001b[1;32m    144\u001b[0m     filtered_flat_args, captured_inputs\u001b[39m=\u001b[39;49mconcrete_function\u001b[39m.\u001b[39;49mcaptured_inputs)\n",
      "File \u001b[0;32m~/anaconda3/envs/reggen/lib/python3.11/site-packages/tensorflow/python/eager/polymorphic_function/monomorphic_function.py:1757\u001b[0m, in \u001b[0;36mConcreteFunction._call_flat\u001b[0;34m(self, args, captured_inputs, cancellation_manager)\u001b[0m\n\u001b[1;32m   1753\u001b[0m possible_gradient_type \u001b[39m=\u001b[39m gradients_util\u001b[39m.\u001b[39mPossibleTapeGradientTypes(args)\n\u001b[1;32m   1754\u001b[0m \u001b[39mif\u001b[39;00m (possible_gradient_type \u001b[39m==\u001b[39m gradients_util\u001b[39m.\u001b[39mPOSSIBLE_GRADIENT_TYPES_NONE\n\u001b[1;32m   1755\u001b[0m     \u001b[39mand\u001b[39;00m executing_eagerly):\n\u001b[1;32m   1756\u001b[0m   \u001b[39m# No tape is watching; skip to running the function.\u001b[39;00m\n\u001b[0;32m-> 1757\u001b[0m   \u001b[39mreturn\u001b[39;00m \u001b[39mself\u001b[39m\u001b[39m.\u001b[39m_build_call_outputs(\u001b[39mself\u001b[39;49m\u001b[39m.\u001b[39;49m_inference_function\u001b[39m.\u001b[39;49mcall(\n\u001b[1;32m   1758\u001b[0m       ctx, args, cancellation_manager\u001b[39m=\u001b[39;49mcancellation_manager))\n\u001b[1;32m   1759\u001b[0m forward_backward \u001b[39m=\u001b[39m \u001b[39mself\u001b[39m\u001b[39m.\u001b[39m_select_forward_and_backward_functions(\n\u001b[1;32m   1760\u001b[0m     args,\n\u001b[1;32m   1761\u001b[0m     possible_gradient_type,\n\u001b[1;32m   1762\u001b[0m     executing_eagerly)\n\u001b[1;32m   1763\u001b[0m forward_function, args_with_tangents \u001b[39m=\u001b[39m forward_backward\u001b[39m.\u001b[39mforward()\n",
      "File \u001b[0;32m~/anaconda3/envs/reggen/lib/python3.11/site-packages/tensorflow/python/eager/polymorphic_function/monomorphic_function.py:381\u001b[0m, in \u001b[0;36m_EagerDefinedFunction.call\u001b[0;34m(self, ctx, args, cancellation_manager)\u001b[0m\n\u001b[1;32m    379\u001b[0m \u001b[39mwith\u001b[39;00m _InterpolateFunctionError(\u001b[39mself\u001b[39m):\n\u001b[1;32m    380\u001b[0m   \u001b[39mif\u001b[39;00m cancellation_manager \u001b[39mis\u001b[39;00m \u001b[39mNone\u001b[39;00m:\n\u001b[0;32m--> 381\u001b[0m     outputs \u001b[39m=\u001b[39m execute\u001b[39m.\u001b[39;49mexecute(\n\u001b[1;32m    382\u001b[0m         \u001b[39mstr\u001b[39;49m(\u001b[39mself\u001b[39;49m\u001b[39m.\u001b[39;49msignature\u001b[39m.\u001b[39;49mname),\n\u001b[1;32m    383\u001b[0m         num_outputs\u001b[39m=\u001b[39;49m\u001b[39mself\u001b[39;49m\u001b[39m.\u001b[39;49m_num_outputs,\n\u001b[1;32m    384\u001b[0m         inputs\u001b[39m=\u001b[39;49margs,\n\u001b[1;32m    385\u001b[0m         attrs\u001b[39m=\u001b[39;49mattrs,\n\u001b[1;32m    386\u001b[0m         ctx\u001b[39m=\u001b[39;49mctx)\n\u001b[1;32m    387\u001b[0m   \u001b[39melse\u001b[39;00m:\n\u001b[1;32m    388\u001b[0m     outputs \u001b[39m=\u001b[39m execute\u001b[39m.\u001b[39mexecute_with_cancellation(\n\u001b[1;32m    389\u001b[0m         \u001b[39mstr\u001b[39m(\u001b[39mself\u001b[39m\u001b[39m.\u001b[39msignature\u001b[39m.\u001b[39mname),\n\u001b[1;32m    390\u001b[0m         num_outputs\u001b[39m=\u001b[39m\u001b[39mself\u001b[39m\u001b[39m.\u001b[39m_num_outputs,\n\u001b[0;32m   (...)\u001b[0m\n\u001b[1;32m    393\u001b[0m         ctx\u001b[39m=\u001b[39mctx,\n\u001b[1;32m    394\u001b[0m         cancellation_manager\u001b[39m=\u001b[39mcancellation_manager)\n",
      "File \u001b[0;32m~/anaconda3/envs/reggen/lib/python3.11/site-packages/tensorflow/python/eager/execute.py:52\u001b[0m, in \u001b[0;36mquick_execute\u001b[0;34m(op_name, num_outputs, inputs, attrs, ctx, name)\u001b[0m\n\u001b[1;32m     50\u001b[0m \u001b[39mtry\u001b[39;00m:\n\u001b[1;32m     51\u001b[0m   ctx\u001b[39m.\u001b[39mensure_initialized()\n\u001b[0;32m---> 52\u001b[0m   tensors \u001b[39m=\u001b[39m pywrap_tfe\u001b[39m.\u001b[39;49mTFE_Py_Execute(ctx\u001b[39m.\u001b[39;49m_handle, device_name, op_name,\n\u001b[1;32m     53\u001b[0m                                       inputs, attrs, num_outputs)\n\u001b[1;32m     54\u001b[0m \u001b[39mexcept\u001b[39;00m core\u001b[39m.\u001b[39m_NotOkStatusException \u001b[39mas\u001b[39;00m e:\n\u001b[1;32m     55\u001b[0m   \u001b[39mif\u001b[39;00m name \u001b[39mis\u001b[39;00m \u001b[39mnot\u001b[39;00m \u001b[39mNone\u001b[39;00m:\n",
      "\u001b[0;31mKeyboardInterrupt\u001b[0m: "
     ]
    }
   ],
   "source": [
    "# training, only need for the model initialization to change in general\n",
    "from models import CNN\n",
    "\n",
    "VALIDATION_ACCURACY = []\n",
    "VALIDATION_LOSS = []\n",
    "\n",
    "# 80/20 split\n",
    "train_split, valid_split = train_test_split(train_data, random_state=42, test_size=0.2)\n",
    "\n",
    "\n",
    "# for i, (train_split, valid_split) in enumerate(folds):\n",
    "model = CNN(\n",
    "            input_size=(max_seq_len, 4),\n",
    "            params_model=params_model)\n",
    "\n",
    "\n",
    "history = model.fit_and_evaluate(train_data=train_split, eval_data=valid_split,\n",
    "                                 params_train_dataLoader=param_dataLoader_train,\n",
    "                                 params_eval_dataLoader=param_dataLoader_valid,\n",
    "                                 params_train=params_train)\n",
    "\n",
    "# results = model.evaluate(eval_data=valid_split, **param_dataLoader_valid)\n",
    "# results = dict(zip(model.model.metrics_names, results))\n",
    "\n",
    "# VALIDATION_ACCURACY.append(results['accuracy'])\n",
    "# VALIDATION_LOSS.append(results['loss'])"
   ]
  },
  {
   "cell_type": "code",
   "execution_count": 7,
   "metadata": {
    "ExecuteTime": {
     "end_time": "2023-06-26T06:52:44.013176100Z",
     "start_time": "2023-06-26T06:52:42.084633500Z"
    },
    "collapsed": false
   },
   "outputs": [
    {
     "name": "stdout",
     "output_type": "stream",
     "text": [
      "You must install pydot (`pip install pydot`) and install graphviz (see instructions at https://graphviz.gitlab.io/download/) for plot_model to work.\n"
     ]
    }
   ],
   "source": [
    "model.print_model(model_architecture_path)\n",
    "import datetime\n",
    "import pydot\n",
    "time_date = datetime.datetime.now().date()\n",
    "# time_hour = datetime.datetime.now().time()\n",
    "\n",
    "model_output = f\"model_outputs/simple_cnn_{time_date}.h5\"\n",
    "\n",
    "model.save_model(model_output)"
   ]
  },
  {
   "cell_type": "code",
   "execution_count": 8,
   "metadata": {
    "ExecuteTime": {
     "end_time": "2023-06-26T06:52:47.847776800Z",
     "start_time": "2023-06-26T06:52:47.488876300Z"
    },
    "collapsed": false
   },
   "outputs": [
    {
     "data": {
      "image/png": "[encoded data removed]",
      "text/plain": [
       "<Figure size 640x480 with 1 Axes>"
      ]
     },
     "metadata": {},
     "output_type": "display_data"
    },
    {
     "data": {
      "image/png": "[encoded data removed]",
      "text/plain": [
       "<Figure size 640x480 with 1 Axes>"
      ]
     },
     "metadata": {},
     "output_type": "display_data"
    },
    {
     "data": {
      "image/png": "[encoded data removed]",
      "text/plain": [
       "<Figure size 640x480 with 1 Axes>"
      ]
     },
     "metadata": {},
     "output_type": "display_data"
    }
   ],
   "source": [
    "plt_data = [history.history['loss'], history.history['val_loss']]\n",
    "plot_line_graph(plt_data, \"Loss Graph\", 'loss', 'epoch', ['train', 'val'])\n",
    "\n",
    "plt_data = [history.history['accuracy'], history.history['val_accuracy']]\n",
    "plot_line_graph(plt_data, \"Accuracy Graph\", 'accuracy', 'epoch', ['train', 'val'])\n",
    "\n",
    "box_plot(train_data)"
   ]
  },
  {
   "cell_type": "code",
   "execution_count": null,
   "metadata": {},
   "outputs": [],
   "source": [
    "test_result = model.evaluate(test_data, **param_dataLoader_valid)\n",
    "result = dict(zip(model.model.metrics_names, test_result))\n",
    "TEST_ACCURACY = result['accuracy']\n",
    "TEST_LOSS = result['loss']"
   ]
  },
  {
   "cell_type": "code",
   "execution_count": null,
   "metadata": {},
   "outputs": [],
   "source": [
    "VALIDATION_ACCURACY"
   ]
  },
  {
   "cell_type": "code",
   "execution_count": null,
   "metadata": {},
   "outputs": [],
   "source": [
    "VALIDATION_LOSS"
   ]
  }
 ],
 "metadata": {
  "kernelspec": {
   "display_name": "rna_localization",
   "language": "python",
   "name": "python3"
  },
  "language_info": {
   "codemirror_mode": {
    "name": "ipython",
    "version": 3
   },
   "file_extension": ".py",
   "mimetype": "text/x-python",
   "name": "python",
   "nbconvert_exporter": "python",
   "pygments_lexer": "ipython3",
   "version": "3.11.3"
  },
  "orig_nbformat": 4
 },
 "nbformat": 4,
 "nbformat_minor": 2
}
