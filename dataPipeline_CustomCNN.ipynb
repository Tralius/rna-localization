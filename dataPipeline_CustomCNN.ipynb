{
 "cells": [
  {
   "attachments": {},
   "cell_type": "markdown",
   "metadata": {},
   "source": [
    "# Regular Genomics Project **RNA Localisation**\n",
    "\n",
    "\n",
    "---\n",
    "\n",
    "**Problem definition**:\n",
    "\n",
    "TODO\n"
   ]
  },
  {
   "attachments": {},
   "cell_type": "markdown",
   "metadata": {},
   "source": [
    "### **1.** Data Preparation\n",
    "\n",
    "Firstly, we import several necessary packages and load in our data:"
   ]
  },
  {
   "cell_type": "code",
   "execution_count": 1,
   "metadata": {
    "ExecuteTime": {
     "end_time": "2023-06-15T19:22:50.168247100Z",
     "start_time": "2023-06-15T19:22:38.639827Z"
    }
   },
   "outputs": [],
   "source": [
    "import pandas as pd\n",
    "import numpy as np"
   ]
  },
  {
   "cell_type": "code",
   "execution_count": 2,
   "metadata": {
    "ExecuteTime": {
     "end_time": "2023-06-15T19:24:03.901765100Z",
     "start_time": "2023-06-15T19:24:00.249684300Z"
    }
   },
   "outputs": [
    {
     "data": {
      "text/html": [
       "<div>\n",
       "<style scoped>\n",
       "    .dataframe tbody tr th:only-of-type {\n",
       "        vertical-align: middle;\n",
       "    }\n",
       "\n",
       "    .dataframe tbody tr th {\n",
       "        vertical-align: top;\n",
       "    }\n",
       "\n",
       "    .dataframe thead th {\n",
       "        text-align: right;\n",
       "    }\n",
       "</style>\n",
       "<table border=\"1\" class=\"dataframe\">\n",
       "  <thead>\n",
       "    <tr style=\"text-align: right;\">\n",
       "      <th></th>\n",
       "      <th>ERM</th>\n",
       "      <th>KDEL</th>\n",
       "      <th>LMA</th>\n",
       "      <th>MITO</th>\n",
       "      <th>NES</th>\n",
       "      <th>NIK</th>\n",
       "      <th>NLS</th>\n",
       "      <th>NUCP</th>\n",
       "      <th>OMM</th>\n",
       "      <th>gene_id</th>\n",
       "      <th>gene_biotype</th>\n",
       "      <th>seq</th>\n",
       "      <th>struct</th>\n",
       "      <th>m6A_5UTR</th>\n",
       "      <th>m6A_CDS</th>\n",
       "      <th>m6A_3UTR</th>\n",
       "    </tr>\n",
       "  </thead>\n",
       "  <tbody>\n",
       "    <tr>\n",
       "      <th>0</th>\n",
       "      <td>57.045409</td>\n",
       "      <td>35.456782</td>\n",
       "      <td>22.008215</td>\n",
       "      <td>12.355106</td>\n",
       "      <td>22.789983</td>\n",
       "      <td>24.241731</td>\n",
       "      <td>16.970436</td>\n",
       "      <td>29.348389</td>\n",
       "      <td>54.916891</td>\n",
       "      <td>ENSG00000000003</td>\n",
       "      <td>protein_coding</td>\n",
       "      <td>ACCTTGTATTAGGTATTTATTTCCACAAAAGTTTGATGCTTACAAC...</td>\n",
       "      <td>[nan, nan, nan, nan, nan, nan, nan, nan, nan, ...</td>\n",
       "      <td>0</td>\n",
       "      <td>0</td>\n",
       "      <td>1</td>\n",
       "    </tr>\n",
       "    <tr>\n",
       "      <th>1</th>\n",
       "      <td>0.000000</td>\n",
       "      <td>0.000000</td>\n",
       "      <td>0.000000</td>\n",
       "      <td>0.000000</td>\n",
       "      <td>0.000000</td>\n",
       "      <td>0.000000</td>\n",
       "      <td>0.000000</td>\n",
       "      <td>2.914814</td>\n",
       "      <td>0.244517</td>\n",
       "      <td>ENSG00000000005</td>\n",
       "      <td>protein_coding</td>\n",
       "      <td>TGTGCACAGAAGTTATATACATATATGGGTATATCTATGTAACAAA...</td>\n",
       "      <td>[nan, nan, nan, nan, nan, nan, nan, nan, nan, ...</td>\n",
       "      <td>0</td>\n",
       "      <td>0</td>\n",
       "      <td>0</td>\n",
       "    </tr>\n",
       "    <tr>\n",
       "      <th>2</th>\n",
       "      <td>17.449430</td>\n",
       "      <td>34.151539</td>\n",
       "      <td>29.338431</td>\n",
       "      <td>22.237585</td>\n",
       "      <td>24.682767</td>\n",
       "      <td>43.612551</td>\n",
       "      <td>38.683963</td>\n",
       "      <td>35.678476</td>\n",
       "      <td>25.348560</td>\n",
       "      <td>ENSG00000000419</td>\n",
       "      <td>protein_coding</td>\n",
       "      <td>TACTTTATGCAAAAAAAAATATACATTTATTTATAGGTCTCAATAC...</td>\n",
       "      <td>[nan, nan, nan, nan, nan, nan, nan, nan, nan, ...</td>\n",
       "      <td>0</td>\n",
       "      <td>0</td>\n",
       "      <td>0</td>\n",
       "    </tr>\n",
       "    <tr>\n",
       "      <th>3</th>\n",
       "      <td>3.830180</td>\n",
       "      <td>2.576734</td>\n",
       "      <td>5.737850</td>\n",
       "      <td>0.761343</td>\n",
       "      <td>2.786808</td>\n",
       "      <td>2.784356</td>\n",
       "      <td>3.382682</td>\n",
       "      <td>2.463676</td>\n",
       "      <td>2.819269</td>\n",
       "      <td>ENSG00000000457</td>\n",
       "      <td>protein_coding</td>\n",
       "      <td>TGACTTTCAAACCATTTTAATATTTCAAATATTCCAGAACAATCCC...</td>\n",
       "      <td>[nan, nan, nan, nan, nan, nan, nan, nan, nan, ...</td>\n",
       "      <td>0</td>\n",
       "      <td>9</td>\n",
       "      <td>5</td>\n",
       "    </tr>\n",
       "    <tr>\n",
       "      <th>4</th>\n",
       "      <td>13.132915</td>\n",
       "      <td>8.782925</td>\n",
       "      <td>10.061390</td>\n",
       "      <td>3.012459</td>\n",
       "      <td>8.821250</td>\n",
       "      <td>6.721117</td>\n",
       "      <td>10.827253</td>\n",
       "      <td>8.005113</td>\n",
       "      <td>6.849962</td>\n",
       "      <td>ENSG00000000460</td>\n",
       "      <td>protein_coding</td>\n",
       "      <td>AACCCGCTCGGGTCCCCTTCCACACTGTGGAAGCTTTGTTCTTTCG...</td>\n",
       "      <td>[nan, nan, nan, nan, nan, nan, nan, nan, nan, ...</td>\n",
       "      <td>0</td>\n",
       "      <td>0</td>\n",
       "      <td>2</td>\n",
       "    </tr>\n",
       "    <tr>\n",
       "      <th>...</th>\n",
       "      <td>...</td>\n",
       "      <td>...</td>\n",
       "      <td>...</td>\n",
       "      <td>...</td>\n",
       "      <td>...</td>\n",
       "      <td>...</td>\n",
       "      <td>...</td>\n",
       "      <td>...</td>\n",
       "      <td>...</td>\n",
       "      <td>...</td>\n",
       "      <td>...</td>\n",
       "      <td>...</td>\n",
       "      <td>...</td>\n",
       "      <td>...</td>\n",
       "      <td>...</td>\n",
       "      <td>...</td>\n",
       "    </tr>\n",
       "    <tr>\n",
       "      <th>13805</th>\n",
       "      <td>0.000000</td>\n",
       "      <td>0.000000</td>\n",
       "      <td>0.506809</td>\n",
       "      <td>0.075893</td>\n",
       "      <td>0.050764</td>\n",
       "      <td>0.000000</td>\n",
       "      <td>0.056586</td>\n",
       "      <td>0.000000</td>\n",
       "      <td>0.000000</td>\n",
       "      <td>ENSG00000281883</td>\n",
       "      <td>protein_coding</td>\n",
       "      <td>GGGAAGAAAGGAGCCTGACTCTTATGATGGAATAACCACAAATCAG...</td>\n",
       "      <td>[nan, nan, nan, nan, nan, nan, nan, nan, nan, ...</td>\n",
       "      <td>0</td>\n",
       "      <td>2</td>\n",
       "      <td>1</td>\n",
       "    </tr>\n",
       "    <tr>\n",
       "      <th>13806</th>\n",
       "      <td>0.105452</td>\n",
       "      <td>0.087130</td>\n",
       "      <td>0.171187</td>\n",
       "      <td>0.016101</td>\n",
       "      <td>0.079057</td>\n",
       "      <td>0.669947</td>\n",
       "      <td>0.171672</td>\n",
       "      <td>0.000000</td>\n",
       "      <td>0.254546</td>\n",
       "      <td>ENSG00000282034</td>\n",
       "      <td>protein_coding</td>\n",
       "      <td>GTGTCGGACGGCATGACAGGCAGCAATCCTGTGTCCCCTGCCTCAT...</td>\n",
       "      <td>[0.37599998712539673, 0.0, 0.07500000298023224...</td>\n",
       "      <td>0</td>\n",
       "      <td>66</td>\n",
       "      <td>4</td>\n",
       "    </tr>\n",
       "    <tr>\n",
       "      <th>13807</th>\n",
       "      <td>0.037093</td>\n",
       "      <td>0.444844</td>\n",
       "      <td>0.425368</td>\n",
       "      <td>0.254467</td>\n",
       "      <td>0.323794</td>\n",
       "      <td>1.803249</td>\n",
       "      <td>1.435483</td>\n",
       "      <td>0.249590</td>\n",
       "      <td>0.483645</td>\n",
       "      <td>ENSG00000282827</td>\n",
       "      <td>protein_coding</td>\n",
       "      <td>ATGGCGGGGACCTCCGCGCCAGGCAGCAAGAGGCGGAGCGAGCCCC...</td>\n",
       "      <td>[nan, nan, nan, nan, nan, nan, nan, nan, nan, ...</td>\n",
       "      <td>0</td>\n",
       "      <td>0</td>\n",
       "      <td>0</td>\n",
       "    </tr>\n",
       "    <tr>\n",
       "      <th>13808</th>\n",
       "      <td>0.000000</td>\n",
       "      <td>0.519421</td>\n",
       "      <td>2.119115</td>\n",
       "      <td>0.360450</td>\n",
       "      <td>0.887939</td>\n",
       "      <td>0.345021</td>\n",
       "      <td>1.274465</td>\n",
       "      <td>0.741954</td>\n",
       "      <td>0.460649</td>\n",
       "      <td>ENSG00000282936</td>\n",
       "      <td>protein_coding</td>\n",
       "      <td>CTACTGGAACGCCCCCCTCAATCTAGCCTCCCCCACATAACTCTCT...</td>\n",
       "      <td>[nan, nan, nan, nan, nan, nan, nan, nan, nan, ...</td>\n",
       "      <td>0</td>\n",
       "      <td>0</td>\n",
       "      <td>2</td>\n",
       "    </tr>\n",
       "    <tr>\n",
       "      <th>13809</th>\n",
       "      <td>0.000000</td>\n",
       "      <td>0.226187</td>\n",
       "      <td>0.000000</td>\n",
       "      <td>0.032740</td>\n",
       "      <td>0.157772</td>\n",
       "      <td>0.000000</td>\n",
       "      <td>0.301875</td>\n",
       "      <td>0.000000</td>\n",
       "      <td>0.016665</td>\n",
       "      <td>ENSG00000282988</td>\n",
       "      <td>protein_coding</td>\n",
       "      <td>TGGTCTATCTCCCAAGTCAAAGACTGAAGTAAAGAAAAAGGTTGCA...</td>\n",
       "      <td>[nan, nan, nan, nan, nan, nan, nan, nan, nan, ...</td>\n",
       "      <td>0</td>\n",
       "      <td>0</td>\n",
       "      <td>0</td>\n",
       "    </tr>\n",
       "  </tbody>\n",
       "</table>\n",
       "<p>13810 rows × 16 columns</p>\n",
       "</div>"
      ],
      "text/plain": [
       "             ERM       KDEL        LMA       MITO        NES        NIK  \\\n",
       "0      57.045409  35.456782  22.008215  12.355106  22.789983  24.241731   \n",
       "1       0.000000   0.000000   0.000000   0.000000   0.000000   0.000000   \n",
       "2      17.449430  34.151539  29.338431  22.237585  24.682767  43.612551   \n",
       "3       3.830180   2.576734   5.737850   0.761343   2.786808   2.784356   \n",
       "4      13.132915   8.782925  10.061390   3.012459   8.821250   6.721117   \n",
       "...          ...        ...        ...        ...        ...        ...   \n",
       "13805   0.000000   0.000000   0.506809   0.075893   0.050764   0.000000   \n",
       "13806   0.105452   0.087130   0.171187   0.016101   0.079057   0.669947   \n",
       "13807   0.037093   0.444844   0.425368   0.254467   0.323794   1.803249   \n",
       "13808   0.000000   0.519421   2.119115   0.360450   0.887939   0.345021   \n",
       "13809   0.000000   0.226187   0.000000   0.032740   0.157772   0.000000   \n",
       "\n",
       "             NLS       NUCP        OMM          gene_id    gene_biotype  \\\n",
       "0      16.970436  29.348389  54.916891  ENSG00000000003  protein_coding   \n",
       "1       0.000000   2.914814   0.244517  ENSG00000000005  protein_coding   \n",
       "2      38.683963  35.678476  25.348560  ENSG00000000419  protein_coding   \n",
       "3       3.382682   2.463676   2.819269  ENSG00000000457  protein_coding   \n",
       "4      10.827253   8.005113   6.849962  ENSG00000000460  protein_coding   \n",
       "...          ...        ...        ...              ...             ...   \n",
       "13805   0.056586   0.000000   0.000000  ENSG00000281883  protein_coding   \n",
       "13806   0.171672   0.000000   0.254546  ENSG00000282034  protein_coding   \n",
       "13807   1.435483   0.249590   0.483645  ENSG00000282827  protein_coding   \n",
       "13808   1.274465   0.741954   0.460649  ENSG00000282936  protein_coding   \n",
       "13809   0.301875   0.000000   0.016665  ENSG00000282988  protein_coding   \n",
       "\n",
       "                                                     seq  \\\n",
       "0      ACCTTGTATTAGGTATTTATTTCCACAAAAGTTTGATGCTTACAAC...   \n",
       "1      TGTGCACAGAAGTTATATACATATATGGGTATATCTATGTAACAAA...   \n",
       "2      TACTTTATGCAAAAAAAAATATACATTTATTTATAGGTCTCAATAC...   \n",
       "3      TGACTTTCAAACCATTTTAATATTTCAAATATTCCAGAACAATCCC...   \n",
       "4      AACCCGCTCGGGTCCCCTTCCACACTGTGGAAGCTTTGTTCTTTCG...   \n",
       "...                                                  ...   \n",
       "13805  GGGAAGAAAGGAGCCTGACTCTTATGATGGAATAACCACAAATCAG...   \n",
       "13806  GTGTCGGACGGCATGACAGGCAGCAATCCTGTGTCCCCTGCCTCAT...   \n",
       "13807  ATGGCGGGGACCTCCGCGCCAGGCAGCAAGAGGCGGAGCGAGCCCC...   \n",
       "13808  CTACTGGAACGCCCCCCTCAATCTAGCCTCCCCCACATAACTCTCT...   \n",
       "13809  TGGTCTATCTCCCAAGTCAAAGACTGAAGTAAAGAAAAAGGTTGCA...   \n",
       "\n",
       "                                                  struct  m6A_5UTR  m6A_CDS  \\\n",
       "0      [nan, nan, nan, nan, nan, nan, nan, nan, nan, ...         0        0   \n",
       "1      [nan, nan, nan, nan, nan, nan, nan, nan, nan, ...         0        0   \n",
       "2      [nan, nan, nan, nan, nan, nan, nan, nan, nan, ...         0        0   \n",
       "3      [nan, nan, nan, nan, nan, nan, nan, nan, nan, ...         0        9   \n",
       "4      [nan, nan, nan, nan, nan, nan, nan, nan, nan, ...         0        0   \n",
       "...                                                  ...       ...      ...   \n",
       "13805  [nan, nan, nan, nan, nan, nan, nan, nan, nan, ...         0        2   \n",
       "13806  [0.37599998712539673, 0.0, 0.07500000298023224...         0       66   \n",
       "13807  [nan, nan, nan, nan, nan, nan, nan, nan, nan, ...         0        0   \n",
       "13808  [nan, nan, nan, nan, nan, nan, nan, nan, nan, ...         0        0   \n",
       "13809  [nan, nan, nan, nan, nan, nan, nan, nan, nan, ...         0        0   \n",
       "\n",
       "       m6A_3UTR  \n",
       "0             1  \n",
       "1             0  \n",
       "2             0  \n",
       "3             5  \n",
       "4             2  \n",
       "...         ...  \n",
       "13805         1  \n",
       "13806         4  \n",
       "13807         0  \n",
       "13808         2  \n",
       "13809         0  \n",
       "\n",
       "[13810 rows x 16 columns]"
      ]
     },
     "execution_count": 2,
     "metadata": {},
     "output_type": "execute_result"
    }
   ],
   "source": [
    "# Initializing test/train split\n",
    "\n",
    "\n",
    "colab = False  #### Set colab flag ####\n",
    "\n",
    "if colab:\n",
    "    np.random.seed(3)\n",
    "    url = 'https://www.dropbox.com/s/hv4uau8q4wwg00k/final_data.csv?dl=1'\n",
    "    data_org = pd.read_csv(url)\n",
    "    test_data = data_org.sample(frac=0.1)\n",
    "    train_data = data_org.drop(test_data.index)\n",
    "else:\n",
    "    np.random.seed(3)\n",
    "    data_org = pd.read_csv('~/Downloads/final_data.csv')\n",
    "    test_data = data_org.sample(frac=0.1)\n",
    "    train_data = data_org.drop(test_data.index) # TODO: note: we also have to preprocess the test set similary\n",
    "    # TODO: colab\n",
    "\n",
    "data_org"
   ]
  },
  {
   "attachments": {},
   "cell_type": "markdown",
   "metadata": {},
   "source": [
    "### **2** |  Initializations\n",
    "\n",
    "We use as baseline model the [RNATracker](https://github.com/HarveyYan/RNATracker/blob/master/Models/cnn_bilstm_attention.py) model and a CNN model.\n"
   ]
  },
  {
   "cell_type": "code",
   "execution_count": 3,
   "metadata": {},
   "outputs": [],
   "source": [
    "max_seq_len = train_data['seq'].apply(lambda x: len(x)).max()\n",
    "\n",
    "# DataLoader\n",
    "param_dataLoader_train = {\n",
    "    'padding_length': max_seq_len,\n",
    "    \"batch_size\": 32,\n",
    "    \"shuffle\": True\n",
    "    }\n",
    "\n",
    "param_dataLoader_valid = {\n",
    "    'padding_length': max_seq_len,\n",
    "    \"batch_size\": 32,\n",
    "    \"shuffle\": True\n",
    "    }\n",
    "\n",
    "params_model = {'conv': [{'filters': 64, 'kernel_size': 9, 'activation': 'relu', 'input_shape': (max_seq_len, 4)}],\n",
    "                'dense': [{'units': 9, 'activation': 'softmax'}],\n",
    "                'pooling': [{'pool_size': 34518, 'strides': 1}]}\n",
    "\n",
    "params_train = {'epochs': 10, 'use_multiprocessing': True}"
   ]
  },
  {
   "cell_type": "code",
   "execution_count": 4,
   "metadata": {},
   "outputs": [
    {
     "name": "stderr",
     "output_type": "stream",
     "text": [
      "2023-06-24 01:27:55.651292: I tensorflow/core/platform/cpu_feature_guard.cc:182] This TensorFlow binary is optimized to use available CPU instructions in performance-critical operations.\n",
      "To enable the following instructions: SSE4.1 SSE4.2, in other operations, rebuild TensorFlow with the appropriate compiler flags.\n"
     ]
    },
    {
     "name": "stdout",
     "output_type": "stream",
     "text": [
      "Model: \"model\"\n",
      "_________________________________________________________________\n",
      " Layer (type)                Output Shape              Param #   \n",
      "=================================================================\n",
      " input_1 (InputLayer)        [(None, 34526, 4)]        0         \n",
      "                                                                 \n",
      " conv1d (Conv1D)             (None, 34518, 64)         2368      \n",
      "                                                                 \n",
      " max_pooling1d (MaxPooling1D  (None, 1, 64)            0         \n",
      " )                                                               \n",
      "                                                                 \n",
      " flatten (Flatten)           (None, 64)                0         \n",
      "                                                                 \n",
      " dense (Dense)               (None, 9)                 585       \n",
      "                                                                 \n",
      "=================================================================\n",
      "Total params: 2,953\n",
      "Trainable params: 2,953\n",
      "Non-trainable params: 0\n",
      "_________________________________________________________________\n"
     ]
    }
   ],
   "source": [
    "# training, only need for the model initialization to change in general\n",
    "from models import func_CNN as CNN\n",
    "\n",
    "VALIDATION_ACCURACY = []\n",
    "VALIDATION_LOSS = []\n",
    "\n",
    "valid_data = train_data.sample(frac=0.2)\n",
    "train_data = train_data.drop(valid_data.index)\n",
    "\n",
    "model = CNN(architecure='cpfe',\n",
    "            input_size=(max_seq_len, 4),\n",
    "            params_model=params_model)     \n",
    "\n",
    "model.model.summary()"
   ]
  },
  {
   "cell_type": "code",
   "execution_count": 5,
   "metadata": {},
   "outputs": [
    {
     "name": "stdout",
     "output_type": "stream",
     "text": [
      "Epoch 1/10\n"
     ]
    },
    {
     "name": "stderr",
     "output_type": "stream",
     "text": [
      "2023-06-24 01:28:02.146124: I tensorflow/core/common_runtime/executor.cc:1197] [/device:CPU:0] (DEBUG INFO) Executor start aborting (this does not indicate an error and you can ignore this message): INVALID_ARGUMENT: You must feed a value for placeholder tensor 'Placeholder/_0' with dtype int32\n",
      "\t [[{{node Placeholder/_0}}]]\n"
     ]
    },
    {
     "name": "stdout",
     "output_type": "stream",
     "text": [
      "311/311 [==============================] - 77s 229ms/step - loss: 2.1728 - accuracy: 0.1555\n",
      "Epoch 2/10\n",
      "311/311 [==============================] - 74s 223ms/step - loss: 2.1676 - accuracy: 0.1830\n",
      "Epoch 3/10\n",
      "311/311 [==============================] - 75s 227ms/step - loss: 2.1654 - accuracy: 0.1941\n",
      "Epoch 4/10\n",
      "311/311 [==============================] - 73s 221ms/step - loss: 2.1644 - accuracy: 0.2062\n",
      "Epoch 5/10\n",
      "311/311 [==============================] - 73s 221ms/step - loss: 2.1634 - accuracy: 0.2116\n",
      "Epoch 6/10\n",
      "311/311 [==============================] - 76s 227ms/step - loss: 2.1630 - accuracy: 0.2124\n",
      "Epoch 7/10\n",
      "311/311 [==============================] - 73s 220ms/step - loss: 2.1625 - accuracy: 0.2135\n",
      "Epoch 8/10\n",
      "311/311 [==============================] - 73s 221ms/step - loss: 2.1620 - accuracy: 0.2187\n",
      "Epoch 9/10\n",
      "311/311 [==============================] - 73s 221ms/step - loss: 2.1617 - accuracy: 0.2169\n",
      "Epoch 10/10\n",
      "311/311 [==============================] - 73s 220ms/step - loss: 2.1613 - accuracy: 0.2220\n"
     ]
    }
   ],
   "source": [
    "history = model.fit(train_data=train_data, params_dataLoader=param_dataLoader_train, params_train=params_train)\n"
   ]
  },
  {
   "cell_type": "code",
   "execution_count": 6,
   "metadata": {},
   "outputs": [
    {
     "name": "stderr",
     "output_type": "stream",
     "text": [
      "2023-06-24 01:41:10.453170: I tensorflow/core/common_runtime/executor.cc:1197] [/device:CPU:0] (DEBUG INFO) Executor start aborting (this does not indicate an error and you can ignore this message): INVALID_ARGUMENT: You must feed a value for placeholder tensor 'Placeholder/_0' with dtype int32\n",
      "\t [[{{node Placeholder/_0}}]]\n"
     ]
    },
    {
     "name": "stdout",
     "output_type": "stream",
     "text": [
      "78/78 [==============================] - 6s 78ms/step - loss: 2.1681 - accuracy: 0.1991\n"
     ]
    }
   ],
   "source": [
    "results = model.evaluate(eval_data=valid_data, params_dataLoader=param_dataLoader_valid)\n",
    "results = dict(zip(model.model.metrics_names, results))\n",
    "\n",
    "VALIDATION_ACCURACY.append(results['accuracy'])\n",
    "VALIDATION_LOSS.append(results['loss'])"
   ]
  },
  {
   "cell_type": "code",
   "execution_count": 7,
   "metadata": {},
   "outputs": [
    {
     "name": "stdout",
     "output_type": "stream",
     "text": [
      " 1/78 [..............................] - ETA: 11s"
     ]
    },
    {
     "name": "stderr",
     "output_type": "stream",
     "text": [
      "2023-06-24 01:41:17.437854: I tensorflow/core/common_runtime/executor.cc:1197] [/device:CPU:0] (DEBUG INFO) Executor start aborting (this does not indicate an error and you can ignore this message): INVALID_ARGUMENT: You must feed a value for placeholder tensor 'Placeholder/_0' with dtype int32\n",
      "\t [[{{node Placeholder/_0}}]]\n"
     ]
    },
    {
     "name": "stdout",
     "output_type": "stream",
     "text": [
      "78/78 [==============================] - 6s 77ms/step\n"
     ]
    },
    {
     "data": {
      "text/plain": [
       "array([[0.1448117 , 0.09565755, 0.11976136, ..., 0.11977547, 0.1099736 ,\n",
       "        0.12497236],\n",
       "       [0.12483083, 0.09812329, 0.14572921, ..., 0.12288329, 0.12328696,\n",
       "        0.11558953],\n",
       "       [0.11101359, 0.12749611, 0.14039908, ..., 0.14050837, 0.12611333,\n",
       "        0.09401712],\n",
       "       ...,\n",
       "       [0.11757755, 0.11329851, 0.13485661, ..., 0.12781405, 0.11597073,\n",
       "        0.09540898],\n",
       "       [0.07521828, 0.14815407, 0.11011802, ..., 0.13591173, 0.15026306,\n",
       "        0.1090359 ],\n",
       "       [0.08187462, 0.15230897, 0.11335406, ..., 0.14444579, 0.15429641,\n",
       "        0.10313325]], dtype=float32)"
      ]
     },
     "execution_count": 7,
     "metadata": {},
     "output_type": "execute_result"
    }
   ],
   "source": [
    "model.predict(valid_data, params_dataLoader=param_dataLoader_valid)"
   ]
  },
  {
   "cell_type": "code",
   "execution_count": 8,
   "metadata": {},
   "outputs": [
    {
     "ename": "IndexError",
     "evalue": "list index out of range",
     "output_type": "error",
     "traceback": [
      "\u001b[0;31m---------------------------------------------------------------------------\u001b[0m",
      "\u001b[0;31mIndexError\u001b[0m                                Traceback (most recent call last)",
      "Cell \u001b[0;32mIn[8], line 4\u001b[0m\n\u001b[1;32m      1\u001b[0m \u001b[39mfrom\u001b[39;00m \u001b[39mmodels\u001b[39;00m\u001b[39m.\u001b[39;00m\u001b[39mutils\u001b[39;00m \u001b[39mimport\u001b[39;00m plot_line_graph\n\u001b[1;32m      3\u001b[0m plt_data \u001b[39m=\u001b[39m [history\u001b[39m.\u001b[39mhistory[\u001b[39m'\u001b[39m\u001b[39mloss\u001b[39m\u001b[39m'\u001b[39m]]\n\u001b[0;32m----> 4\u001b[0m plot_line_graph(plt_data, \u001b[39m\"\u001b[39;49m\u001b[39mLoss Graph\u001b[39;49m\u001b[39m\"\u001b[39;49m, \u001b[39m'\u001b[39;49m\u001b[39mloss\u001b[39;49m\u001b[39m'\u001b[39;49m, \u001b[39m'\u001b[39;49m\u001b[39mepoch\u001b[39;49m\u001b[39m'\u001b[39;49m, [\u001b[39m'\u001b[39;49m\u001b[39mtest\u001b[39;49m\u001b[39m'\u001b[39;49m, \u001b[39m'\u001b[39;49m\u001b[39mval\u001b[39;49m\u001b[39m'\u001b[39;49m])\n\u001b[1;32m      6\u001b[0m plt_data \u001b[39m=\u001b[39m [history\u001b[39m.\u001b[39mhistory[\u001b[39m'\u001b[39m\u001b[39maccuracy\u001b[39m\u001b[39m'\u001b[39m]]\n\u001b[1;32m      7\u001b[0m plot_line_graph(plt_data, \u001b[39m\"\u001b[39m\u001b[39mAccuracy Graph\u001b[39m\u001b[39m\"\u001b[39m, \u001b[39m'\u001b[39m\u001b[39maccuracy\u001b[39m\u001b[39m'\u001b[39m, \u001b[39m'\u001b[39m\u001b[39mepoch\u001b[39m\u001b[39m'\u001b[39m, [\u001b[39m'\u001b[39m\u001b[39mtest\u001b[39m\u001b[39m'\u001b[39m, \u001b[39m'\u001b[39m\u001b[39mval\u001b[39m\u001b[39m'\u001b[39m])\n",
      "File \u001b[0;32m~/Desktop/TUM/rna-localization/models/utils.py:100\u001b[0m, in \u001b[0;36mplot_line_graph\u001b[0;34m(data, title, ylabel, xlabel, legend)\u001b[0m\n\u001b[1;32m     97\u001b[0m \u001b[39mdef\u001b[39;00m \u001b[39mplot_line_graph\u001b[39m(data, title, ylabel, xlabel, legend):\n\u001b[1;32m     98\u001b[0m     \u001b[39m# for i in range(len(data)):\u001b[39;00m\n\u001b[1;32m     99\u001b[0m     plt\u001b[39m.\u001b[39mplot(data[\u001b[39m0\u001b[39m])\n\u001b[0;32m--> 100\u001b[0m     plt\u001b[39m.\u001b[39mplot(data[\u001b[39m1\u001b[39;49m])\n\u001b[1;32m    101\u001b[0m     plt\u001b[39m.\u001b[39mtitle(title)\n\u001b[1;32m    102\u001b[0m     plt\u001b[39m.\u001b[39mylabel(ylabel)\n",
      "\u001b[0;31mIndexError\u001b[0m: list index out of range"
     ]
    },
    {
     "data": {
      "image/png": "[encoded data removed]",
      "text/plain": [
       "<Figure size 2240x1680 with 1 Axes>"
      ]
     },
     "metadata": {},
     "output_type": "display_data"
    }
   ],
   "source": [
    "from models.utils import plot_line_graph\n",
    "\n",
    "plt_data = [history.history['loss']]\n",
    "plot_line_graph(plt_data, \"Loss Graph\", 'loss', 'epoch', ['test', 'val'])\n",
    "\n",
    "plt_data = [history.history['accuracy']]\n",
    "plot_line_graph(plt_data, \"Accuracy Graph\", 'accuracy', 'epoch', ['test', 'val'])"
   ]
  },
  {
   "cell_type": "code",
   "execution_count": 9,
   "metadata": {},
   "outputs": [
    {
     "data": {
      "text/plain": [
       "[[2.1727511882781982,\n",
       "  2.167574405670166,\n",
       "  2.1654391288757324,\n",
       "  2.164416790008545,\n",
       "  2.163383722305298,\n",
       "  2.1630163192749023,\n",
       "  2.162487268447876,\n",
       "  2.1619675159454346,\n",
       "  2.161668062210083,\n",
       "  2.161288261413574]]"
      ]
     },
     "execution_count": 9,
     "metadata": {},
     "output_type": "execute_result"
    }
   ],
   "source": [
    "plt_data"
   ]
  },
  {
   "cell_type": "code",
   "execution_count": 10,
   "metadata": {},
   "outputs": [],
   "source": [
    "import keras\n",
    "keras.backend.clear_session()"
   ]
  },
  {
   "cell_type": "code",
   "execution_count": null,
   "metadata": {},
   "outputs": [],
   "source": []
  }
 ],
 "metadata": {
  "kernelspec": {
   "display_name": "rna_localization",
   "language": "python",
   "name": "python3"
  },
  "language_info": {
   "codemirror_mode": {
    "name": "ipython",
    "version": 3
   },
   "file_extension": ".py",
   "mimetype": "text/x-python",
   "name": "python",
   "nbconvert_exporter": "python",
   "pygments_lexer": "ipython3",
   "version": "3.11.3"
  },
  "orig_nbformat": 4
 },
 "nbformat": 4,
 "nbformat_minor": 2
}
