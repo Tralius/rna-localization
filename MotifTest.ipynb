{
 "nbformat": 4,
 "nbformat_minor": 0,
 "metadata": {
  "colab": {
   "provenance": [],
   "authorship_tag": "ABX9TyMPQdX4cOoZzqVG2F9xuy/Y"
  },
  "kernelspec": {
   "name": "python3",
   "display_name": "Python 3"
  },
  "language_info": {
   "name": "python"
  }
 },
 "cells": [
  {
   "cell_type": "code",
   "execution_count": null,
   "metadata": {
    "colab": {
     "base_uri": "https://localhost:8080/"
    },
    "id": "byG_wTrfJTsq",
    "executionInfo": {
     "status": "ok",
     "timestamp": 1688468983722,
     "user_tz": -120,
     "elapsed": 24575,
     "user": {
      "displayName": "Weyh Paulina",
      "userId": "16400222771279669289"
     }
    },
    "outputId": "50501038-35ae-4764-b5f8-84af37c007ec",
    "pycharm": {
     "is_executing": true
    }
   },
   "outputs": [],
   "source": [
    "import numpy as np\n",
    "from tensorflow import keras\n",
    "from motif_search.motif_utilities import plot_weights"
   ]
  },
  {
   "cell_type": "code",
   "source": [
    "# Load your trained model\n",
    "path = '/content/gdrive/MyDrive/Uni/Machine Learning in Regulatory Genomics/scripte/models/'\n",
    "model = keras.models.load_model(path + 'moitfTest3.keras')\n",
    "\n",
    "model.summary()\n",
    "\n",
    "conv_layer = model.get_layer('conv1d')  # Replace 'conv1d' with the actual name of your convolutional layer\n",
    "weights = conv_layer.get_weights()[0]"
   ],
   "metadata": {
    "id": "Z_gKS6N6MFIQ"
   },
   "execution_count": null,
   "outputs": []
  },
  {
   "cell_type": "code",
   "source": [
    "print(weights.shape) #channels * input * kernel_size\n",
    "\n",
    "# tensorflow(kernel_size, input_shape, n_filters)\n",
    "for i in range(64): #weights.shape[2]\n",
    "  w = np.array(weights[:,:,i]) #having np.array is important!\n",
    "  plot_weights(w)"
   ],
   "metadata": {
    "id": "rQLCAmVbNLd3",
    "executionInfo": {
     "status": "ok",
     "timestamp": 1688469078836,
     "user_tz": -120,
     "elapsed": 40008,
     "user": {
      "displayName": "Weyh Paulina",
      "userId": "16400222771279669289"
     }
    },
    "colab": {
     "base_uri": "https://localhost:8080/",
     "height": 1000,
     "output_embedded_package_id": "1b7Imjbjmscd4KNgKxVa9Sz5UIdpBitHG"
    },
    "outputId": "8f5f9cb3-7dfd-43ce-ca7f-65bc7d6f536a",
    "pycharm": {
     "is_executing": true
    }
   },
   "execution_count": null,
   "outputs": []
  }
 ]
}
