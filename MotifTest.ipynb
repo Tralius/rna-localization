{
 "cells": [
  {
   "cell_type": "code",
   "execution_count": 1,
   "metadata": {
    "colab": {
     "base_uri": "https://localhost:8080/"
    },
    "executionInfo": {
     "elapsed": 24575,
     "status": "ok",
     "timestamp": 1688468983722,
     "user": {
      "displayName": "Weyh Paulina",
      "userId": "16400222771279669289"
     },
     "user_tz": -120
    },
    "id": "byG_wTrfJTsq",
    "outputId": "50501038-35ae-4764-b5f8-84af37c007ec",
    "pycharm": {
     "is_executing": true
    }
   },
   "outputs": [
    {
     "name": "stderr",
     "output_type": "stream",
     "text": [
      "2023-07-11 17:22:47.698609: I tensorflow/tsl/cuda/cudart_stub.cc:28] Could not find cuda drivers on your machine, GPU will not be used.\n",
      "2023-07-11 17:22:48.100045: I tensorflow/tsl/cuda/cudart_stub.cc:28] Could not find cuda drivers on your machine, GPU will not be used.\n",
      "2023-07-11 17:22:48.102007: I tensorflow/core/platform/cpu_feature_guard.cc:182] This TensorFlow binary is optimized to use available CPU instructions in performance-critical operations.\n",
      "To enable the following instructions: AVX2 FMA, in other operations, rebuild TensorFlow with the appropriate compiler flags.\n",
      "2023-07-11 17:22:49.263076: W tensorflow/compiler/tf2tensorrt/utils/py_utils.cc:38] TF-TRT Warning: Could not find TensorRT\n"
     ]
    }
   ],
   "source": [
    "import numpy as np\n",
    "from tensorflow import keras\n",
    "from motif_search.motif_utilities import plot_weights\n",
    "path = \"/home/steve/Documents/main_storage/resource_data/tep/outputsweights_rnatracker_almost15epochs.h5\""
   ]
  },
  {
   "cell_type": "code",
   "execution_count": 2,
   "metadata": {
    "id": "Z_gKS6N6MFIQ"
   },
   "outputs": [
    {
     "name": "stderr",
     "output_type": "stream",
     "text": [
      "/home/steve/anaconda3/envs/reggen/lib/python3.11/site-packages/keras/layers/core/lambda_layer.py:325: UserWarning: models.RNAtracker is not loaded, but a Lambda layer uses it. It may cause errors.\n",
      "  function = cls._parse_function_from_config(\n"
     ]
    },
    {
     "ename": "ValueError",
     "evalue": "bad marshal data (unknown type code)",
     "output_type": "error",
     "traceback": [
      "\u001B[0;31m---------------------------------------------------------------------------\u001B[0m",
      "\u001B[0;31mValueError\u001B[0m                                Traceback (most recent call last)",
      "Cell \u001B[0;32mIn[2], line 3\u001B[0m\n\u001B[1;32m      1\u001B[0m \u001B[39m# Load your trained model\u001B[39;00m\n\u001B[1;32m      2\u001B[0m \u001B[39m#path = '/content/gdrive/MyDrive/Uni/Machine Learning in Regulatory Genomics/scripte/models/'\u001B[39;00m\n\u001B[0;32m----> 3\u001B[0m model \u001B[39m=\u001B[39m keras\u001B[39m.\u001B[39;49mmodels\u001B[39m.\u001B[39;49mload_model(path)  \u001B[39m#(path + 'moitfTest3.keras')\u001B[39;00m\n\u001B[1;32m      5\u001B[0m model\u001B[39m.\u001B[39msummary()\n\u001B[1;32m      7\u001B[0m conv_layer \u001B[39m=\u001B[39m model\u001B[39m.\u001B[39mget_layer(\u001B[39m'\u001B[39m\u001B[39mconv1d\u001B[39m\u001B[39m'\u001B[39m)  \u001B[39m# Replace 'conv1d' with the actual name of your convolutional layer\u001B[39;00m\n",
      "File \u001B[0;32m~/anaconda3/envs/reggen/lib/python3.11/site-packages/keras/saving/saving_api.py:212\u001B[0m, in \u001B[0;36mload_model\u001B[0;34m(filepath, custom_objects, compile, safe_mode, **kwargs)\u001B[0m\n\u001B[1;32m    204\u001B[0m     \u001B[39mreturn\u001B[39;00m saving_lib\u001B[39m.\u001B[39mload_model(\n\u001B[1;32m    205\u001B[0m         filepath,\n\u001B[1;32m    206\u001B[0m         custom_objects\u001B[39m=\u001B[39mcustom_objects,\n\u001B[1;32m    207\u001B[0m         \u001B[39mcompile\u001B[39m\u001B[39m=\u001B[39m\u001B[39mcompile\u001B[39m,\n\u001B[1;32m    208\u001B[0m         safe_mode\u001B[39m=\u001B[39msafe_mode,\n\u001B[1;32m    209\u001B[0m     )\n\u001B[1;32m    211\u001B[0m \u001B[39m# Legacy case.\u001B[39;00m\n\u001B[0;32m--> 212\u001B[0m \u001B[39mreturn\u001B[39;00m legacy_sm_saving_lib\u001B[39m.\u001B[39;49mload_model(\n\u001B[1;32m    213\u001B[0m     filepath, custom_objects\u001B[39m=\u001B[39;49mcustom_objects, \u001B[39mcompile\u001B[39;49m\u001B[39m=\u001B[39;49m\u001B[39mcompile\u001B[39;49m, \u001B[39m*\u001B[39;49m\u001B[39m*\u001B[39;49mkwargs\n\u001B[1;32m    214\u001B[0m )\n",
      "File \u001B[0;32m~/anaconda3/envs/reggen/lib/python3.11/site-packages/keras/utils/traceback_utils.py:70\u001B[0m, in \u001B[0;36mfilter_traceback.<locals>.error_handler\u001B[0;34m(*args, **kwargs)\u001B[0m\n\u001B[1;32m     67\u001B[0m     filtered_tb \u001B[39m=\u001B[39m _process_traceback_frames(e\u001B[39m.\u001B[39m__traceback__)\n\u001B[1;32m     68\u001B[0m     \u001B[39m# To get the full stack trace, call:\u001B[39;00m\n\u001B[1;32m     69\u001B[0m     \u001B[39m# `tf.debugging.disable_traceback_filtering()`\u001B[39;00m\n\u001B[0;32m---> 70\u001B[0m     \u001B[39mraise\u001B[39;00m e\u001B[39m.\u001B[39mwith_traceback(filtered_tb) \u001B[39mfrom\u001B[39;00m \u001B[39mNone\u001B[39;00m\n\u001B[1;32m     71\u001B[0m \u001B[39mfinally\u001B[39;00m:\n\u001B[1;32m     72\u001B[0m     \u001B[39mdel\u001B[39;00m filtered_tb\n",
      "File \u001B[0;32m~/anaconda3/envs/reggen/lib/python3.11/site-packages/keras/utils/generic_utils.py:102\u001B[0m, in \u001B[0;36mfunc_load\u001B[0;34m(code, defaults, closure, globs)\u001B[0m\n\u001B[1;32m    100\u001B[0m \u001B[39mexcept\u001B[39;00m (\u001B[39mUnicodeEncodeError\u001B[39;00m, binascii\u001B[39m.\u001B[39mError):\n\u001B[1;32m    101\u001B[0m     raw_code \u001B[39m=\u001B[39m code\u001B[39m.\u001B[39mencode(\u001B[39m\"\u001B[39m\u001B[39mraw_unicode_escape\u001B[39m\u001B[39m\"\u001B[39m)\n\u001B[0;32m--> 102\u001B[0m code \u001B[39m=\u001B[39m marshal\u001B[39m.\u001B[39;49mloads(raw_code)\n\u001B[1;32m    103\u001B[0m \u001B[39mif\u001B[39;00m globs \u001B[39mis\u001B[39;00m \u001B[39mNone\u001B[39;00m:\n\u001B[1;32m    104\u001B[0m     globs \u001B[39m=\u001B[39m \u001B[39mglobals\u001B[39m()\n",
      "\u001B[0;31mValueError\u001B[0m: bad marshal data (unknown type code)"
     ]
    }
   ],
   "source": [
    "# Load your trained model\n",
    "#path = '/content/gdrive/MyDrive/Uni/Machine Learning in Regulatory Genomics/scripte/models/'\n",
    "model = keras.models.load_model(path)  #(path + 'moitfTest3.keras')\n",
    "\n",
    "model.summary()\n",
    "\n",
    "conv_layer = model.get_layer('conv1d')  # Replace 'conv1d' with the actual name of your convolutional layer\n",
    "weights = conv_layer.get_weights()[0]"
   ]
  },
  {
   "cell_type": "code",
   "execution_count": null,
   "metadata": {
    "colab": {
     "base_uri": "https://localhost:8080/",
     "height": 1000,
     "output_embedded_package_id": "1b7Imjbjmscd4KNgKxVa9Sz5UIdpBitHG"
    },
    "executionInfo": {
     "elapsed": 40008,
     "status": "ok",
     "timestamp": 1688469078836,
     "user": {
      "displayName": "Weyh Paulina",
      "userId": "16400222771279669289"
     },
     "user_tz": -120
    },
    "id": "rQLCAmVbNLd3",
    "outputId": "8f5f9cb3-7dfd-43ce-ca7f-65bc7d6f536a",
    "pycharm": {
     "is_executing": true
    }
   },
   "outputs": [],
   "source": [
    "print(weights.shape) #channels * input * kernel_size\n",
    "\n",
    "# tensorflow(kernel_size, input_shape, n_filters)\n",
    "for i in range(64): #weights.shape[2]\n",
    "  w = np.array(weights[:,:,i]) #having np.array is important!\n",
    "  plot_weights(w)"
   ]
  }
 ],
 "metadata": {
  "colab": {
   "authorship_tag": "ABX9TyMPQdX4cOoZzqVG2F9xuy/Y",
   "provenance": []
  },
  "kernelspec": {
   "display_name": "Python 3",
   "name": "python3"
  },
  "language_info": {
   "codemirror_mode": {
    "name": "ipython",
    "version": 3
   },
   "file_extension": ".py",
   "mimetype": "text/x-python",
   "name": "python",
   "nbconvert_exporter": "python",
   "pygments_lexer": "ipython3",
   "version": "3.11.3"
  }
 },
 "nbformat": 4,
 "nbformat_minor": 0
}
