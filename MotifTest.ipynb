{
 "cells": [
  {
   "cell_type": "code",
   "execution_count": null,
   "metadata": {
    "collapsed": false
   },
   "outputs": [],
   "source": [
    "# Modisco\n",
    "%matplotlib inline\n",
    "\n",
    "import modisco\n",
    "import json\n",
    "import os.path\n",
    "import pandas as pd\n",
    "import numpy as np\n",
    "import h5py\n",
    "from metrics import Pearson\n",
    "from collections import OrderedDict, Counter, defaultdict\n",
    "from keras.utils import to_categorical\n",
    "from keras.models import load_model\n",
    "from utils import prepare_data\n",
    "\n"
   ]
  },
  {
   "cell_type": "code",
   "execution_count": 2,
   "metadata": {
    "ExecuteTime": {
     "end_time": "2023-07-16T17:49:00.725494Z",
     "start_time": "2023-07-16T17:49:00.671931Z"
    },
    "collapsed": false
   },
   "outputs": [],
   "source": [
    "def one_hot_emb(data: pd.DataFrame) -> pd.DataFrame:\n",
    "    mapping = {\n",
    "        'A': 0,\n",
    "        'C': 1,\n",
    "        'G': 2,\n",
    "        'T': 3\n",
    "    }\n",
    "    one_hot_encode_lam = lambda seq: to_categorical([mapping[x] for x in seq])\n",
    "    return data.apply(one_hot_encode_lam)"
   ]
  },
  {
   "cell_type": "code",
   "execution_count": 3,
   "metadata": {
    "ExecuteTime": {
     "end_time": "2023-07-16T17:49:42.622142Z",
     "start_time": "2023-07-16T17:49:08.585300Z"
    },
    "collapsed": false
   },
   "outputs": [],
   "source": [
    "train_data, valid_data, test_data = prepare_data()\n",
    "\n",
    "max_seq_len = train_data['seq'].apply(lambda x: len(x)).max()\n",
    "\n",
    "max_seq_len = 20788\n",
    "\n",
    "train_data['length'] = train_data.seq.str.len()\n",
    "\n",
    "train_data = train_data[train_data.length <= max_seq_len]\n",
    "\n",
    "data_one_hot = one_hot_emb(train_data['seq'])\n",
    "#data_struct = train_data['struct']\n",
    "\n",
    "#padded_sequences = np.zeros((len(train_data['seq']), max_seq_len, 6), dtype=np.float32)\n",
    "padded_sequences = np.zeros((len(train_data['seq']), max_seq_len, 4), dtype=np.float32)\n",
    "\n",
    "indices = np.arange(train_data.shape[0])\n",
    "\n",
    "for i, idx in enumerate(indices):\n",
    "    #tmp = data_struct.iloc[idx]\n",
    "    #padded_mask_struct = np.expand_dims(np.array(tmp != 'nan'), axis=1)\n",
    "    #tmp[tmp == 'nan'] = -1\n",
    "    #padded_struct = np.expand_dims(tmp, axis=1).astype('float64')\n",
    "    seq_data = data_one_hot.iloc[idx]\n",
    "    #seq_data = np.concatenate([seq_data, padded_mask_struct, padded_struct], axis=1)\n",
    "    padded_sequences[i, -len(data_one_hot.iloc[idx]):, :] = seq_data\n",
    "\n",
    "data_one_hot = padded_sequences"
   ]
  },
  {
   "cell_type": "code",
   "execution_count": null,
   "metadata": {
    "collapsed": false
   },
   "outputs": [],
   "source": [
    "\"\"\"\n",
    "    Integrated Gradients\n",
    "\"\"\"\n",
    "from motif_search import motif_utilities\n",
    "\n",
    "\n",
    "model_name = \"moitfTest3\"\n",
    "\n",
    "model = load_model(f'model_outputs/{model_name}.keras',compile=False)\n",
    "\n",
    "seqs_to_explain = data_one_hot[:50]\n",
    "\n",
    "gradients = motif_utilities.get_gradients(model, seqs_to_explain)"
   ]
  },
  {
   "cell_type": "code",
   "execution_count": null,
   "metadata": {
    "collapsed": false
   },
   "outputs": [],
   "source": [
    "print(gradients[6])\n",
    "# print(data_one_hot)\n",
    "\n",
    "seq_gradient = gradients[6][::-1]\n",
    "\n",
    "for i in range(10):\n",
    "   motif_utilities.plot_weights(seq_gradient[i*50:(i+1)*50], subticks_frequency=10)"
   ]
  },
  {
   "cell_type": "code",
   "execution_count": null,
   "metadata": {
    "collapsed": false
   },
   "outputs": [],
   "source": [
    "#Uncomment to refresh modules for when tweaking code during development:\n",
    "\n",
    "# Adapted from https://github.com/kundajelab/tfmodisco/blob/master/examples/simulated_TAL_GATA_deeplearning/TF_MoDISco_TAL_GATA.ipynb\n",
    "\n",
    "from importlib import reload\n",
    "reload(modisco.util)\n",
    "reload(modisco.pattern_filterer)\n",
    "reload(modisco.aggregator)\n",
    "reload(modisco.core)\n",
    "reload(modisco.seqlet_embedding.advanced_gapped_kmer)\n",
    "reload(modisco.affinitymat.transformers)\n",
    "reload(modisco.affinitymat.core)\n",
    "reload(modisco.affinitymat)\n",
    "reload(modisco.cluster.core)\n",
    "reload(modisco.cluster)\n",
    "reload(modisco.tfmodisco_workflow.seqlets_to_patterns)\n",
    "reload(modisco.tfmodisco_workflow)\n",
    "reload(modisco)\n",
    "\n",
    "scores = OrderedDict()\n",
    "scores[\"task0\"] = gradients\n",
    "hypothetical_scores = [] # optional\n",
    "\n",
    "tasks = {\n",
    "    \"task0\": \"Identify high-importance windows of the sequences, termed seqlets\",\n",
    "    \"task1\": \"Cluster recurring similar seqlets into motifs\",\n",
    "    \"task2\": \"Scan through importance scores across the genome to call motif instances (AKA hit scoring)\"\n",
    "}\n",
    "\n",
    "null_per_pos_scores = modisco.coordproducers.LaplaceNullDist(num_to_samp=len(scores))\n",
    "\n",
    "tfmodisco_results = modisco.tfmodisco_workflow.workflow.TfModiscoWorkflow(\n",
    "                    sliding_window_size=11,\n",
    "                    flank_size=5,\n",
    "                    target_seqlet_fdr=0.15,\n",
    "                    seqlets_to_patterns_factory=\n",
    "                     modisco.tfmodisco_workflow.seqlets_to_patterns.TfModiscoSeqletsToPatternsFactory(\n",
    "                        trim_to_window_size=11,\n",
    "                        initial_flank_to_add=5,\n",
    "                        final_flank_to_add=5,\n",
    "                        final_min_cluster_size=60,\n",
    "                        n_cores=4)\n",
    "                )(\n",
    "                 task_names=[\"task0\"],#, \"task1\", \"task2\"],\n",
    "                 contrib_scores=scores,\n",
    "                 hypothetical_contribs=scores,\n",
    "                 one_hot=data_one_hot[:50])"
   ]
  },
  {
   "cell_type": "markdown",
   "metadata": {
    "collapsed": false
   },
   "source": []
  }
 ],
 "metadata": {
  "colab": {
   "authorship_tag": "ABX9TyMPQdX4cOoZzqVG2F9xuy/Y",
   "provenance": []
  },
  "kernelspec": {
   "display_name": "Python 3 (ipykernel)",
   "language": "python",
   "name": "python3"
  },
  "language_info": {
   "codemirror_mode": {
    "name": "ipython",
    "version": 3
   },
   "file_extension": ".py",
   "mimetype": "text/x-python",
   "name": "python",
   "nbconvert_exporter": "python",
   "pygments_lexer": "ipython3",
   "version": "3.11.3"
  }
 },
 "nbformat": 4,
 "nbformat_minor": 0
}
