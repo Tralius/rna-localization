{
 "cells": [
  {
   "cell_type": "code",
   "execution_count": 11,
   "outputs": [],
   "source": [
    "import pandas as pd\n",
    "import numpy as np\n",
    "import matplotlib.pyplot as plt\n",
    "import random\n",
    "import os\n",
    "from metrics import Pearson\n",
    "from collections import OrderedDict\n",
    "from keras.utils import to_categorical\n",
    "from keras.models import load_model\n",
    "from utils import prepare_data\n",
    "from dataloaders import GeneDataLoader\n",
    "\n",
    "\n"
   ],
   "metadata": {
    "collapsed": false,
    "ExecuteTime": {
     "end_time": "2023-07-17T01:05:45.306359500Z",
     "start_time": "2023-07-17T01:05:45.296080300Z"
    }
   }
  },
  {
   "cell_type": "code",
   "execution_count": 12,
   "outputs": [],
   "source": [
    "def one_hot_emb(data: pd.DataFrame) -> pd.DataFrame:\n",
    "    mapping = {\n",
    "        'A': 0,\n",
    "        'C': 1,\n",
    "        'G': 2,\n",
    "        'T': 3\n",
    "    }\n",
    "    one_hot_encode_lam = lambda seq: to_categorical([mapping[x] for x in seq])\n",
    "    return data.apply(one_hot_encode_lam)\n",
    "\n",
    "def exclude_zero_gradients(gradient):\n",
    "    value = np.sum(gradient)\n",
    "    return value is None or value == 0.0"
   ],
   "metadata": {
    "collapsed": false,
    "ExecuteTime": {
     "end_time": "2023-07-17T01:05:45.306359500Z",
     "start_time": "2023-07-17T01:05:45.301851600Z"
    }
   }
  },
  {
   "cell_type": "code",
   "execution_count": 13,
   "outputs": [],
   "source": [
    "\"\"\"\n",
    "    Integrated Gradients\n",
    "\"\"\"\n",
    "from motif_search import motif_utilities\n",
    "\n",
    "model_name = \"CNN_RNN_no_str\"\n",
    "\n",
    "model = load_model(f'trained_models/{model_name}.h5',compile=False)\n",
    "\n",
    "struct = False\n",
    "\n",
    "m6A = False"
   ],
   "metadata": {
    "collapsed": false,
    "ExecuteTime": {
     "end_time": "2023-07-17T01:05:45.877360100Z",
     "start_time": "2023-07-17T01:05:45.305359500Z"
    }
   }
  },
  {
   "cell_type": "code",
   "execution_count": 14,
   "outputs": [],
   "source": [
    "train_data, valid_data, test_data = prepare_data()\n",
    "\n",
    "max_seq_len = train_data['seq'].apply(lambda x: len(x)).max()\n",
    "\n",
    "dataloader = GeneDataLoader(train_data, shuffle=False, padding_length=max_seq_len, struct=False, m6A=False)\n",
    "\n",
    "compartments = [\"ERM\", \"KDEL\", \"LMA\", \"MITO\", \"NES\", \"NIK\", \"NLS\", \"NUCP\", \"OMM\"]\n",
    "\n",
    "data_split_in_compartments = {\n",
    "    \"ERM\": [],\n",
    "    \"KDEL\": [],\n",
    "    \"LMA\": [],\n",
    "    \"MITO\": [],\n",
    "    \"NES\": [],\n",
    "    \"NIK\": [],\n",
    "    \"NLS\": [],\n",
    "    \"NUCP\": [],\n",
    "    \"OMM\": [],\n",
    "}\n",
    "\n",
    "# Add the compartments in their respective cluster\n",
    "for x_batch, y_batch in dataloader:\n",
    "    for i in range(len(y_batch)):\n",
    "        index = y_batch[i].argmax(axis=0)\n",
    "        data_split_in_compartments[compartments[index]].append(x_batch[0][i])"
   ],
   "metadata": {
    "collapsed": false,
    "ExecuteTime": {
     "end_time": "2023-07-17T01:06:02.966050200Z",
     "start_time": "2023-07-17T01:05:45.881871600Z"
    }
   }
  },
  {
   "cell_type": "code",
   "execution_count": 15,
   "outputs": [
    {
     "data": {
      "text/plain": "<Figure size 640x480 with 1 Axes>",
      "image/png": "[encoded data removed]"
     },
     "metadata": {},
     "output_type": "display_data"
    }
   ],
   "source": [
    "# Plot distribution of most likely compartment\n",
    "\n",
    "compartment_distribution = [len(data_split_in_compartments[compartment]) for compartment in data_split_in_compartments.keys()]\n",
    "\n",
    "fig = plt.figure()\n",
    "ax = fig.add_axes([0,0,1,1])\n",
    "ax.bar(compartments,compartment_distribution)\n",
    "plt.show()"
   ],
   "metadata": {
    "collapsed": false,
    "ExecuteTime": {
     "end_time": "2023-07-17T01:06:03.060661200Z",
     "start_time": "2023-07-17T01:06:02.980613Z"
    }
   }
  },
  {
   "cell_type": "code",
   "execution_count": 16,
   "outputs": [
    {
     "name": "stdout",
     "output_type": "stream",
     "text": [
      "ERM has len: 100\n",
      "KDEL has len: 100\n",
      "LMA has len: 100\n",
      "MITO has len: 95\n",
      "NES has len: 100\n",
      "NIK has len: 100\n",
      "NLS has len: 100\n",
      "NUCP has len: 100\n",
      "OMM has len: 100\n"
     ]
    }
   ],
   "source": [
    "# Downsample compartments because of computational considerents\n",
    "number_of_samples = 100\n",
    "\n",
    "for compartment in data_split_in_compartments:\n",
    "    if len(data_split_in_compartments[compartment]) > 100:\n",
    "        data_split_in_compartments[compartment] = random.sample(data_split_in_compartments[compartment], number_of_samples)\n",
    "    print(f\"{compartment} has len: {len(data_split_in_compartments[compartment])}\")"
   ],
   "metadata": {
    "collapsed": false,
    "ExecuteTime": {
     "end_time": "2023-07-17T01:06:03.068359600Z",
     "start_time": "2023-07-17T01:06:03.062942Z"
    }
   }
  },
  {
   "cell_type": "code",
   "execution_count": null,
   "outputs": [],
   "source": [
    "\"\"\"\n",
    "    Compute and Plot Gradients\n",
    "\"\"\"\n",
    "\n",
    "selected_compartments = [\"ERM\", \"KDEL\", \"LMA\", \"MITO\", \"NES\", \"NIK\", \"NLS\", \"NUCP\", \"OMM\"]\n",
    "\n",
    "number_of_nucleotides = 100\n",
    "\n",
    "start_of_gradient = max_seq_len - number_of_nucleotides\n",
    "\n",
    "for compartment in data_split_in_compartments:\n",
    "    if compartment in selected_compartments:\n",
    "        print(f\"Computing gradient of - {compartment}\")\n",
    "        compartment_data = data_split_in_compartments[compartment]\n",
    "        gradient_of_compartment = motif_utilities.get_gradients(model, compartment_data)\n",
    "\n",
    "        if not os.path.isdir(f\"motif_search/integrated_gradients/{compartment}\"):\n",
    "            os.mkdir(f\"motif_search/integrated_gradients/{compartment}\")\n",
    "\n",
    "        for i in range(len(compartment_data)):\n",
    "            if not exclude_zero_gradients(gradient_of_compartment[i][start_of_gradient:]):\n",
    "                # motif_utilities.plot_weights(compartment_data[i][start_index:], subticks_frequency = 10)\n",
    "                motif_utilities.plot_weights(gradient_of_compartment[i][start_of_gradient:], subticks_frequency=10)\n",
    "                plt.savefig(f'motif_search/integrated_gradients/{compartment}/{compartment}_seq{i}.png')"
   ],
   "metadata": {
    "collapsed": false
   }
  },
  {
   "cell_type": "markdown",
   "source": [],
   "metadata": {
    "collapsed": false
   }
  }
 ],
 "metadata": {
  "colab": {
   "authorship_tag": "ABX9TyMPQdX4cOoZzqVG2F9xuy/Y",
   "provenance": []
  },
  "kernelspec": {
   "name": "python3",
   "language": "python",
   "display_name": "Python 3 (ipykernel)"
  },
  "language_info": {
   "codemirror_mode": {
    "name": "ipython",
    "version": 3
   },
   "file_extension": ".py",
   "mimetype": "text/x-python",
   "name": "python",
   "nbconvert_exporter": "python",
   "pygments_lexer": "ipython3",
   "version": "3.11.3"
  }
 },
 "nbformat": 4,
 "nbformat_minor": 0
}
