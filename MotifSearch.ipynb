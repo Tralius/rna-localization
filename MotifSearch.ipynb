{
 "cells": [
  {
   "cell_type": "code",
   "execution_count": 5,
   "outputs": [],
   "source": [
    "import pandas as pd\n",
    "import numpy as np\n",
    "import matplotlib.pyplot as plt\n",
    "import random\n",
    "from metrics import Pearson\n",
    "from collections import OrderedDict\n",
    "from keras.utils import to_categorical\n",
    "from keras.models import load_model\n",
    "from utils import prepare_data\n",
    "from dataloaders import GeneDataLoader\n",
    "\n",
    "\n"
   ],
   "metadata": {
    "collapsed": false,
    "ExecuteTime": {
     "end_time": "2023-07-16T22:57:45.289721Z",
     "start_time": "2023-07-16T22:57:45.284153700Z"
    }
   }
  },
  {
   "cell_type": "code",
   "execution_count": 23,
   "outputs": [],
   "source": [
    "def one_hot_emb(data: pd.DataFrame) -> pd.DataFrame:\n",
    "    mapping = {\n",
    "        'A': 0,\n",
    "        'C': 1,\n",
    "        'G': 2,\n",
    "        'T': 3\n",
    "    }\n",
    "    one_hot_encode_lam = lambda seq: to_categorical([mapping[x] for x in seq])\n",
    "    return data.apply(one_hot_encode_lam)\n",
    "\n",
    "def exclude_zero_gradients(gradient):\n",
    "    value = np.sum(gradient)\n",
    "    return value is None or value == 0.0"
   ],
   "metadata": {
    "collapsed": false,
    "ExecuteTime": {
     "end_time": "2023-07-16T23:10:22.344256300Z",
     "start_time": "2023-07-16T23:10:22.339246100Z"
    }
   }
  },
  {
   "cell_type": "code",
   "execution_count": 3,
   "outputs": [],
   "source": [
    "\"\"\"\n",
    "    Integrated Gradients\n",
    "\"\"\"\n",
    "from motif_search import motif_utilities\n",
    "\n",
    "model_name = \"Baseline_no_struct\"\n",
    "\n",
    "model = load_model(f'trained_models/{model_name}.h5',compile=False)\n",
    "\n",
    "struct = False\n",
    "\n",
    "m6A = False"
   ],
   "metadata": {
    "collapsed": false,
    "ExecuteTime": {
     "end_time": "2023-07-16T22:57:01.771581600Z",
     "start_time": "2023-07-16T22:57:01.508668800Z"
    }
   }
  },
  {
   "cell_type": "code",
   "execution_count": 12,
   "outputs": [],
   "source": [
    "train_data, valid_data, test_data = prepare_data()\n",
    "\n",
    "max_seq_len = train_data['seq'].apply(lambda x: len(x)).max()\n",
    "\n",
    "dataloader = GeneDataLoader(train_data, shuffle=False, padding_length=max_seq_len, struct=False, m6A=False)\n",
    "\n",
    "compartments = [\"ERM\", \"KDEL\", \"LMA\", \"MITO\", \"NES\", \"NIK\", \"NLS\", \"NUCP\", \"OMM\"]\n",
    "\n",
    "data_split_in_compartments = {\n",
    "    \"ERM\": [],\n",
    "    \"KDEL\": [],\n",
    "    \"LMA\": [],\n",
    "    \"MITO\": [],\n",
    "    \"NES\": [],\n",
    "    \"NIK\": [],\n",
    "    \"NLS\": [],\n",
    "    \"NUCP\": [],\n",
    "    \"OMM\": [],\n",
    "}\n",
    "\n",
    "# Add the compartments in their respective cluster\n",
    "for x_batch, y_batch in dataloader:\n",
    "    for i in range(len(y_batch)):\n",
    "        index = y_batch[i].argmax(axis=0)\n",
    "        data_split_in_compartments[compartments[index]].append(x_batch[0][i])"
   ],
   "metadata": {
    "collapsed": false,
    "ExecuteTime": {
     "end_time": "2023-07-16T23:01:17.749574100Z",
     "start_time": "2023-07-16T23:01:03.894492800Z"
    }
   }
  },
  {
   "cell_type": "code",
   "execution_count": null,
   "outputs": [],
   "source": [
    "# Plot distribution of most likely compartment\n",
    "\n",
    "compartment_distribution = [len(data_split_in_compartments[compartment]) for compartment in data_split_in_compartments.keys()]\n",
    "\n",
    "fig = plt.figure()\n",
    "ax = fig.add_axes([0,0,1,1])\n",
    "ax.bar(compartments,compartment_distribution)\n",
    "plt.show()"
   ],
   "metadata": {
    "collapsed": false
   }
  },
  {
   "cell_type": "code",
   "execution_count": null,
   "outputs": [],
   "source": [
    "# Downsample compartments because of computational considerents\n",
    "number_of_samples = 50\n",
    "\n",
    "for compartment in data_split_in_compartments:\n",
    "    data_split_in_compartments[compartment] = random.sample(data_split_in_compartments[compartment], number_of_samples)\n",
    "    print(f\"{compartment} has len: {len(data_split_in_compartments[compartment])}\")"
   ],
   "metadata": {
    "collapsed": false
   }
  },
  {
   "cell_type": "code",
   "execution_count": null,
   "outputs": [],
   "source": [
    "\"\"\"\n",
    "    Compute and Plot Gradients\n",
    "\"\"\"\n",
    "\n",
    "selected_compartments = [\"ERM\"]\n",
    "\n",
    "start_index = max_seq_len - 100\n",
    "\n",
    "for compartment in data_split_in_compartments:\n",
    "    if compartment in selected_compartments:\n",
    "        print(f\"Computing gradient of - {compartment}\")\n",
    "        compartment_data = data_split_in_compartments[compartment]\n",
    "        gradient_of_compartment = motif_utilities.get_gradients(model, compartment_data)\n",
    "\n",
    "        for i in range(len(compartment_data)):\n",
    "            if not exclude_zero_gradients(gradient_of_compartment[i][start_index:]):\n",
    "                # motif_utilities.plot_weights(compartment_data[i][start_index:], subticks_frequency = 10)\n",
    "                motif_utilities.plot_weights(gradient_of_compartment[i][start_index:], subticks_frequency=10)"
   ],
   "metadata": {
    "collapsed": false
   }
  },
  {
   "cell_type": "markdown",
   "source": [],
   "metadata": {
    "collapsed": false
   }
  }
 ],
 "metadata": {
  "colab": {
   "authorship_tag": "ABX9TyMPQdX4cOoZzqVG2F9xuy/Y",
   "provenance": []
  },
  "kernelspec": {
   "name": "python3",
   "language": "python",
   "display_name": "Python 3 (ipykernel)"
  },
  "language_info": {
   "codemirror_mode": {
    "name": "ipython",
    "version": 3
   },
   "file_extension": ".py",
   "mimetype": "text/x-python",
   "name": "python",
   "nbconvert_exporter": "python",
   "pygments_lexer": "ipython3",
   "version": "3.11.3"
  }
 },
 "nbformat": 4,
 "nbformat_minor": 0
}
