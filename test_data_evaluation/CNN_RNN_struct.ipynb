{
 "cells": [
  {
   "cell_type": "code",
   "execution_count": 13,
   "metadata": {},
   "outputs": [],
   "source": [
    "from keras.models import load_model\n",
    "from metrics import Pearson\n",
    "from utils import prepare_data\n",
    "import tensorflow_probability as tfp\n",
    "import tensorflow as tf\n",
    "import numpy as np\n",
    "from dataloaders import GeneDataLoader"
   ]
  },
  {
   "cell_type": "code",
   "execution_count": 14,
   "metadata": {},
   "outputs": [],
   "source": [
    "train_data, valid_data, test_data = prepare_data()"
   ]
  },
  {
   "cell_type": "code",
   "execution_count": 15,
   "metadata": {},
   "outputs": [
    {
     "name": "stderr",
     "output_type": "stream",
     "text": [
      "WARNING:absl:At this time, the v2.11+ optimizer `tf.keras.optimizers.Adam` runs slowly on M1/M2 Macs, please use the legacy Keras optimizer instead, located at `tf.keras.optimizers.legacy.Adam`.\n",
      "WARNING:absl:There is a known slowdown when using v2.11+ Keras optimizers on M1/M2 Macs. Falling back to the legacy Keras optimizer, i.e., `tf.keras.optimizers.legacy.Adam`.\n"
     ]
    },
    {
     "name": "stdout",
     "output_type": "stream",
     "text": [
      "WARNING:tensorflow:Error in loading the saved optimizer state. As a result, your model is starting with a freshly initialized optimizer.\n"
     ]
    },
    {
     "name": "stderr",
     "output_type": "stream",
     "text": [
      "WARNING:tensorflow:Error in loading the saved optimizer state. As a result, your model is starting with a freshly initialized optimizer.\n"
     ]
    }
   ],
   "source": [
    "model = load_model('/Users/jonasflor/Downloads/CNN_RNN_struct.h5',\n",
    "                   custom_objects={'Pearson': Pearson})"
   ]
  },
  {
   "cell_type": "code",
   "execution_count": 16,
   "metadata": {},
   "outputs": [
    {
     "name": "stdout",
     "output_type": "stream",
     "text": [
      "1/1 [==============================] - 1s 589ms/step\n",
      "1/1 [==============================] - 0s 343ms/step\n",
      "1/1 [==============================] - 0s 352ms/step\n",
      "1/1 [==============================] - 0s 359ms/step\n",
      "1/1 [==============================] - 0s 361ms/step\n",
      "1/1 [==============================] - 0s 349ms/step\n",
      "1/1 [==============================] - 0s 346ms/step\n",
      "1/1 [==============================] - 0s 344ms/step\n",
      "1/1 [==============================] - 0s 347ms/step\n",
      "1/1 [==============================] - 0s 350ms/step\n",
      "1/1 [==============================] - 0s 353ms/step\n",
      "1/1 [==============================] - 0s 355ms/step\n",
      "1/1 [==============================] - 0s 353ms/step\n",
      "1/1 [==============================] - 0s 358ms/step\n",
      "1/1 [==============================] - 0s 358ms/step\n",
      "1/1 [==============================] - 0s 351ms/step\n",
      "1/1 [==============================] - 0s 353ms/step\n",
      "1/1 [==============================] - 0s 350ms/step\n",
      "1/1 [==============================] - 0s 349ms/step\n",
      "1/1 [==============================] - 0s 339ms/step\n",
      "1/1 [==============================] - 0s 366ms/step\n",
      "1/1 [==============================] - 0s 367ms/step\n",
      "1/1 [==============================] - 0s 363ms/step\n",
      "1/1 [==============================] - 0s 353ms/step\n",
      "1/1 [==============================] - 0s 357ms/step\n",
      "1/1 [==============================] - 0s 351ms/step\n",
      "1/1 [==============================] - 0s 356ms/step\n",
      "1/1 [==============================] - 0s 355ms/step\n",
      "1/1 [==============================] - 0s 354ms/step\n",
      "1/1 [==============================] - 0s 354ms/step\n",
      "1/1 [==============================] - 0s 355ms/step\n",
      "1/1 [==============================] - 0s 351ms/step\n",
      "1/1 [==============================] - 0s 353ms/step\n",
      "1/1 [==============================] - 0s 348ms/step\n",
      "1/1 [==============================] - 0s 352ms/step\n",
      "1/1 [==============================] - 0s 355ms/step\n",
      "1/1 [==============================] - 0s 352ms/step\n",
      "1/1 [==============================] - 0s 356ms/step\n",
      "1/1 [==============================] - 0s 350ms/step\n",
      "1/1 [==============================] - 0s 350ms/step\n",
      "1/1 [==============================] - 0s 350ms/step\n",
      "1/1 [==============================] - 0s 353ms/step\n",
      "1/1 [==============================] - 0s 351ms/step\n",
      "1/1 [==============================] - 0s 441ms/step\n"
     ]
    }
   ],
   "source": [
    "dataloader = GeneDataLoader(test_data, padding_length=train_data['seq'].apply(lambda x: len(x)).max(), shuffle=False, struct=True)\n",
    "\n",
    "prediction = []\n",
    "y_test = []\n",
    "\n",
    "for i, j in dataloader:\n",
    "    prediction.append(model.predict(np.delete(i[0], 5, axis=2)))\n",
    "    y_test.append(j)\n",
    "\n",
    "prediction = np.concatenate(prediction)\n",
    "y_test = np.concatenate(y_test)"
   ]
  },
  {
   "cell_type": "code",
   "execution_count": 17,
   "metadata": {},
   "outputs": [],
   "source": [
    "def pearson_dict(y_true, y_pred):\n",
    "    y_true_std = tfp.stats.stddev(y_true, sample_axis=0, keepdims=True)\n",
    "    y_pred_std = tfp.stats.stddev(y_pred, sample_axis=0, keepdims=True)\n",
    "    \n",
    "    y_true /= (y_true_std + 1e-3)\n",
    "    y_pred /= (y_pred_std + 1e-3)\n",
    "    \n",
    "    result = tfp.stats.covariance(x=y_true,\n",
    "                                y=y_pred,\n",
    "                                event_axis=None,\n",
    "                                sample_axis=0,\n",
    "                                keepdims=False)\n",
    "    res_dict = {}\n",
    "    res_dict['ERM'] = result[0]\n",
    "    res_dict['KDEL'] = result[1]\n",
    "    res_dict['LMA'] = result[2]\n",
    "    res_dict['MITO'] = result[3]\n",
    "    res_dict['NES'] = result[4]\n",
    "    res_dict['NIK'] = result[5]\n",
    "    res_dict['NLS'] = result[6]\n",
    "    res_dict['NUCP'] = result[7]\n",
    "    res_dict['OMM'] = result[8]\n",
    "    return res_dict"
   ]
  },
  {
   "cell_type": "code",
   "execution_count": 18,
   "metadata": {},
   "outputs": [
    {
     "data": {
      "text/plain": [
       "{'ERM': <tf.Tensor: shape=(), dtype=float32, numpy=0.3086585>,\n",
       " 'KDEL': <tf.Tensor: shape=(), dtype=float32, numpy=0.3193934>,\n",
       " 'LMA': <tf.Tensor: shape=(), dtype=float32, numpy=0.13227881>,\n",
       " 'MITO': <tf.Tensor: shape=(), dtype=float32, numpy=0.10062698>,\n",
       " 'NES': <tf.Tensor: shape=(), dtype=float32, numpy=0.14324427>,\n",
       " 'NIK': <tf.Tensor: shape=(), dtype=float32, numpy=0.20877878>,\n",
       " 'NLS': <tf.Tensor: shape=(), dtype=float32, numpy=0.16473629>,\n",
       " 'NUCP': <tf.Tensor: shape=(), dtype=float32, numpy=0.18111092>,\n",
       " 'OMM': <tf.Tensor: shape=(), dtype=float32, numpy=0.11417805>}"
      ]
     },
     "execution_count": 18,
     "metadata": {},
     "output_type": "execute_result"
    }
   ],
   "source": [
    "pearson_dict(y_test, prediction)"
   ]
  },
  {
   "cell_type": "code",
   "execution_count": null,
   "metadata": {},
   "outputs": [],
   "source": []
  }
 ],
 "metadata": {
  "kernelspec": {
   "display_name": "rna_localization",
   "language": "python",
   "name": "python3"
  },
  "language_info": {
   "codemirror_mode": {
    "name": "ipython",
    "version": 3
   },
   "file_extension": ".py",
   "mimetype": "text/x-python",
   "name": "python",
   "nbconvert_exporter": "python",
   "pygments_lexer": "ipython3",
   "version": "3.11.3"
  },
  "orig_nbformat": 4
 },
 "nbformat": 4,
 "nbformat_minor": 2
}
