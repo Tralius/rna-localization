{
 "cells": [
  {
   "cell_type": "code",
   "execution_count": 1,
   "metadata": {},
   "outputs": [],
   "source": [
    "from keras.models import load_model\n",
    "from metrics import Pearson\n",
    "from utils import prepare_data\n",
    "import tensorflow_probability as tfp\n",
    "import tensorflow as tf\n",
    "import numpy as np\n",
    "from dataloaders import GeneDataLoader"
   ]
  },
  {
   "cell_type": "code",
   "execution_count": 2,
   "metadata": {},
   "outputs": [],
   "source": [
    "train_data, valid_data, test_data = prepare_data()"
   ]
  },
  {
   "cell_type": "code",
   "execution_count": 3,
   "metadata": {},
   "outputs": [
    {
     "name": "stderr",
     "output_type": "stream",
     "text": [
      "WARNING:absl:At this time, the v2.11+ optimizer `tf.keras.optimizers.Adam` runs slowly on M1/M2 Macs, please use the legacy Keras optimizer instead, located at `tf.keras.optimizers.legacy.Adam`.\n",
      "WARNING:absl:There is a known slowdown when using v2.11+ Keras optimizers on M1/M2 Macs. Falling back to the legacy Keras optimizer, i.e., `tf.keras.optimizers.legacy.Adam`.\n"
     ]
    },
    {
     "name": "stdout",
     "output_type": "stream",
     "text": [
      "WARNING:tensorflow:Error in loading the saved optimizer state. As a result, your model is starting with a freshly initialized optimizer.\n"
     ]
    },
    {
     "name": "stderr",
     "output_type": "stream",
     "text": [
      "WARNING:tensorflow:Error in loading the saved optimizer state. As a result, your model is starting with a freshly initialized optimizer.\n"
     ]
    }
   ],
   "source": [
    "model = load_model('/Users/jonasflor/Downloads/CNN_RNN_m6A.h5',\n",
    "                   custom_objects={'Pearson': Pearson})"
   ]
  },
  {
   "cell_type": "code",
   "execution_count": 4,
   "metadata": {},
   "outputs": [
    {
     "name": "stdout",
     "output_type": "stream",
     "text": [
      "1/1 [==============================] - 1s 563ms/step\n",
      "1/1 [==============================] - 0s 373ms/step\n",
      "1/1 [==============================] - 0s 377ms/step\n",
      "1/1 [==============================] - 0s 397ms/step\n",
      "1/1 [==============================] - 0s 396ms/step\n",
      "1/1 [==============================] - 0s 394ms/step\n",
      "1/1 [==============================] - 0s 402ms/step\n",
      "1/1 [==============================] - 0s 376ms/step\n",
      "1/1 [==============================] - 0s 386ms/step\n",
      "1/1 [==============================] - 0s 380ms/step\n",
      "1/1 [==============================] - 0s 387ms/step\n",
      "1/1 [==============================] - 0s 389ms/step\n",
      "1/1 [==============================] - 0s 396ms/step\n",
      "1/1 [==============================] - 0s 386ms/step\n",
      "1/1 [==============================] - 0s 389ms/step\n",
      "1/1 [==============================] - 0s 378ms/step\n",
      "1/1 [==============================] - 0s 405ms/step\n",
      "1/1 [==============================] - 0s 394ms/step\n",
      "1/1 [==============================] - 0s 384ms/step\n",
      "1/1 [==============================] - 0s 404ms/step\n",
      "1/1 [==============================] - 0s 402ms/step\n",
      "1/1 [==============================] - 0s 391ms/step\n",
      "1/1 [==============================] - 0s 385ms/step\n",
      "1/1 [==============================] - 0s 454ms/step\n",
      "1/1 [==============================] - 0s 358ms/step\n",
      "1/1 [==============================] - 0s 386ms/step\n",
      "1/1 [==============================] - 0s 384ms/step\n",
      "1/1 [==============================] - 0s 392ms/step\n",
      "1/1 [==============================] - 0s 390ms/step\n",
      "1/1 [==============================] - 0s 383ms/step\n",
      "1/1 [==============================] - 0s 384ms/step\n",
      "1/1 [==============================] - 0s 380ms/step\n",
      "1/1 [==============================] - 0s 385ms/step\n",
      "1/1 [==============================] - 0s 380ms/step\n",
      "1/1 [==============================] - 0s 389ms/step\n",
      "1/1 [==============================] - 0s 384ms/step\n",
      "1/1 [==============================] - 0s 385ms/step\n",
      "1/1 [==============================] - 0s 387ms/step\n",
      "1/1 [==============================] - 0s 388ms/step\n",
      "1/1 [==============================] - 0s 384ms/step\n",
      "1/1 [==============================] - 0s 377ms/step\n",
      "1/1 [==============================] - 0s 383ms/step\n",
      "1/1 [==============================] - 0s 387ms/step\n",
      "1/1 [==============================] - 0s 379ms/step\n"
     ]
    }
   ],
   "source": [
    "dataloader = GeneDataLoader(test_data, padding_length=train_data['seq'].apply(lambda x: len(x)).max(), shuffle=False, struct=True)\n",
    "\n",
    "prediction = []\n",
    "y_test = []\n",
    "\n",
    "for i, j in dataloader:\n",
    "    i_0 = np.delete(i[0], 5, axis=2)\n",
    "    i_1 = i[1]\n",
    "    prediction.append(model.predict([i_0, i_1]))\n",
    "    y_test.append(j)\n",
    "\n",
    "prediction = np.concatenate(prediction)\n",
    "y_test = np.concatenate(y_test)"
   ]
  },
  {
   "cell_type": "code",
   "execution_count": 5,
   "metadata": {},
   "outputs": [],
   "source": [
    "def pearson_dict(y_true, y_pred):\n",
    "    y_true_std = tfp.stats.stddev(y_true, sample_axis=0, keepdims=True)\n",
    "    y_pred_std = tfp.stats.stddev(y_pred, sample_axis=0, keepdims=True)\n",
    "    \n",
    "    y_true /= (y_true_std + 1e-3)\n",
    "    y_pred /= (y_pred_std + 1e-3)\n",
    "    \n",
    "    result = tfp.stats.covariance(x=y_true,\n",
    "                                y=y_pred,\n",
    "                                event_axis=None,\n",
    "                                sample_axis=0,\n",
    "                                keepdims=False)\n",
    "    res_dict = {}\n",
    "    res_dict['ERM'] = result[0]\n",
    "    res_dict['KDEL'] = result[1]\n",
    "    res_dict['LMA'] = result[2]\n",
    "    res_dict['MITO'] = result[3]\n",
    "    res_dict['NES'] = result[4]\n",
    "    res_dict['NIK'] = result[5]\n",
    "    res_dict['NLS'] = result[6]\n",
    "    res_dict['NUCP'] = result[7]\n",
    "    res_dict['OMM'] = result[8]\n",
    "    return res_dict"
   ]
  },
  {
   "cell_type": "code",
   "execution_count": 6,
   "metadata": {},
   "outputs": [
    {
     "data": {
      "text/plain": [
       "{'ERM': <tf.Tensor: shape=(), dtype=float32, numpy=0.31705084>,\n",
       " 'KDEL': <tf.Tensor: shape=(), dtype=float32, numpy=0.333713>,\n",
       " 'LMA': <tf.Tensor: shape=(), dtype=float32, numpy=0.0905963>,\n",
       " 'MITO': <tf.Tensor: shape=(), dtype=float32, numpy=0.12008094>,\n",
       " 'NES': <tf.Tensor: shape=(), dtype=float32, numpy=0.13574183>,\n",
       " 'NIK': <tf.Tensor: shape=(), dtype=float32, numpy=0.19462313>,\n",
       " 'NLS': <tf.Tensor: shape=(), dtype=float32, numpy=0.16638117>,\n",
       " 'NUCP': <tf.Tensor: shape=(), dtype=float32, numpy=0.19567263>,\n",
       " 'OMM': <tf.Tensor: shape=(), dtype=float32, numpy=0.1219346>}"
      ]
     },
     "execution_count": 6,
     "metadata": {},
     "output_type": "execute_result"
    }
   ],
   "source": [
    "pearson_dict(y_test, prediction)"
   ]
  },
  {
   "cell_type": "code",
   "execution_count": null,
   "metadata": {},
   "outputs": [],
   "source": []
  }
 ],
 "metadata": {
  "kernelspec": {
   "display_name": "rna_localization",
   "language": "python",
   "name": "python3"
  },
  "language_info": {
   "codemirror_mode": {
    "name": "ipython",
    "version": 3
   },
   "file_extension": ".py",
   "mimetype": "text/x-python",
   "name": "python",
   "nbconvert_exporter": "python",
   "pygments_lexer": "ipython3",
   "version": "3.11.3"
  },
  "orig_nbformat": 4
 },
 "nbformat": 4,
 "nbformat_minor": 2
}
