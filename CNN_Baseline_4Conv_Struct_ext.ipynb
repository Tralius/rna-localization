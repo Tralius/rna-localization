{
 "cells": [
  {
   "attachments": {},
   "cell_type": "markdown",
   "metadata": {},
   "source": [
    "# Regular Genomics Project **RNA Localisation**\n"
   ]
  },
  {
   "cell_type": "code",
   "execution_count": null,
   "metadata": {
    "ExecuteTime": {
     "end_time": "2023-07-02T23:47:52.277481Z",
     "start_time": "2023-07-02T23:47:48.982998Z"
    }
   },
   "outputs": [],
   "source": [
    "from plotting import plot_line_graph, multiplot_pearson\n",
    "from metrics import Pearson\n",
    "from models import CNN\n",
    "from utils import prepare_data, set_variables\n",
    "import matplotlib.pyplot as plt\n",
    "from keras.callbacks import EarlyStopping"
   ]
  },
  {
   "attachments": {},
   "cell_type": "markdown",
   "metadata": {},
   "source": [
    "### **1.** Data Preparation\n",
    "\n",
    "Firstly, we import several necessary packages and load in our data:"
   ]
  },
  {
   "cell_type": "code",
   "execution_count": null,
   "metadata": {
    "ExecuteTime": {
     "end_time": "2023-07-02T23:47:54.473100Z",
     "start_time": "2023-07-02T23:47:52.279119Z"
    }
   },
   "outputs": [],
   "source": [
    "train_data, valid_data, test_data = prepare_data()"
   ]
  },
  {
   "attachments": {},
   "cell_type": "markdown",
   "metadata": {},
   "source": [
    "### **2** |  Initializations\n",
    "\n",
    "We use as baseline model the [RNATracker](https://github.com/HarveyYan/RNATracker/blob/master/Models/cnn_bilstm_attention.py) model and a CNN model.\n"
   ]
  },
  {
   "cell_type": "code",
   "execution_count": null,
   "metadata": {
    "ExecuteTime": {
     "end_time": "2023-07-03T00:15:39.373703Z",
     "start_time": "2023-07-03T00:15:39.365237Z"
    }
   },
   "outputs": [],
   "source": [
    "max_seq_len = train_data['seq'].apply(lambda x: len(x)).max()\n",
    "model_name = 'CNN_Baseline_4Conv_Struct_ext'\n",
    "model_architecture_path, model_output_path, params_dataLoader_train, params_dataLoader_valid, params_model, params_train = set_variables(model_name, max_seq_len)"
   ]
  },
  {
   "cell_type": "code",
   "execution_count": null,
   "metadata": {
    "ExecuteTime": {
     "end_time": "2023-07-03T00:15:40.676160Z",
     "start_time": "2023-07-03T00:15:40.238996Z"
    }
   },
   "outputs": [],
   "source": [
    "model = CNN(input_size=(max_seq_len, 6),\n",
    "            params_model=params_model,\n",
    "            metrics=[Pearson(return_dict=True)]\n",
    "            )\n",
    "\n",
    "model.print_model()\n",
    "# model.summary() #if information about number of params needed"
   ]
  },
  {
   "cell_type": "code",
   "execution_count": null,
   "metadata": {},
   "outputs": [],
   "source": [
    "model.summary()"
   ]
  },
  {
   "cell_type": "code",
   "execution_count": null,
   "metadata": {
    "ExecuteTime": {
     "end_time": "2023-07-03T05:01:09.997662Z",
     "start_time": "2023-07-03T00:15:40.814783Z"
    }
   },
   "outputs": [],
   "source": [
    "history = model.fit_and_evaluate(train_data=train_data, eval_data=valid_data,\n",
    "                                 params_train_dataLoader=params_dataLoader_train,\n",
    "                                 params_eval_dataLoader=params_dataLoader_valid,\n",
    "                                 params_train=params_train,\n",
    "                                 callback=[EarlyStopping(monitor='loss', patience=2)])"
   ]
  },
  {
   "cell_type": "code",
   "execution_count": null,
   "metadata": {},
   "outputs": [],
   "source": [
    "plt_data = [history.history['loss'], history.history['val_loss']]\n",
    "plot_line_graph(plt_data, \"Loss Graph\", 'loss', 'epoch', ['train', 'val'])\n",
    "\n",
    "multiplot_pearson(history.history)\n",
    "plt.legend(bbox_to_anchor=(1.02, 1), loc='upper left', borderaxespad=0)"
   ]
  },
  {
   "cell_type": "code",
   "execution_count": null,
   "metadata": {
    "ExecuteTime": {
     "end_time": "2023-07-03T07:20:27.742068Z",
     "start_time": "2023-07-03T07:20:26.955094Z"
    },
    "collapsed": false
   },
   "outputs": [],
   "source": [
    "model.print_model(model_architecture_path)\n",
    "#model.save_model(model_output_path)"
   ]
  },
  {
   "cell_type": "code",
   "execution_count": null,
   "metadata": {
    "collapsed": false
   },
   "outputs": [],
   "source": [
    "model.save_model(model_output_path)"
   ]
  },
  {
   "cell_type": "code",
   "execution_count": null,
   "metadata": {},
   "outputs": [],
   "source": []
  }
 ],
 "metadata": {
  "kernelspec": {
   "display_name": "rna_localization",
   "language": "python",
   "name": "python3"
  },
  "language_info": {
   "codemirror_mode": {
    "name": "ipython",
    "version": 3
   },
   "file_extension": ".py",
   "mimetype": "text/x-python",
   "name": "python",
   "nbconvert_exporter": "python",
   "pygments_lexer": "ipython3",
   "version": "3.11.3"
  },
  "orig_nbformat": 4
 },
 "nbformat": 4,
 "nbformat_minor": 2
}
